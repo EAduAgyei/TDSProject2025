{
 "cells": [
  {
   "cell_type": "markdown",
   "id": "173a2c02-c941-4008-8c6f-482eff7d7030",
   "metadata": {},
   "source": [
    "### Name: Eunice Adu-Agyei"
   ]
  },
  {
   "cell_type": "code",
   "execution_count": 1,
   "id": "708cc657-cbb6-4a3f-9146-edcd154c78ec",
   "metadata": {},
   "outputs": [],
   "source": [
    "import matplotlib.pyplot as plt\n",
    "import pandas as pd\n",
    "import statsmodels.formula.api as smf\n",
    "import seaborn as sns\n",
    "import numpy as np\n",
    "from sklearn.model_selection import train_test_split\n",
    "from sklearn.preprocessing import PolynomialFeatures\n",
    "from sklearn.linear_model import LinearRegression\n",
    "from sklearn.metrics import mean_squared_error\n",
    "from sklearn.tree import DecisionTreeRegressor\n",
    "from sklearn.tree import export_graphviz\n",
    "from sklearn.metrics import confusion_matrix\n",
    "from sklearn.neighbors import KNeighborsRegressor\n",
    "from sklearn.preprocessing import MinMaxScaler\n",
    "import statsmodels.formula.api as smf\n",
    "from scipy.special import expit\n",
    "from scipy.stats import logistic\n",
    "from sklearn.tree import DecisionTreeClassifier\n",
    "from sklearn.ensemble import RandomForestClassifier\n",
    "from sklearn.neighbors import KNeighborsClassifier"
   ]
  },
  {
   "cell_type": "code",
   "execution_count": 2,
   "id": "21dc5aa4-4102-496e-bee7-a2bebde38969",
   "metadata": {},
   "outputs": [
    {
     "data": {
      "text/html": [
       "<div>\n",
       "<style scoped>\n",
       "    .dataframe tbody tr th:only-of-type {\n",
       "        vertical-align: middle;\n",
       "    }\n",
       "\n",
       "    .dataframe tbody tr th {\n",
       "        vertical-align: top;\n",
       "    }\n",
       "\n",
       "    .dataframe thead th {\n",
       "        text-align: right;\n",
       "    }\n",
       "</style>\n",
       "<table border=\"1\" class=\"dataframe\">\n",
       "  <thead>\n",
       "    <tr style=\"text-align: right;\">\n",
       "      <th></th>\n",
       "      <th>id</th>\n",
       "      <th>Gender</th>\n",
       "      <th>Age</th>\n",
       "      <th>City</th>\n",
       "      <th>Profession</th>\n",
       "      <th>Academic Pressure</th>\n",
       "      <th>Work Pressure</th>\n",
       "      <th>CGPA</th>\n",
       "      <th>Study Satisfaction</th>\n",
       "      <th>Job Satisfaction</th>\n",
       "      <th>Sleep Duration</th>\n",
       "      <th>Dietary Habits</th>\n",
       "      <th>Degree</th>\n",
       "      <th>Have you ever had suicidal thoughts ?</th>\n",
       "      <th>Work/Study Hours</th>\n",
       "      <th>Financial Stress</th>\n",
       "      <th>Family History of Mental Illness</th>\n",
       "      <th>Depression</th>\n",
       "    </tr>\n",
       "  </thead>\n",
       "  <tbody>\n",
       "    <tr>\n",
       "      <th>0</th>\n",
       "      <td>2</td>\n",
       "      <td>Male</td>\n",
       "      <td>33.0</td>\n",
       "      <td>Visakhapatnam</td>\n",
       "      <td>Student</td>\n",
       "      <td>5.0</td>\n",
       "      <td>0.0</td>\n",
       "      <td>8.97</td>\n",
       "      <td>2.0</td>\n",
       "      <td>0.0</td>\n",
       "      <td>5-6 hours</td>\n",
       "      <td>Healthy</td>\n",
       "      <td>B.Pharm</td>\n",
       "      <td>Yes</td>\n",
       "      <td>3.0</td>\n",
       "      <td>1.0</td>\n",
       "      <td>No</td>\n",
       "      <td>1</td>\n",
       "    </tr>\n",
       "    <tr>\n",
       "      <th>1</th>\n",
       "      <td>8</td>\n",
       "      <td>Female</td>\n",
       "      <td>24.0</td>\n",
       "      <td>Bangalore</td>\n",
       "      <td>Student</td>\n",
       "      <td>2.0</td>\n",
       "      <td>0.0</td>\n",
       "      <td>5.90</td>\n",
       "      <td>5.0</td>\n",
       "      <td>0.0</td>\n",
       "      <td>5-6 hours</td>\n",
       "      <td>Moderate</td>\n",
       "      <td>BSc</td>\n",
       "      <td>No</td>\n",
       "      <td>3.0</td>\n",
       "      <td>2.0</td>\n",
       "      <td>Yes</td>\n",
       "      <td>0</td>\n",
       "    </tr>\n",
       "    <tr>\n",
       "      <th>2</th>\n",
       "      <td>26</td>\n",
       "      <td>Male</td>\n",
       "      <td>31.0</td>\n",
       "      <td>Srinagar</td>\n",
       "      <td>Student</td>\n",
       "      <td>3.0</td>\n",
       "      <td>0.0</td>\n",
       "      <td>7.03</td>\n",
       "      <td>5.0</td>\n",
       "      <td>0.0</td>\n",
       "      <td>Less than 5 hours</td>\n",
       "      <td>Healthy</td>\n",
       "      <td>BA</td>\n",
       "      <td>No</td>\n",
       "      <td>9.0</td>\n",
       "      <td>1.0</td>\n",
       "      <td>Yes</td>\n",
       "      <td>0</td>\n",
       "    </tr>\n",
       "    <tr>\n",
       "      <th>3</th>\n",
       "      <td>30</td>\n",
       "      <td>Female</td>\n",
       "      <td>28.0</td>\n",
       "      <td>Varanasi</td>\n",
       "      <td>Student</td>\n",
       "      <td>3.0</td>\n",
       "      <td>0.0</td>\n",
       "      <td>5.59</td>\n",
       "      <td>2.0</td>\n",
       "      <td>0.0</td>\n",
       "      <td>7-8 hours</td>\n",
       "      <td>Moderate</td>\n",
       "      <td>BCA</td>\n",
       "      <td>Yes</td>\n",
       "      <td>4.0</td>\n",
       "      <td>5.0</td>\n",
       "      <td>Yes</td>\n",
       "      <td>1</td>\n",
       "    </tr>\n",
       "    <tr>\n",
       "      <th>4</th>\n",
       "      <td>32</td>\n",
       "      <td>Female</td>\n",
       "      <td>25.0</td>\n",
       "      <td>Jaipur</td>\n",
       "      <td>Student</td>\n",
       "      <td>4.0</td>\n",
       "      <td>0.0</td>\n",
       "      <td>8.13</td>\n",
       "      <td>3.0</td>\n",
       "      <td>0.0</td>\n",
       "      <td>5-6 hours</td>\n",
       "      <td>Moderate</td>\n",
       "      <td>M.Tech</td>\n",
       "      <td>Yes</td>\n",
       "      <td>1.0</td>\n",
       "      <td>1.0</td>\n",
       "      <td>No</td>\n",
       "      <td>0</td>\n",
       "    </tr>\n",
       "    <tr>\n",
       "      <th>...</th>\n",
       "      <td>...</td>\n",
       "      <td>...</td>\n",
       "      <td>...</td>\n",
       "      <td>...</td>\n",
       "      <td>...</td>\n",
       "      <td>...</td>\n",
       "      <td>...</td>\n",
       "      <td>...</td>\n",
       "      <td>...</td>\n",
       "      <td>...</td>\n",
       "      <td>...</td>\n",
       "      <td>...</td>\n",
       "      <td>...</td>\n",
       "      <td>...</td>\n",
       "      <td>...</td>\n",
       "      <td>...</td>\n",
       "      <td>...</td>\n",
       "      <td>...</td>\n",
       "    </tr>\n",
       "    <tr>\n",
       "      <th>27896</th>\n",
       "      <td>140685</td>\n",
       "      <td>Female</td>\n",
       "      <td>27.0</td>\n",
       "      <td>Surat</td>\n",
       "      <td>Student</td>\n",
       "      <td>5.0</td>\n",
       "      <td>0.0</td>\n",
       "      <td>5.75</td>\n",
       "      <td>5.0</td>\n",
       "      <td>0.0</td>\n",
       "      <td>5-6 hours</td>\n",
       "      <td>Unhealthy</td>\n",
       "      <td>Class 12</td>\n",
       "      <td>Yes</td>\n",
       "      <td>7.0</td>\n",
       "      <td>1.0</td>\n",
       "      <td>Yes</td>\n",
       "      <td>0</td>\n",
       "    </tr>\n",
       "    <tr>\n",
       "      <th>27897</th>\n",
       "      <td>140686</td>\n",
       "      <td>Male</td>\n",
       "      <td>27.0</td>\n",
       "      <td>Ludhiana</td>\n",
       "      <td>Student</td>\n",
       "      <td>2.0</td>\n",
       "      <td>0.0</td>\n",
       "      <td>9.40</td>\n",
       "      <td>3.0</td>\n",
       "      <td>0.0</td>\n",
       "      <td>Less than 5 hours</td>\n",
       "      <td>Healthy</td>\n",
       "      <td>MSc</td>\n",
       "      <td>No</td>\n",
       "      <td>0.0</td>\n",
       "      <td>3.0</td>\n",
       "      <td>Yes</td>\n",
       "      <td>0</td>\n",
       "    </tr>\n",
       "    <tr>\n",
       "      <th>27898</th>\n",
       "      <td>140689</td>\n",
       "      <td>Male</td>\n",
       "      <td>31.0</td>\n",
       "      <td>Faridabad</td>\n",
       "      <td>Student</td>\n",
       "      <td>3.0</td>\n",
       "      <td>0.0</td>\n",
       "      <td>6.61</td>\n",
       "      <td>4.0</td>\n",
       "      <td>0.0</td>\n",
       "      <td>5-6 hours</td>\n",
       "      <td>Unhealthy</td>\n",
       "      <td>MD</td>\n",
       "      <td>No</td>\n",
       "      <td>12.0</td>\n",
       "      <td>2.0</td>\n",
       "      <td>No</td>\n",
       "      <td>0</td>\n",
       "    </tr>\n",
       "    <tr>\n",
       "      <th>27899</th>\n",
       "      <td>140690</td>\n",
       "      <td>Female</td>\n",
       "      <td>18.0</td>\n",
       "      <td>Ludhiana</td>\n",
       "      <td>Student</td>\n",
       "      <td>5.0</td>\n",
       "      <td>0.0</td>\n",
       "      <td>6.88</td>\n",
       "      <td>2.0</td>\n",
       "      <td>0.0</td>\n",
       "      <td>Less than 5 hours</td>\n",
       "      <td>Healthy</td>\n",
       "      <td>Class 12</td>\n",
       "      <td>Yes</td>\n",
       "      <td>10.0</td>\n",
       "      <td>5.0</td>\n",
       "      <td>No</td>\n",
       "      <td>1</td>\n",
       "    </tr>\n",
       "    <tr>\n",
       "      <th>27900</th>\n",
       "      <td>140699</td>\n",
       "      <td>Male</td>\n",
       "      <td>27.0</td>\n",
       "      <td>Patna</td>\n",
       "      <td>Student</td>\n",
       "      <td>4.0</td>\n",
       "      <td>0.0</td>\n",
       "      <td>9.24</td>\n",
       "      <td>1.0</td>\n",
       "      <td>0.0</td>\n",
       "      <td>Less than 5 hours</td>\n",
       "      <td>Healthy</td>\n",
       "      <td>BCA</td>\n",
       "      <td>Yes</td>\n",
       "      <td>2.0</td>\n",
       "      <td>3.0</td>\n",
       "      <td>Yes</td>\n",
       "      <td>1</td>\n",
       "    </tr>\n",
       "  </tbody>\n",
       "</table>\n",
       "<p>27901 rows × 18 columns</p>\n",
       "</div>"
      ],
      "text/plain": [
       "           id  Gender   Age           City Profession  Academic Pressure  \\\n",
       "0           2    Male  33.0  Visakhapatnam    Student                5.0   \n",
       "1           8  Female  24.0      Bangalore    Student                2.0   \n",
       "2          26    Male  31.0       Srinagar    Student                3.0   \n",
       "3          30  Female  28.0       Varanasi    Student                3.0   \n",
       "4          32  Female  25.0         Jaipur    Student                4.0   \n",
       "...       ...     ...   ...            ...        ...                ...   \n",
       "27896  140685  Female  27.0          Surat    Student                5.0   \n",
       "27897  140686    Male  27.0       Ludhiana    Student                2.0   \n",
       "27898  140689    Male  31.0      Faridabad    Student                3.0   \n",
       "27899  140690  Female  18.0       Ludhiana    Student                5.0   \n",
       "27900  140699    Male  27.0          Patna    Student                4.0   \n",
       "\n",
       "       Work Pressure  CGPA  Study Satisfaction  Job Satisfaction  \\\n",
       "0                0.0  8.97                 2.0               0.0   \n",
       "1                0.0  5.90                 5.0               0.0   \n",
       "2                0.0  7.03                 5.0               0.0   \n",
       "3                0.0  5.59                 2.0               0.0   \n",
       "4                0.0  8.13                 3.0               0.0   \n",
       "...              ...   ...                 ...               ...   \n",
       "27896            0.0  5.75                 5.0               0.0   \n",
       "27897            0.0  9.40                 3.0               0.0   \n",
       "27898            0.0  6.61                 4.0               0.0   \n",
       "27899            0.0  6.88                 2.0               0.0   \n",
       "27900            0.0  9.24                 1.0               0.0   \n",
       "\n",
       "          Sleep Duration Dietary Habits    Degree  \\\n",
       "0              5-6 hours        Healthy   B.Pharm   \n",
       "1              5-6 hours       Moderate       BSc   \n",
       "2      Less than 5 hours        Healthy        BA   \n",
       "3              7-8 hours       Moderate       BCA   \n",
       "4              5-6 hours       Moderate    M.Tech   \n",
       "...                  ...            ...       ...   \n",
       "27896          5-6 hours      Unhealthy  Class 12   \n",
       "27897  Less than 5 hours        Healthy       MSc   \n",
       "27898          5-6 hours      Unhealthy        MD   \n",
       "27899  Less than 5 hours        Healthy  Class 12   \n",
       "27900  Less than 5 hours        Healthy       BCA   \n",
       "\n",
       "      Have you ever had suicidal thoughts ?  Work/Study Hours  \\\n",
       "0                                       Yes               3.0   \n",
       "1                                        No               3.0   \n",
       "2                                        No               9.0   \n",
       "3                                       Yes               4.0   \n",
       "4                                       Yes               1.0   \n",
       "...                                     ...               ...   \n",
       "27896                                   Yes               7.0   \n",
       "27897                                    No               0.0   \n",
       "27898                                    No              12.0   \n",
       "27899                                   Yes              10.0   \n",
       "27900                                   Yes               2.0   \n",
       "\n",
       "       Financial Stress Family History of Mental Illness  Depression  \n",
       "0                   1.0                               No           1  \n",
       "1                   2.0                              Yes           0  \n",
       "2                   1.0                              Yes           0  \n",
       "3                   5.0                              Yes           1  \n",
       "4                   1.0                               No           0  \n",
       "...                 ...                              ...         ...  \n",
       "27896               1.0                              Yes           0  \n",
       "27897               3.0                              Yes           0  \n",
       "27898               2.0                               No           0  \n",
       "27899               5.0                               No           1  \n",
       "27900               3.0                              Yes           1  \n",
       "\n",
       "[27901 rows x 18 columns]"
      ]
     },
     "execution_count": 2,
     "metadata": {},
     "output_type": "execute_result"
    }
   ],
   "source": [
    "depression = pd.read_csv(\"Student Depression Dataset.csv\")\n",
    "depression"
   ]
  },
  {
   "cell_type": "code",
   "execution_count": 3,
   "id": "86eceb9f-051f-4b26-84f3-b89442e31e91",
   "metadata": {},
   "outputs": [
    {
     "data": {
      "text/html": [
       "<div>\n",
       "<style scoped>\n",
       "    .dataframe tbody tr th:only-of-type {\n",
       "        vertical-align: middle;\n",
       "    }\n",
       "\n",
       "    .dataframe tbody tr th {\n",
       "        vertical-align: top;\n",
       "    }\n",
       "\n",
       "    .dataframe thead th {\n",
       "        text-align: right;\n",
       "    }\n",
       "</style>\n",
       "<table border=\"1\" class=\"dataframe\">\n",
       "  <thead>\n",
       "    <tr style=\"text-align: right;\">\n",
       "      <th></th>\n",
       "      <th>id</th>\n",
       "      <th>Gender</th>\n",
       "      <th>Age</th>\n",
       "      <th>City</th>\n",
       "      <th>Profession</th>\n",
       "      <th>Academic Pressure</th>\n",
       "      <th>Work Pressure</th>\n",
       "      <th>CGPA</th>\n",
       "      <th>Study Satisfaction</th>\n",
       "      <th>Job Satisfaction</th>\n",
       "      <th>Sleep Duration</th>\n",
       "      <th>Dietary Habits</th>\n",
       "      <th>Degree</th>\n",
       "      <th>Have you ever had suicidal thoughts ?</th>\n",
       "      <th>Work/Study Hours</th>\n",
       "      <th>Financial Stress</th>\n",
       "      <th>Family History of Mental Illness</th>\n",
       "      <th>Depression</th>\n",
       "    </tr>\n",
       "  </thead>\n",
       "  <tbody>\n",
       "    <tr>\n",
       "      <th>0</th>\n",
       "      <td>2</td>\n",
       "      <td>Male</td>\n",
       "      <td>33.0</td>\n",
       "      <td>Visakhapatnam</td>\n",
       "      <td>Student</td>\n",
       "      <td>5.0</td>\n",
       "      <td>0.0</td>\n",
       "      <td>8.97</td>\n",
       "      <td>2.0</td>\n",
       "      <td>0.0</td>\n",
       "      <td>5-6 hours</td>\n",
       "      <td>Healthy</td>\n",
       "      <td>B.Pharm</td>\n",
       "      <td>Yes</td>\n",
       "      <td>3.0</td>\n",
       "      <td>1.0</td>\n",
       "      <td>No</td>\n",
       "      <td>1</td>\n",
       "    </tr>\n",
       "    <tr>\n",
       "      <th>1</th>\n",
       "      <td>8</td>\n",
       "      <td>Female</td>\n",
       "      <td>24.0</td>\n",
       "      <td>Bangalore</td>\n",
       "      <td>Student</td>\n",
       "      <td>2.0</td>\n",
       "      <td>0.0</td>\n",
       "      <td>5.90</td>\n",
       "      <td>5.0</td>\n",
       "      <td>0.0</td>\n",
       "      <td>5-6 hours</td>\n",
       "      <td>Moderate</td>\n",
       "      <td>BSc</td>\n",
       "      <td>No</td>\n",
       "      <td>3.0</td>\n",
       "      <td>2.0</td>\n",
       "      <td>Yes</td>\n",
       "      <td>0</td>\n",
       "    </tr>\n",
       "    <tr>\n",
       "      <th>2</th>\n",
       "      <td>26</td>\n",
       "      <td>Male</td>\n",
       "      <td>31.0</td>\n",
       "      <td>Srinagar</td>\n",
       "      <td>Student</td>\n",
       "      <td>3.0</td>\n",
       "      <td>0.0</td>\n",
       "      <td>7.03</td>\n",
       "      <td>5.0</td>\n",
       "      <td>0.0</td>\n",
       "      <td>Less than 5 hours</td>\n",
       "      <td>Healthy</td>\n",
       "      <td>BA</td>\n",
       "      <td>No</td>\n",
       "      <td>9.0</td>\n",
       "      <td>1.0</td>\n",
       "      <td>Yes</td>\n",
       "      <td>0</td>\n",
       "    </tr>\n",
       "    <tr>\n",
       "      <th>3</th>\n",
       "      <td>30</td>\n",
       "      <td>Female</td>\n",
       "      <td>28.0</td>\n",
       "      <td>Varanasi</td>\n",
       "      <td>Student</td>\n",
       "      <td>3.0</td>\n",
       "      <td>0.0</td>\n",
       "      <td>5.59</td>\n",
       "      <td>2.0</td>\n",
       "      <td>0.0</td>\n",
       "      <td>7-8 hours</td>\n",
       "      <td>Moderate</td>\n",
       "      <td>BCA</td>\n",
       "      <td>Yes</td>\n",
       "      <td>4.0</td>\n",
       "      <td>5.0</td>\n",
       "      <td>Yes</td>\n",
       "      <td>1</td>\n",
       "    </tr>\n",
       "    <tr>\n",
       "      <th>4</th>\n",
       "      <td>32</td>\n",
       "      <td>Female</td>\n",
       "      <td>25.0</td>\n",
       "      <td>Jaipur</td>\n",
       "      <td>Student</td>\n",
       "      <td>4.0</td>\n",
       "      <td>0.0</td>\n",
       "      <td>8.13</td>\n",
       "      <td>3.0</td>\n",
       "      <td>0.0</td>\n",
       "      <td>5-6 hours</td>\n",
       "      <td>Moderate</td>\n",
       "      <td>M.Tech</td>\n",
       "      <td>Yes</td>\n",
       "      <td>1.0</td>\n",
       "      <td>1.0</td>\n",
       "      <td>No</td>\n",
       "      <td>0</td>\n",
       "    </tr>\n",
       "  </tbody>\n",
       "</table>\n",
       "</div>"
      ],
      "text/plain": [
       "   id  Gender   Age           City Profession  Academic Pressure  \\\n",
       "0   2    Male  33.0  Visakhapatnam    Student                5.0   \n",
       "1   8  Female  24.0      Bangalore    Student                2.0   \n",
       "2  26    Male  31.0       Srinagar    Student                3.0   \n",
       "3  30  Female  28.0       Varanasi    Student                3.0   \n",
       "4  32  Female  25.0         Jaipur    Student                4.0   \n",
       "\n",
       "   Work Pressure  CGPA  Study Satisfaction  Job Satisfaction  \\\n",
       "0            0.0  8.97                 2.0               0.0   \n",
       "1            0.0  5.90                 5.0               0.0   \n",
       "2            0.0  7.03                 5.0               0.0   \n",
       "3            0.0  5.59                 2.0               0.0   \n",
       "4            0.0  8.13                 3.0               0.0   \n",
       "\n",
       "      Sleep Duration Dietary Habits   Degree  \\\n",
       "0          5-6 hours        Healthy  B.Pharm   \n",
       "1          5-6 hours       Moderate      BSc   \n",
       "2  Less than 5 hours        Healthy       BA   \n",
       "3          7-8 hours       Moderate      BCA   \n",
       "4          5-6 hours       Moderate   M.Tech   \n",
       "\n",
       "  Have you ever had suicidal thoughts ?  Work/Study Hours  Financial Stress  \\\n",
       "0                                   Yes               3.0               1.0   \n",
       "1                                    No               3.0               2.0   \n",
       "2                                    No               9.0               1.0   \n",
       "3                                   Yes               4.0               5.0   \n",
       "4                                   Yes               1.0               1.0   \n",
       "\n",
       "  Family History of Mental Illness  Depression  \n",
       "0                               No           1  \n",
       "1                              Yes           0  \n",
       "2                              Yes           0  \n",
       "3                              Yes           1  \n",
       "4                               No           0  "
      ]
     },
     "execution_count": 3,
     "metadata": {},
     "output_type": "execute_result"
    }
   ],
   "source": [
    "depression.head()"
   ]
  },
  {
   "cell_type": "code",
   "execution_count": 4,
   "id": "2716404e-51a6-4c5a-95d0-c96e35c8468c",
   "metadata": {},
   "outputs": [
    {
     "data": {
      "text/html": [
       "<div>\n",
       "<style scoped>\n",
       "    .dataframe tbody tr th:only-of-type {\n",
       "        vertical-align: middle;\n",
       "    }\n",
       "\n",
       "    .dataframe tbody tr th {\n",
       "        vertical-align: top;\n",
       "    }\n",
       "\n",
       "    .dataframe thead th {\n",
       "        text-align: right;\n",
       "    }\n",
       "</style>\n",
       "<table border=\"1\" class=\"dataframe\">\n",
       "  <thead>\n",
       "    <tr style=\"text-align: right;\">\n",
       "      <th></th>\n",
       "      <th>id</th>\n",
       "      <th>Gender</th>\n",
       "      <th>Age</th>\n",
       "      <th>City</th>\n",
       "      <th>Profession</th>\n",
       "      <th>Academic Pressure</th>\n",
       "      <th>Work Pressure</th>\n",
       "      <th>CGPA</th>\n",
       "      <th>Study Satisfaction</th>\n",
       "      <th>Job Satisfaction</th>\n",
       "      <th>Sleep Duration</th>\n",
       "      <th>Dietary Habits</th>\n",
       "      <th>Degree</th>\n",
       "      <th>Have you ever had suicidal thoughts ?</th>\n",
       "      <th>Work/Study Hours</th>\n",
       "      <th>Financial Stress</th>\n",
       "      <th>Family History of Mental Illness</th>\n",
       "      <th>Depression</th>\n",
       "    </tr>\n",
       "  </thead>\n",
       "  <tbody>\n",
       "    <tr>\n",
       "      <th>count</th>\n",
       "      <td>27901.000000</td>\n",
       "      <td>27901</td>\n",
       "      <td>27901.000000</td>\n",
       "      <td>27901</td>\n",
       "      <td>27901</td>\n",
       "      <td>27901.000000</td>\n",
       "      <td>27901.000000</td>\n",
       "      <td>27901.000000</td>\n",
       "      <td>27901.000000</td>\n",
       "      <td>27901.000000</td>\n",
       "      <td>27901</td>\n",
       "      <td>27901</td>\n",
       "      <td>27901</td>\n",
       "      <td>27901</td>\n",
       "      <td>27901.000000</td>\n",
       "      <td>27898.000000</td>\n",
       "      <td>27901</td>\n",
       "      <td>27901.000000</td>\n",
       "    </tr>\n",
       "    <tr>\n",
       "      <th>unique</th>\n",
       "      <td>NaN</td>\n",
       "      <td>2</td>\n",
       "      <td>NaN</td>\n",
       "      <td>52</td>\n",
       "      <td>14</td>\n",
       "      <td>NaN</td>\n",
       "      <td>NaN</td>\n",
       "      <td>NaN</td>\n",
       "      <td>NaN</td>\n",
       "      <td>NaN</td>\n",
       "      <td>5</td>\n",
       "      <td>4</td>\n",
       "      <td>28</td>\n",
       "      <td>2</td>\n",
       "      <td>NaN</td>\n",
       "      <td>NaN</td>\n",
       "      <td>2</td>\n",
       "      <td>NaN</td>\n",
       "    </tr>\n",
       "    <tr>\n",
       "      <th>top</th>\n",
       "      <td>NaN</td>\n",
       "      <td>Male</td>\n",
       "      <td>NaN</td>\n",
       "      <td>Kalyan</td>\n",
       "      <td>Student</td>\n",
       "      <td>NaN</td>\n",
       "      <td>NaN</td>\n",
       "      <td>NaN</td>\n",
       "      <td>NaN</td>\n",
       "      <td>NaN</td>\n",
       "      <td>Less than 5 hours</td>\n",
       "      <td>Unhealthy</td>\n",
       "      <td>Class 12</td>\n",
       "      <td>Yes</td>\n",
       "      <td>NaN</td>\n",
       "      <td>NaN</td>\n",
       "      <td>No</td>\n",
       "      <td>NaN</td>\n",
       "    </tr>\n",
       "    <tr>\n",
       "      <th>freq</th>\n",
       "      <td>NaN</td>\n",
       "      <td>15547</td>\n",
       "      <td>NaN</td>\n",
       "      <td>1570</td>\n",
       "      <td>27870</td>\n",
       "      <td>NaN</td>\n",
       "      <td>NaN</td>\n",
       "      <td>NaN</td>\n",
       "      <td>NaN</td>\n",
       "      <td>NaN</td>\n",
       "      <td>8310</td>\n",
       "      <td>10317</td>\n",
       "      <td>6080</td>\n",
       "      <td>17656</td>\n",
       "      <td>NaN</td>\n",
       "      <td>NaN</td>\n",
       "      <td>14398</td>\n",
       "      <td>NaN</td>\n",
       "    </tr>\n",
       "    <tr>\n",
       "      <th>mean</th>\n",
       "      <td>70442.149421</td>\n",
       "      <td>NaN</td>\n",
       "      <td>25.822300</td>\n",
       "      <td>NaN</td>\n",
       "      <td>NaN</td>\n",
       "      <td>3.141214</td>\n",
       "      <td>0.000430</td>\n",
       "      <td>7.656104</td>\n",
       "      <td>2.943837</td>\n",
       "      <td>0.000681</td>\n",
       "      <td>NaN</td>\n",
       "      <td>NaN</td>\n",
       "      <td>NaN</td>\n",
       "      <td>NaN</td>\n",
       "      <td>7.156984</td>\n",
       "      <td>3.139867</td>\n",
       "      <td>NaN</td>\n",
       "      <td>0.585499</td>\n",
       "    </tr>\n",
       "    <tr>\n",
       "      <th>std</th>\n",
       "      <td>40641.175216</td>\n",
       "      <td>NaN</td>\n",
       "      <td>4.905687</td>\n",
       "      <td>NaN</td>\n",
       "      <td>NaN</td>\n",
       "      <td>1.381465</td>\n",
       "      <td>0.043992</td>\n",
       "      <td>1.470707</td>\n",
       "      <td>1.361148</td>\n",
       "      <td>0.044394</td>\n",
       "      <td>NaN</td>\n",
       "      <td>NaN</td>\n",
       "      <td>NaN</td>\n",
       "      <td>NaN</td>\n",
       "      <td>3.707642</td>\n",
       "      <td>1.437347</td>\n",
       "      <td>NaN</td>\n",
       "      <td>0.492645</td>\n",
       "    </tr>\n",
       "    <tr>\n",
       "      <th>min</th>\n",
       "      <td>2.000000</td>\n",
       "      <td>NaN</td>\n",
       "      <td>18.000000</td>\n",
       "      <td>NaN</td>\n",
       "      <td>NaN</td>\n",
       "      <td>0.000000</td>\n",
       "      <td>0.000000</td>\n",
       "      <td>0.000000</td>\n",
       "      <td>0.000000</td>\n",
       "      <td>0.000000</td>\n",
       "      <td>NaN</td>\n",
       "      <td>NaN</td>\n",
       "      <td>NaN</td>\n",
       "      <td>NaN</td>\n",
       "      <td>0.000000</td>\n",
       "      <td>1.000000</td>\n",
       "      <td>NaN</td>\n",
       "      <td>0.000000</td>\n",
       "    </tr>\n",
       "    <tr>\n",
       "      <th>25%</th>\n",
       "      <td>35039.000000</td>\n",
       "      <td>NaN</td>\n",
       "      <td>21.000000</td>\n",
       "      <td>NaN</td>\n",
       "      <td>NaN</td>\n",
       "      <td>2.000000</td>\n",
       "      <td>0.000000</td>\n",
       "      <td>6.290000</td>\n",
       "      <td>2.000000</td>\n",
       "      <td>0.000000</td>\n",
       "      <td>NaN</td>\n",
       "      <td>NaN</td>\n",
       "      <td>NaN</td>\n",
       "      <td>NaN</td>\n",
       "      <td>4.000000</td>\n",
       "      <td>2.000000</td>\n",
       "      <td>NaN</td>\n",
       "      <td>0.000000</td>\n",
       "    </tr>\n",
       "    <tr>\n",
       "      <th>50%</th>\n",
       "      <td>70684.000000</td>\n",
       "      <td>NaN</td>\n",
       "      <td>25.000000</td>\n",
       "      <td>NaN</td>\n",
       "      <td>NaN</td>\n",
       "      <td>3.000000</td>\n",
       "      <td>0.000000</td>\n",
       "      <td>7.770000</td>\n",
       "      <td>3.000000</td>\n",
       "      <td>0.000000</td>\n",
       "      <td>NaN</td>\n",
       "      <td>NaN</td>\n",
       "      <td>NaN</td>\n",
       "      <td>NaN</td>\n",
       "      <td>8.000000</td>\n",
       "      <td>3.000000</td>\n",
       "      <td>NaN</td>\n",
       "      <td>1.000000</td>\n",
       "    </tr>\n",
       "    <tr>\n",
       "      <th>75%</th>\n",
       "      <td>105818.000000</td>\n",
       "      <td>NaN</td>\n",
       "      <td>30.000000</td>\n",
       "      <td>NaN</td>\n",
       "      <td>NaN</td>\n",
       "      <td>4.000000</td>\n",
       "      <td>0.000000</td>\n",
       "      <td>8.920000</td>\n",
       "      <td>4.000000</td>\n",
       "      <td>0.000000</td>\n",
       "      <td>NaN</td>\n",
       "      <td>NaN</td>\n",
       "      <td>NaN</td>\n",
       "      <td>NaN</td>\n",
       "      <td>10.000000</td>\n",
       "      <td>4.000000</td>\n",
       "      <td>NaN</td>\n",
       "      <td>1.000000</td>\n",
       "    </tr>\n",
       "    <tr>\n",
       "      <th>max</th>\n",
       "      <td>140699.000000</td>\n",
       "      <td>NaN</td>\n",
       "      <td>59.000000</td>\n",
       "      <td>NaN</td>\n",
       "      <td>NaN</td>\n",
       "      <td>5.000000</td>\n",
       "      <td>5.000000</td>\n",
       "      <td>10.000000</td>\n",
       "      <td>5.000000</td>\n",
       "      <td>4.000000</td>\n",
       "      <td>NaN</td>\n",
       "      <td>NaN</td>\n",
       "      <td>NaN</td>\n",
       "      <td>NaN</td>\n",
       "      <td>12.000000</td>\n",
       "      <td>5.000000</td>\n",
       "      <td>NaN</td>\n",
       "      <td>1.000000</td>\n",
       "    </tr>\n",
       "  </tbody>\n",
       "</table>\n",
       "</div>"
      ],
      "text/plain": [
       "                   id Gender           Age    City Profession  \\\n",
       "count    27901.000000  27901  27901.000000   27901      27901   \n",
       "unique            NaN      2           NaN      52         14   \n",
       "top               NaN   Male           NaN  Kalyan    Student   \n",
       "freq              NaN  15547           NaN    1570      27870   \n",
       "mean     70442.149421    NaN     25.822300     NaN        NaN   \n",
       "std      40641.175216    NaN      4.905687     NaN        NaN   \n",
       "min          2.000000    NaN     18.000000     NaN        NaN   \n",
       "25%      35039.000000    NaN     21.000000     NaN        NaN   \n",
       "50%      70684.000000    NaN     25.000000     NaN        NaN   \n",
       "75%     105818.000000    NaN     30.000000     NaN        NaN   \n",
       "max     140699.000000    NaN     59.000000     NaN        NaN   \n",
       "\n",
       "        Academic Pressure  Work Pressure          CGPA  Study Satisfaction  \\\n",
       "count        27901.000000   27901.000000  27901.000000        27901.000000   \n",
       "unique                NaN            NaN           NaN                 NaN   \n",
       "top                   NaN            NaN           NaN                 NaN   \n",
       "freq                  NaN            NaN           NaN                 NaN   \n",
       "mean             3.141214       0.000430      7.656104            2.943837   \n",
       "std              1.381465       0.043992      1.470707            1.361148   \n",
       "min              0.000000       0.000000      0.000000            0.000000   \n",
       "25%              2.000000       0.000000      6.290000            2.000000   \n",
       "50%              3.000000       0.000000      7.770000            3.000000   \n",
       "75%              4.000000       0.000000      8.920000            4.000000   \n",
       "max              5.000000       5.000000     10.000000            5.000000   \n",
       "\n",
       "        Job Satisfaction     Sleep Duration Dietary Habits    Degree  \\\n",
       "count       27901.000000              27901          27901     27901   \n",
       "unique               NaN                  5              4        28   \n",
       "top                  NaN  Less than 5 hours      Unhealthy  Class 12   \n",
       "freq                 NaN               8310          10317      6080   \n",
       "mean            0.000681                NaN            NaN       NaN   \n",
       "std             0.044394                NaN            NaN       NaN   \n",
       "min             0.000000                NaN            NaN       NaN   \n",
       "25%             0.000000                NaN            NaN       NaN   \n",
       "50%             0.000000                NaN            NaN       NaN   \n",
       "75%             0.000000                NaN            NaN       NaN   \n",
       "max             4.000000                NaN            NaN       NaN   \n",
       "\n",
       "       Have you ever had suicidal thoughts ?  Work/Study Hours  \\\n",
       "count                                  27901      27901.000000   \n",
       "unique                                     2               NaN   \n",
       "top                                      Yes               NaN   \n",
       "freq                                   17656               NaN   \n",
       "mean                                     NaN          7.156984   \n",
       "std                                      NaN          3.707642   \n",
       "min                                      NaN          0.000000   \n",
       "25%                                      NaN          4.000000   \n",
       "50%                                      NaN          8.000000   \n",
       "75%                                      NaN         10.000000   \n",
       "max                                      NaN         12.000000   \n",
       "\n",
       "        Financial Stress Family History of Mental Illness    Depression  \n",
       "count       27898.000000                            27901  27901.000000  \n",
       "unique               NaN                                2           NaN  \n",
       "top                  NaN                               No           NaN  \n",
       "freq                 NaN                            14398           NaN  \n",
       "mean            3.139867                              NaN      0.585499  \n",
       "std             1.437347                              NaN      0.492645  \n",
       "min             1.000000                              NaN      0.000000  \n",
       "25%             2.000000                              NaN      0.000000  \n",
       "50%             3.000000                              NaN      1.000000  \n",
       "75%             4.000000                              NaN      1.000000  \n",
       "max             5.000000                              NaN      1.000000  "
      ]
     },
     "execution_count": 4,
     "metadata": {},
     "output_type": "execute_result"
    }
   ],
   "source": [
    "depression.describe(include = \"all\")"
   ]
  },
  {
   "cell_type": "code",
   "execution_count": 5,
   "id": "3de20248-1877-44fa-bdef-d008b3af2528",
   "metadata": {},
   "outputs": [
    {
     "data": {
      "text/plain": [
       "27901"
      ]
     },
     "execution_count": 5,
     "metadata": {},
     "output_type": "execute_result"
    }
   ],
   "source": [
    "len(depression)"
   ]
  },
  {
   "cell_type": "code",
   "execution_count": 6,
   "id": "630bc9fa-9654-4252-a427-1380e476559b",
   "metadata": {},
   "outputs": [
    {
     "data": {
      "text/html": [
       "<div>\n",
       "<style scoped>\n",
       "    .dataframe tbody tr th:only-of-type {\n",
       "        vertical-align: middle;\n",
       "    }\n",
       "\n",
       "    .dataframe tbody tr th {\n",
       "        vertical-align: top;\n",
       "    }\n",
       "\n",
       "    .dataframe thead th {\n",
       "        text-align: right;\n",
       "    }\n",
       "</style>\n",
       "<table border=\"1\" class=\"dataframe\">\n",
       "  <thead>\n",
       "    <tr style=\"text-align: right;\">\n",
       "      <th></th>\n",
       "      <th>Gender</th>\n",
       "      <th>City</th>\n",
       "      <th>Profession</th>\n",
       "      <th>Sleep Duration</th>\n",
       "      <th>Dietary Habits</th>\n",
       "      <th>Degree</th>\n",
       "      <th>Have you ever had suicidal thoughts ?</th>\n",
       "      <th>Family History of Mental Illness</th>\n",
       "    </tr>\n",
       "  </thead>\n",
       "  <tbody>\n",
       "    <tr>\n",
       "      <th>count</th>\n",
       "      <td>27901</td>\n",
       "      <td>27901</td>\n",
       "      <td>27901</td>\n",
       "      <td>27901</td>\n",
       "      <td>27901</td>\n",
       "      <td>27901</td>\n",
       "      <td>27901</td>\n",
       "      <td>27901</td>\n",
       "    </tr>\n",
       "    <tr>\n",
       "      <th>unique</th>\n",
       "      <td>2</td>\n",
       "      <td>52</td>\n",
       "      <td>14</td>\n",
       "      <td>5</td>\n",
       "      <td>4</td>\n",
       "      <td>28</td>\n",
       "      <td>2</td>\n",
       "      <td>2</td>\n",
       "    </tr>\n",
       "    <tr>\n",
       "      <th>top</th>\n",
       "      <td>Male</td>\n",
       "      <td>Kalyan</td>\n",
       "      <td>Student</td>\n",
       "      <td>Less than 5 hours</td>\n",
       "      <td>Unhealthy</td>\n",
       "      <td>Class 12</td>\n",
       "      <td>Yes</td>\n",
       "      <td>No</td>\n",
       "    </tr>\n",
       "    <tr>\n",
       "      <th>freq</th>\n",
       "      <td>15547</td>\n",
       "      <td>1570</td>\n",
       "      <td>27870</td>\n",
       "      <td>8310</td>\n",
       "      <td>10317</td>\n",
       "      <td>6080</td>\n",
       "      <td>17656</td>\n",
       "      <td>14398</td>\n",
       "    </tr>\n",
       "  </tbody>\n",
       "</table>\n",
       "</div>"
      ],
      "text/plain": [
       "       Gender    City Profession     Sleep Duration Dietary Habits    Degree  \\\n",
       "count   27901   27901      27901              27901          27901     27901   \n",
       "unique      2      52         14                  5              4        28   \n",
       "top      Male  Kalyan    Student  Less than 5 hours      Unhealthy  Class 12   \n",
       "freq    15547    1570      27870               8310          10317      6080   \n",
       "\n",
       "       Have you ever had suicidal thoughts ? Family History of Mental Illness  \n",
       "count                                  27901                            27901  \n",
       "unique                                     2                                2  \n",
       "top                                      Yes                               No  \n",
       "freq                                   17656                            14398  "
      ]
     },
     "execution_count": 6,
     "metadata": {},
     "output_type": "execute_result"
    }
   ],
   "source": [
    "depression.describe(include = [\"O\"])"
   ]
  },
  {
   "cell_type": "code",
   "execution_count": 7,
   "id": "f8198c74-bc6b-48f1-83dc-fc3d2addcba0",
   "metadata": {},
   "outputs": [
    {
     "data": {
      "text/html": [
       "<div>\n",
       "<style scoped>\n",
       "    .dataframe tbody tr th:only-of-type {\n",
       "        vertical-align: middle;\n",
       "    }\n",
       "\n",
       "    .dataframe tbody tr th {\n",
       "        vertical-align: top;\n",
       "    }\n",
       "\n",
       "    .dataframe thead th {\n",
       "        text-align: right;\n",
       "    }\n",
       "</style>\n",
       "<table border=\"1\" class=\"dataframe\">\n",
       "  <thead>\n",
       "    <tr style=\"text-align: right;\">\n",
       "      <th></th>\n",
       "      <th>id</th>\n",
       "      <th>Gender</th>\n",
       "      <th>Age</th>\n",
       "      <th>City</th>\n",
       "      <th>Profession</th>\n",
       "      <th>Academic Pressure</th>\n",
       "      <th>Work Pressure</th>\n",
       "      <th>CGPA</th>\n",
       "      <th>Study Satisfaction</th>\n",
       "      <th>Job Satisfaction</th>\n",
       "      <th>Sleep Duration</th>\n",
       "      <th>Dietary Habits</th>\n",
       "      <th>Degree</th>\n",
       "      <th>Have you ever had suicidal thoughts ?</th>\n",
       "      <th>Work/Study Hours</th>\n",
       "      <th>Financial Stress</th>\n",
       "      <th>Family History of Mental Illness</th>\n",
       "      <th>Depression</th>\n",
       "    </tr>\n",
       "  </thead>\n",
       "  <tbody>\n",
       "    <tr>\n",
       "      <th>0</th>\n",
       "      <td>2</td>\n",
       "      <td>Male</td>\n",
       "      <td>33.0</td>\n",
       "      <td>Visakhapatnam</td>\n",
       "      <td>Student</td>\n",
       "      <td>5.0</td>\n",
       "      <td>0.0</td>\n",
       "      <td>8.97</td>\n",
       "      <td>2.0</td>\n",
       "      <td>0.0</td>\n",
       "      <td>5-6 hours</td>\n",
       "      <td>Healthy</td>\n",
       "      <td>B.Pharm</td>\n",
       "      <td>Yes</td>\n",
       "      <td>3.0</td>\n",
       "      <td>1.0</td>\n",
       "      <td>No</td>\n",
       "      <td>1</td>\n",
       "    </tr>\n",
       "    <tr>\n",
       "      <th>1</th>\n",
       "      <td>8</td>\n",
       "      <td>Female</td>\n",
       "      <td>24.0</td>\n",
       "      <td>Bangalore</td>\n",
       "      <td>Student</td>\n",
       "      <td>2.0</td>\n",
       "      <td>0.0</td>\n",
       "      <td>5.90</td>\n",
       "      <td>5.0</td>\n",
       "      <td>0.0</td>\n",
       "      <td>5-6 hours</td>\n",
       "      <td>Moderate</td>\n",
       "      <td>BSc</td>\n",
       "      <td>No</td>\n",
       "      <td>3.0</td>\n",
       "      <td>2.0</td>\n",
       "      <td>Yes</td>\n",
       "      <td>0</td>\n",
       "    </tr>\n",
       "    <tr>\n",
       "      <th>2</th>\n",
       "      <td>26</td>\n",
       "      <td>Male</td>\n",
       "      <td>31.0</td>\n",
       "      <td>Srinagar</td>\n",
       "      <td>Student</td>\n",
       "      <td>3.0</td>\n",
       "      <td>0.0</td>\n",
       "      <td>7.03</td>\n",
       "      <td>5.0</td>\n",
       "      <td>0.0</td>\n",
       "      <td>Less than 5 hours</td>\n",
       "      <td>Healthy</td>\n",
       "      <td>BA</td>\n",
       "      <td>No</td>\n",
       "      <td>9.0</td>\n",
       "      <td>1.0</td>\n",
       "      <td>Yes</td>\n",
       "      <td>0</td>\n",
       "    </tr>\n",
       "    <tr>\n",
       "      <th>3</th>\n",
       "      <td>30</td>\n",
       "      <td>Female</td>\n",
       "      <td>28.0</td>\n",
       "      <td>Varanasi</td>\n",
       "      <td>Student</td>\n",
       "      <td>3.0</td>\n",
       "      <td>0.0</td>\n",
       "      <td>5.59</td>\n",
       "      <td>2.0</td>\n",
       "      <td>0.0</td>\n",
       "      <td>7-8 hours</td>\n",
       "      <td>Moderate</td>\n",
       "      <td>BCA</td>\n",
       "      <td>Yes</td>\n",
       "      <td>4.0</td>\n",
       "      <td>5.0</td>\n",
       "      <td>Yes</td>\n",
       "      <td>1</td>\n",
       "    </tr>\n",
       "    <tr>\n",
       "      <th>4</th>\n",
       "      <td>32</td>\n",
       "      <td>Female</td>\n",
       "      <td>25.0</td>\n",
       "      <td>Jaipur</td>\n",
       "      <td>Student</td>\n",
       "      <td>4.0</td>\n",
       "      <td>0.0</td>\n",
       "      <td>8.13</td>\n",
       "      <td>3.0</td>\n",
       "      <td>0.0</td>\n",
       "      <td>5-6 hours</td>\n",
       "      <td>Moderate</td>\n",
       "      <td>M.Tech</td>\n",
       "      <td>Yes</td>\n",
       "      <td>1.0</td>\n",
       "      <td>1.0</td>\n",
       "      <td>No</td>\n",
       "      <td>0</td>\n",
       "    </tr>\n",
       "    <tr>\n",
       "      <th>...</th>\n",
       "      <td>...</td>\n",
       "      <td>...</td>\n",
       "      <td>...</td>\n",
       "      <td>...</td>\n",
       "      <td>...</td>\n",
       "      <td>...</td>\n",
       "      <td>...</td>\n",
       "      <td>...</td>\n",
       "      <td>...</td>\n",
       "      <td>...</td>\n",
       "      <td>...</td>\n",
       "      <td>...</td>\n",
       "      <td>...</td>\n",
       "      <td>...</td>\n",
       "      <td>...</td>\n",
       "      <td>...</td>\n",
       "      <td>...</td>\n",
       "      <td>...</td>\n",
       "    </tr>\n",
       "    <tr>\n",
       "      <th>27896</th>\n",
       "      <td>140685</td>\n",
       "      <td>Female</td>\n",
       "      <td>27.0</td>\n",
       "      <td>Surat</td>\n",
       "      <td>Student</td>\n",
       "      <td>5.0</td>\n",
       "      <td>0.0</td>\n",
       "      <td>5.75</td>\n",
       "      <td>5.0</td>\n",
       "      <td>0.0</td>\n",
       "      <td>5-6 hours</td>\n",
       "      <td>Unhealthy</td>\n",
       "      <td>Class 12</td>\n",
       "      <td>Yes</td>\n",
       "      <td>7.0</td>\n",
       "      <td>1.0</td>\n",
       "      <td>Yes</td>\n",
       "      <td>0</td>\n",
       "    </tr>\n",
       "    <tr>\n",
       "      <th>27897</th>\n",
       "      <td>140686</td>\n",
       "      <td>Male</td>\n",
       "      <td>27.0</td>\n",
       "      <td>Ludhiana</td>\n",
       "      <td>Student</td>\n",
       "      <td>2.0</td>\n",
       "      <td>0.0</td>\n",
       "      <td>9.40</td>\n",
       "      <td>3.0</td>\n",
       "      <td>0.0</td>\n",
       "      <td>Less than 5 hours</td>\n",
       "      <td>Healthy</td>\n",
       "      <td>MSc</td>\n",
       "      <td>No</td>\n",
       "      <td>0.0</td>\n",
       "      <td>3.0</td>\n",
       "      <td>Yes</td>\n",
       "      <td>0</td>\n",
       "    </tr>\n",
       "    <tr>\n",
       "      <th>27898</th>\n",
       "      <td>140689</td>\n",
       "      <td>Male</td>\n",
       "      <td>31.0</td>\n",
       "      <td>Faridabad</td>\n",
       "      <td>Student</td>\n",
       "      <td>3.0</td>\n",
       "      <td>0.0</td>\n",
       "      <td>6.61</td>\n",
       "      <td>4.0</td>\n",
       "      <td>0.0</td>\n",
       "      <td>5-6 hours</td>\n",
       "      <td>Unhealthy</td>\n",
       "      <td>MD</td>\n",
       "      <td>No</td>\n",
       "      <td>12.0</td>\n",
       "      <td>2.0</td>\n",
       "      <td>No</td>\n",
       "      <td>0</td>\n",
       "    </tr>\n",
       "    <tr>\n",
       "      <th>27899</th>\n",
       "      <td>140690</td>\n",
       "      <td>Female</td>\n",
       "      <td>18.0</td>\n",
       "      <td>Ludhiana</td>\n",
       "      <td>Student</td>\n",
       "      <td>5.0</td>\n",
       "      <td>0.0</td>\n",
       "      <td>6.88</td>\n",
       "      <td>2.0</td>\n",
       "      <td>0.0</td>\n",
       "      <td>Less than 5 hours</td>\n",
       "      <td>Healthy</td>\n",
       "      <td>Class 12</td>\n",
       "      <td>Yes</td>\n",
       "      <td>10.0</td>\n",
       "      <td>5.0</td>\n",
       "      <td>No</td>\n",
       "      <td>1</td>\n",
       "    </tr>\n",
       "    <tr>\n",
       "      <th>27900</th>\n",
       "      <td>140699</td>\n",
       "      <td>Male</td>\n",
       "      <td>27.0</td>\n",
       "      <td>Patna</td>\n",
       "      <td>Student</td>\n",
       "      <td>4.0</td>\n",
       "      <td>0.0</td>\n",
       "      <td>9.24</td>\n",
       "      <td>1.0</td>\n",
       "      <td>0.0</td>\n",
       "      <td>Less than 5 hours</td>\n",
       "      <td>Healthy</td>\n",
       "      <td>BCA</td>\n",
       "      <td>Yes</td>\n",
       "      <td>2.0</td>\n",
       "      <td>3.0</td>\n",
       "      <td>Yes</td>\n",
       "      <td>1</td>\n",
       "    </tr>\n",
       "  </tbody>\n",
       "</table>\n",
       "<p>27898 rows × 18 columns</p>\n",
       "</div>"
      ],
      "text/plain": [
       "           id  Gender   Age           City Profession  Academic Pressure  \\\n",
       "0           2    Male  33.0  Visakhapatnam    Student                5.0   \n",
       "1           8  Female  24.0      Bangalore    Student                2.0   \n",
       "2          26    Male  31.0       Srinagar    Student                3.0   \n",
       "3          30  Female  28.0       Varanasi    Student                3.0   \n",
       "4          32  Female  25.0         Jaipur    Student                4.0   \n",
       "...       ...     ...   ...            ...        ...                ...   \n",
       "27896  140685  Female  27.0          Surat    Student                5.0   \n",
       "27897  140686    Male  27.0       Ludhiana    Student                2.0   \n",
       "27898  140689    Male  31.0      Faridabad    Student                3.0   \n",
       "27899  140690  Female  18.0       Ludhiana    Student                5.0   \n",
       "27900  140699    Male  27.0          Patna    Student                4.0   \n",
       "\n",
       "       Work Pressure  CGPA  Study Satisfaction  Job Satisfaction  \\\n",
       "0                0.0  8.97                 2.0               0.0   \n",
       "1                0.0  5.90                 5.0               0.0   \n",
       "2                0.0  7.03                 5.0               0.0   \n",
       "3                0.0  5.59                 2.0               0.0   \n",
       "4                0.0  8.13                 3.0               0.0   \n",
       "...              ...   ...                 ...               ...   \n",
       "27896            0.0  5.75                 5.0               0.0   \n",
       "27897            0.0  9.40                 3.0               0.0   \n",
       "27898            0.0  6.61                 4.0               0.0   \n",
       "27899            0.0  6.88                 2.0               0.0   \n",
       "27900            0.0  9.24                 1.0               0.0   \n",
       "\n",
       "          Sleep Duration Dietary Habits    Degree  \\\n",
       "0              5-6 hours        Healthy   B.Pharm   \n",
       "1              5-6 hours       Moderate       BSc   \n",
       "2      Less than 5 hours        Healthy        BA   \n",
       "3              7-8 hours       Moderate       BCA   \n",
       "4              5-6 hours       Moderate    M.Tech   \n",
       "...                  ...            ...       ...   \n",
       "27896          5-6 hours      Unhealthy  Class 12   \n",
       "27897  Less than 5 hours        Healthy       MSc   \n",
       "27898          5-6 hours      Unhealthy        MD   \n",
       "27899  Less than 5 hours        Healthy  Class 12   \n",
       "27900  Less than 5 hours        Healthy       BCA   \n",
       "\n",
       "      Have you ever had suicidal thoughts ?  Work/Study Hours  \\\n",
       "0                                       Yes               3.0   \n",
       "1                                        No               3.0   \n",
       "2                                        No               9.0   \n",
       "3                                       Yes               4.0   \n",
       "4                                       Yes               1.0   \n",
       "...                                     ...               ...   \n",
       "27896                                   Yes               7.0   \n",
       "27897                                    No               0.0   \n",
       "27898                                    No              12.0   \n",
       "27899                                   Yes              10.0   \n",
       "27900                                   Yes               2.0   \n",
       "\n",
       "       Financial Stress Family History of Mental Illness  Depression  \n",
       "0                   1.0                               No           1  \n",
       "1                   2.0                              Yes           0  \n",
       "2                   1.0                              Yes           0  \n",
       "3                   5.0                              Yes           1  \n",
       "4                   1.0                               No           0  \n",
       "...                 ...                              ...         ...  \n",
       "27896               1.0                              Yes           0  \n",
       "27897               3.0                              Yes           0  \n",
       "27898               2.0                               No           0  \n",
       "27899               5.0                               No           1  \n",
       "27900               3.0                              Yes           1  \n",
       "\n",
       "[27898 rows x 18 columns]"
      ]
     },
     "execution_count": 7,
     "metadata": {},
     "output_type": "execute_result"
    }
   ],
   "source": [
    "depression2 = depression.dropna()\n",
    "depression2"
   ]
  },
  {
   "cell_type": "code",
   "execution_count": 8,
   "id": "f75d9ad1-3f83-4752-a079-7bdd03310eb5",
   "metadata": {},
   "outputs": [
    {
     "data": {
      "text/html": [
       "<div>\n",
       "<style scoped>\n",
       "    .dataframe tbody tr th:only-of-type {\n",
       "        vertical-align: middle;\n",
       "    }\n",
       "\n",
       "    .dataframe tbody tr th {\n",
       "        vertical-align: top;\n",
       "    }\n",
       "\n",
       "    .dataframe thead th {\n",
       "        text-align: right;\n",
       "    }\n",
       "</style>\n",
       "<table border=\"1\" class=\"dataframe\">\n",
       "  <thead>\n",
       "    <tr style=\"text-align: right;\">\n",
       "      <th></th>\n",
       "      <th>id</th>\n",
       "      <th>Gender</th>\n",
       "      <th>Age</th>\n",
       "      <th>City</th>\n",
       "      <th>Profession</th>\n",
       "      <th>Academic Pressure</th>\n",
       "      <th>Work Pressure</th>\n",
       "      <th>CGPA</th>\n",
       "      <th>Study Satisfaction</th>\n",
       "      <th>Job Satisfaction</th>\n",
       "      <th>Sleep Duration</th>\n",
       "      <th>Dietary Habits</th>\n",
       "      <th>Degree</th>\n",
       "      <th>Have you ever had suicidal thoughts ?</th>\n",
       "      <th>Work/Study Hours</th>\n",
       "      <th>Financial Stress</th>\n",
       "      <th>Family History of Mental Illness</th>\n",
       "      <th>Depression</th>\n",
       "    </tr>\n",
       "  </thead>\n",
       "  <tbody>\n",
       "    <tr>\n",
       "      <th>0</th>\n",
       "      <td>2</td>\n",
       "      <td>Male</td>\n",
       "      <td>33.0</td>\n",
       "      <td>Visakhapatnam</td>\n",
       "      <td>Student</td>\n",
       "      <td>5.0</td>\n",
       "      <td>0.0</td>\n",
       "      <td>8.97</td>\n",
       "      <td>2.0</td>\n",
       "      <td>0.0</td>\n",
       "      <td>5-6 hours</td>\n",
       "      <td>Healthy</td>\n",
       "      <td>B.Pharm</td>\n",
       "      <td>Yes</td>\n",
       "      <td>3.0</td>\n",
       "      <td>1.0</td>\n",
       "      <td>No</td>\n",
       "      <td>1</td>\n",
       "    </tr>\n",
       "    <tr>\n",
       "      <th>1</th>\n",
       "      <td>8</td>\n",
       "      <td>Female</td>\n",
       "      <td>24.0</td>\n",
       "      <td>Bangalore</td>\n",
       "      <td>Student</td>\n",
       "      <td>2.0</td>\n",
       "      <td>0.0</td>\n",
       "      <td>5.90</td>\n",
       "      <td>5.0</td>\n",
       "      <td>0.0</td>\n",
       "      <td>5-6 hours</td>\n",
       "      <td>Moderate</td>\n",
       "      <td>BSc</td>\n",
       "      <td>No</td>\n",
       "      <td>3.0</td>\n",
       "      <td>2.0</td>\n",
       "      <td>Yes</td>\n",
       "      <td>0</td>\n",
       "    </tr>\n",
       "    <tr>\n",
       "      <th>2</th>\n",
       "      <td>26</td>\n",
       "      <td>Male</td>\n",
       "      <td>31.0</td>\n",
       "      <td>Srinagar</td>\n",
       "      <td>Student</td>\n",
       "      <td>3.0</td>\n",
       "      <td>0.0</td>\n",
       "      <td>7.03</td>\n",
       "      <td>5.0</td>\n",
       "      <td>0.0</td>\n",
       "      <td>Less than 5 hours</td>\n",
       "      <td>Healthy</td>\n",
       "      <td>BA</td>\n",
       "      <td>No</td>\n",
       "      <td>9.0</td>\n",
       "      <td>1.0</td>\n",
       "      <td>Yes</td>\n",
       "      <td>0</td>\n",
       "    </tr>\n",
       "    <tr>\n",
       "      <th>3</th>\n",
       "      <td>30</td>\n",
       "      <td>Female</td>\n",
       "      <td>28.0</td>\n",
       "      <td>Varanasi</td>\n",
       "      <td>Student</td>\n",
       "      <td>3.0</td>\n",
       "      <td>0.0</td>\n",
       "      <td>5.59</td>\n",
       "      <td>2.0</td>\n",
       "      <td>0.0</td>\n",
       "      <td>7-8 hours</td>\n",
       "      <td>Moderate</td>\n",
       "      <td>BCA</td>\n",
       "      <td>Yes</td>\n",
       "      <td>4.0</td>\n",
       "      <td>5.0</td>\n",
       "      <td>Yes</td>\n",
       "      <td>1</td>\n",
       "    </tr>\n",
       "    <tr>\n",
       "      <th>4</th>\n",
       "      <td>32</td>\n",
       "      <td>Female</td>\n",
       "      <td>25.0</td>\n",
       "      <td>Jaipur</td>\n",
       "      <td>Student</td>\n",
       "      <td>4.0</td>\n",
       "      <td>0.0</td>\n",
       "      <td>8.13</td>\n",
       "      <td>3.0</td>\n",
       "      <td>0.0</td>\n",
       "      <td>5-6 hours</td>\n",
       "      <td>Moderate</td>\n",
       "      <td>M.Tech</td>\n",
       "      <td>Yes</td>\n",
       "      <td>1.0</td>\n",
       "      <td>1.0</td>\n",
       "      <td>No</td>\n",
       "      <td>0</td>\n",
       "    </tr>\n",
       "    <tr>\n",
       "      <th>...</th>\n",
       "      <td>...</td>\n",
       "      <td>...</td>\n",
       "      <td>...</td>\n",
       "      <td>...</td>\n",
       "      <td>...</td>\n",
       "      <td>...</td>\n",
       "      <td>...</td>\n",
       "      <td>...</td>\n",
       "      <td>...</td>\n",
       "      <td>...</td>\n",
       "      <td>...</td>\n",
       "      <td>...</td>\n",
       "      <td>...</td>\n",
       "      <td>...</td>\n",
       "      <td>...</td>\n",
       "      <td>...</td>\n",
       "      <td>...</td>\n",
       "      <td>...</td>\n",
       "    </tr>\n",
       "    <tr>\n",
       "      <th>27896</th>\n",
       "      <td>140685</td>\n",
       "      <td>Female</td>\n",
       "      <td>27.0</td>\n",
       "      <td>Surat</td>\n",
       "      <td>Student</td>\n",
       "      <td>5.0</td>\n",
       "      <td>0.0</td>\n",
       "      <td>5.75</td>\n",
       "      <td>5.0</td>\n",
       "      <td>0.0</td>\n",
       "      <td>5-6 hours</td>\n",
       "      <td>Unhealthy</td>\n",
       "      <td>Class 12</td>\n",
       "      <td>Yes</td>\n",
       "      <td>7.0</td>\n",
       "      <td>1.0</td>\n",
       "      <td>Yes</td>\n",
       "      <td>0</td>\n",
       "    </tr>\n",
       "    <tr>\n",
       "      <th>27897</th>\n",
       "      <td>140686</td>\n",
       "      <td>Male</td>\n",
       "      <td>27.0</td>\n",
       "      <td>Ludhiana</td>\n",
       "      <td>Student</td>\n",
       "      <td>2.0</td>\n",
       "      <td>0.0</td>\n",
       "      <td>9.40</td>\n",
       "      <td>3.0</td>\n",
       "      <td>0.0</td>\n",
       "      <td>Less than 5 hours</td>\n",
       "      <td>Healthy</td>\n",
       "      <td>MSc</td>\n",
       "      <td>No</td>\n",
       "      <td>0.0</td>\n",
       "      <td>3.0</td>\n",
       "      <td>Yes</td>\n",
       "      <td>0</td>\n",
       "    </tr>\n",
       "    <tr>\n",
       "      <th>27898</th>\n",
       "      <td>140689</td>\n",
       "      <td>Male</td>\n",
       "      <td>31.0</td>\n",
       "      <td>Faridabad</td>\n",
       "      <td>Student</td>\n",
       "      <td>3.0</td>\n",
       "      <td>0.0</td>\n",
       "      <td>6.61</td>\n",
       "      <td>4.0</td>\n",
       "      <td>0.0</td>\n",
       "      <td>5-6 hours</td>\n",
       "      <td>Unhealthy</td>\n",
       "      <td>MD</td>\n",
       "      <td>No</td>\n",
       "      <td>12.0</td>\n",
       "      <td>2.0</td>\n",
       "      <td>No</td>\n",
       "      <td>0</td>\n",
       "    </tr>\n",
       "    <tr>\n",
       "      <th>27899</th>\n",
       "      <td>140690</td>\n",
       "      <td>Female</td>\n",
       "      <td>18.0</td>\n",
       "      <td>Ludhiana</td>\n",
       "      <td>Student</td>\n",
       "      <td>5.0</td>\n",
       "      <td>0.0</td>\n",
       "      <td>6.88</td>\n",
       "      <td>2.0</td>\n",
       "      <td>0.0</td>\n",
       "      <td>Less than 5 hours</td>\n",
       "      <td>Healthy</td>\n",
       "      <td>Class 12</td>\n",
       "      <td>Yes</td>\n",
       "      <td>10.0</td>\n",
       "      <td>5.0</td>\n",
       "      <td>No</td>\n",
       "      <td>1</td>\n",
       "    </tr>\n",
       "    <tr>\n",
       "      <th>27900</th>\n",
       "      <td>140699</td>\n",
       "      <td>Male</td>\n",
       "      <td>27.0</td>\n",
       "      <td>Patna</td>\n",
       "      <td>Student</td>\n",
       "      <td>4.0</td>\n",
       "      <td>0.0</td>\n",
       "      <td>9.24</td>\n",
       "      <td>1.0</td>\n",
       "      <td>0.0</td>\n",
       "      <td>Less than 5 hours</td>\n",
       "      <td>Healthy</td>\n",
       "      <td>BCA</td>\n",
       "      <td>Yes</td>\n",
       "      <td>2.0</td>\n",
       "      <td>3.0</td>\n",
       "      <td>Yes</td>\n",
       "      <td>1</td>\n",
       "    </tr>\n",
       "  </tbody>\n",
       "</table>\n",
       "<p>27898 rows × 18 columns</p>\n",
       "</div>"
      ],
      "text/plain": [
       "           id  Gender   Age           City Profession  Academic Pressure  \\\n",
       "0           2    Male  33.0  Visakhapatnam    Student                5.0   \n",
       "1           8  Female  24.0      Bangalore    Student                2.0   \n",
       "2          26    Male  31.0       Srinagar    Student                3.0   \n",
       "3          30  Female  28.0       Varanasi    Student                3.0   \n",
       "4          32  Female  25.0         Jaipur    Student                4.0   \n",
       "...       ...     ...   ...            ...        ...                ...   \n",
       "27896  140685  Female  27.0          Surat    Student                5.0   \n",
       "27897  140686    Male  27.0       Ludhiana    Student                2.0   \n",
       "27898  140689    Male  31.0      Faridabad    Student                3.0   \n",
       "27899  140690  Female  18.0       Ludhiana    Student                5.0   \n",
       "27900  140699    Male  27.0          Patna    Student                4.0   \n",
       "\n",
       "       Work Pressure  CGPA  Study Satisfaction  Job Satisfaction  \\\n",
       "0                0.0  8.97                 2.0               0.0   \n",
       "1                0.0  5.90                 5.0               0.0   \n",
       "2                0.0  7.03                 5.0               0.0   \n",
       "3                0.0  5.59                 2.0               0.0   \n",
       "4                0.0  8.13                 3.0               0.0   \n",
       "...              ...   ...                 ...               ...   \n",
       "27896            0.0  5.75                 5.0               0.0   \n",
       "27897            0.0  9.40                 3.0               0.0   \n",
       "27898            0.0  6.61                 4.0               0.0   \n",
       "27899            0.0  6.88                 2.0               0.0   \n",
       "27900            0.0  9.24                 1.0               0.0   \n",
       "\n",
       "          Sleep Duration Dietary Habits    Degree  \\\n",
       "0              5-6 hours        Healthy   B.Pharm   \n",
       "1              5-6 hours       Moderate       BSc   \n",
       "2      Less than 5 hours        Healthy        BA   \n",
       "3              7-8 hours       Moderate       BCA   \n",
       "4              5-6 hours       Moderate    M.Tech   \n",
       "...                  ...            ...       ...   \n",
       "27896          5-6 hours      Unhealthy  Class 12   \n",
       "27897  Less than 5 hours        Healthy       MSc   \n",
       "27898          5-6 hours      Unhealthy        MD   \n",
       "27899  Less than 5 hours        Healthy  Class 12   \n",
       "27900  Less than 5 hours        Healthy       BCA   \n",
       "\n",
       "      Have you ever had suicidal thoughts ?  Work/Study Hours  \\\n",
       "0                                       Yes               3.0   \n",
       "1                                        No               3.0   \n",
       "2                                        No               9.0   \n",
       "3                                       Yes               4.0   \n",
       "4                                       Yes               1.0   \n",
       "...                                     ...               ...   \n",
       "27896                                   Yes               7.0   \n",
       "27897                                    No               0.0   \n",
       "27898                                    No              12.0   \n",
       "27899                                   Yes              10.0   \n",
       "27900                                   Yes               2.0   \n",
       "\n",
       "       Financial Stress Family History of Mental Illness  Depression  \n",
       "0                   1.0                               No           1  \n",
       "1                   2.0                              Yes           0  \n",
       "2                   1.0                              Yes           0  \n",
       "3                   5.0                              Yes           1  \n",
       "4                   1.0                               No           0  \n",
       "...                 ...                              ...         ...  \n",
       "27896               1.0                              Yes           0  \n",
       "27897               3.0                              Yes           0  \n",
       "27898               2.0                               No           0  \n",
       "27899               5.0                               No           1  \n",
       "27900               3.0                              Yes           1  \n",
       "\n",
       "[27898 rows x 18 columns]"
      ]
     },
     "execution_count": 8,
     "metadata": {},
     "output_type": "execute_result"
    }
   ],
   "source": [
    "depression2"
   ]
  },
  {
   "cell_type": "code",
   "execution_count": 9,
   "id": "0e8adb0c-3c9d-44f0-9b1a-4eec84bed1bd",
   "metadata": {},
   "outputs": [
    {
     "data": {
      "text/plain": [
       "27898"
      ]
     },
     "execution_count": 9,
     "metadata": {},
     "output_type": "execute_result"
    }
   ],
   "source": [
    "len(depression2)"
   ]
  },
  {
   "cell_type": "code",
   "execution_count": 10,
   "id": "01f11f2d-0f76-4ef4-9867-bcc16a1c9bf3",
   "metadata": {},
   "outputs": [
    {
     "data": {
      "text/html": [
       "<div>\n",
       "<style scoped>\n",
       "    .dataframe tbody tr th:only-of-type {\n",
       "        vertical-align: middle;\n",
       "    }\n",
       "\n",
       "    .dataframe tbody tr th {\n",
       "        vertical-align: top;\n",
       "    }\n",
       "\n",
       "    .dataframe thead th {\n",
       "        text-align: right;\n",
       "    }\n",
       "</style>\n",
       "<table border=\"1\" class=\"dataframe\">\n",
       "  <thead>\n",
       "    <tr style=\"text-align: right;\">\n",
       "      <th></th>\n",
       "      <th>id</th>\n",
       "      <th>Gender</th>\n",
       "      <th>Age</th>\n",
       "      <th>City</th>\n",
       "      <th>Profession</th>\n",
       "      <th>Academic Pressure</th>\n",
       "      <th>Work Pressure</th>\n",
       "      <th>CGPA</th>\n",
       "      <th>Study Satisfaction</th>\n",
       "      <th>Job Satisfaction</th>\n",
       "      <th>Sleep Duration</th>\n",
       "      <th>Dietary Habits</th>\n",
       "      <th>Degree</th>\n",
       "      <th>Have you ever had suicidal thoughts ?</th>\n",
       "      <th>Work/Study Hours</th>\n",
       "      <th>Financial Stress</th>\n",
       "      <th>Family History of Mental Illness</th>\n",
       "      <th>Depression</th>\n",
       "    </tr>\n",
       "  </thead>\n",
       "  <tbody>\n",
       "    <tr>\n",
       "      <th>count</th>\n",
       "      <td>27898.000000</td>\n",
       "      <td>27898</td>\n",
       "      <td>27898.000000</td>\n",
       "      <td>27898</td>\n",
       "      <td>27898</td>\n",
       "      <td>27898.000000</td>\n",
       "      <td>27898.000000</td>\n",
       "      <td>27898.000000</td>\n",
       "      <td>27898.000000</td>\n",
       "      <td>27898.000000</td>\n",
       "      <td>27898</td>\n",
       "      <td>27898</td>\n",
       "      <td>27898</td>\n",
       "      <td>27898</td>\n",
       "      <td>27898.000000</td>\n",
       "      <td>27898.000000</td>\n",
       "      <td>27898</td>\n",
       "      <td>27898.000000</td>\n",
       "    </tr>\n",
       "    <tr>\n",
       "      <th>unique</th>\n",
       "      <td>NaN</td>\n",
       "      <td>2</td>\n",
       "      <td>NaN</td>\n",
       "      <td>52</td>\n",
       "      <td>14</td>\n",
       "      <td>NaN</td>\n",
       "      <td>NaN</td>\n",
       "      <td>NaN</td>\n",
       "      <td>NaN</td>\n",
       "      <td>NaN</td>\n",
       "      <td>5</td>\n",
       "      <td>4</td>\n",
       "      <td>28</td>\n",
       "      <td>2</td>\n",
       "      <td>NaN</td>\n",
       "      <td>NaN</td>\n",
       "      <td>2</td>\n",
       "      <td>NaN</td>\n",
       "    </tr>\n",
       "    <tr>\n",
       "      <th>top</th>\n",
       "      <td>NaN</td>\n",
       "      <td>Male</td>\n",
       "      <td>NaN</td>\n",
       "      <td>Kalyan</td>\n",
       "      <td>Student</td>\n",
       "      <td>NaN</td>\n",
       "      <td>NaN</td>\n",
       "      <td>NaN</td>\n",
       "      <td>NaN</td>\n",
       "      <td>NaN</td>\n",
       "      <td>Less than 5 hours</td>\n",
       "      <td>Unhealthy</td>\n",
       "      <td>Class 12</td>\n",
       "      <td>Yes</td>\n",
       "      <td>NaN</td>\n",
       "      <td>NaN</td>\n",
       "      <td>No</td>\n",
       "      <td>NaN</td>\n",
       "    </tr>\n",
       "    <tr>\n",
       "      <th>freq</th>\n",
       "      <td>NaN</td>\n",
       "      <td>15546</td>\n",
       "      <td>NaN</td>\n",
       "      <td>1570</td>\n",
       "      <td>27867</td>\n",
       "      <td>NaN</td>\n",
       "      <td>NaN</td>\n",
       "      <td>NaN</td>\n",
       "      <td>NaN</td>\n",
       "      <td>NaN</td>\n",
       "      <td>8309</td>\n",
       "      <td>10316</td>\n",
       "      <td>6080</td>\n",
       "      <td>17656</td>\n",
       "      <td>NaN</td>\n",
       "      <td>NaN</td>\n",
       "      <td>14397</td>\n",
       "      <td>NaN</td>\n",
       "    </tr>\n",
       "    <tr>\n",
       "      <th>mean</th>\n",
       "      <td>70442.953402</td>\n",
       "      <td>NaN</td>\n",
       "      <td>25.822174</td>\n",
       "      <td>NaN</td>\n",
       "      <td>NaN</td>\n",
       "      <td>3.141336</td>\n",
       "      <td>0.000430</td>\n",
       "      <td>7.656160</td>\n",
       "      <td>2.943974</td>\n",
       "      <td>0.000681</td>\n",
       "      <td>NaN</td>\n",
       "      <td>NaN</td>\n",
       "      <td>NaN</td>\n",
       "      <td>NaN</td>\n",
       "      <td>7.156570</td>\n",
       "      <td>3.139867</td>\n",
       "      <td>NaN</td>\n",
       "      <td>0.585526</td>\n",
       "    </tr>\n",
       "    <tr>\n",
       "      <th>std</th>\n",
       "      <td>40642.015063</td>\n",
       "      <td>NaN</td>\n",
       "      <td>4.905651</td>\n",
       "      <td>NaN</td>\n",
       "      <td>NaN</td>\n",
       "      <td>1.381462</td>\n",
       "      <td>0.043994</td>\n",
       "      <td>1.470708</td>\n",
       "      <td>1.361122</td>\n",
       "      <td>0.044397</td>\n",
       "      <td>NaN</td>\n",
       "      <td>NaN</td>\n",
       "      <td>NaN</td>\n",
       "      <td>NaN</td>\n",
       "      <td>3.707598</td>\n",
       "      <td>1.437347</td>\n",
       "      <td>NaN</td>\n",
       "      <td>0.492640</td>\n",
       "    </tr>\n",
       "    <tr>\n",
       "      <th>min</th>\n",
       "      <td>2.000000</td>\n",
       "      <td>NaN</td>\n",
       "      <td>18.000000</td>\n",
       "      <td>NaN</td>\n",
       "      <td>NaN</td>\n",
       "      <td>0.000000</td>\n",
       "      <td>0.000000</td>\n",
       "      <td>0.000000</td>\n",
       "      <td>0.000000</td>\n",
       "      <td>0.000000</td>\n",
       "      <td>NaN</td>\n",
       "      <td>NaN</td>\n",
       "      <td>NaN</td>\n",
       "      <td>NaN</td>\n",
       "      <td>0.000000</td>\n",
       "      <td>1.000000</td>\n",
       "      <td>NaN</td>\n",
       "      <td>0.000000</td>\n",
       "    </tr>\n",
       "    <tr>\n",
       "      <th>25%</th>\n",
       "      <td>35040.750000</td>\n",
       "      <td>NaN</td>\n",
       "      <td>21.000000</td>\n",
       "      <td>NaN</td>\n",
       "      <td>NaN</td>\n",
       "      <td>2.000000</td>\n",
       "      <td>0.000000</td>\n",
       "      <td>6.290000</td>\n",
       "      <td>2.000000</td>\n",
       "      <td>0.000000</td>\n",
       "      <td>NaN</td>\n",
       "      <td>NaN</td>\n",
       "      <td>NaN</td>\n",
       "      <td>NaN</td>\n",
       "      <td>4.000000</td>\n",
       "      <td>2.000000</td>\n",
       "      <td>NaN</td>\n",
       "      <td>0.000000</td>\n",
       "    </tr>\n",
       "    <tr>\n",
       "      <th>50%</th>\n",
       "      <td>70689.000000</td>\n",
       "      <td>NaN</td>\n",
       "      <td>25.000000</td>\n",
       "      <td>NaN</td>\n",
       "      <td>NaN</td>\n",
       "      <td>3.000000</td>\n",
       "      <td>0.000000</td>\n",
       "      <td>7.770000</td>\n",
       "      <td>3.000000</td>\n",
       "      <td>0.000000</td>\n",
       "      <td>NaN</td>\n",
       "      <td>NaN</td>\n",
       "      <td>NaN</td>\n",
       "      <td>NaN</td>\n",
       "      <td>8.000000</td>\n",
       "      <td>3.000000</td>\n",
       "      <td>NaN</td>\n",
       "      <td>1.000000</td>\n",
       "    </tr>\n",
       "    <tr>\n",
       "      <th>75%</th>\n",
       "      <td>105824.750000</td>\n",
       "      <td>NaN</td>\n",
       "      <td>30.000000</td>\n",
       "      <td>NaN</td>\n",
       "      <td>NaN</td>\n",
       "      <td>4.000000</td>\n",
       "      <td>0.000000</td>\n",
       "      <td>8.920000</td>\n",
       "      <td>4.000000</td>\n",
       "      <td>0.000000</td>\n",
       "      <td>NaN</td>\n",
       "      <td>NaN</td>\n",
       "      <td>NaN</td>\n",
       "      <td>NaN</td>\n",
       "      <td>10.000000</td>\n",
       "      <td>4.000000</td>\n",
       "      <td>NaN</td>\n",
       "      <td>1.000000</td>\n",
       "    </tr>\n",
       "    <tr>\n",
       "      <th>max</th>\n",
       "      <td>140699.000000</td>\n",
       "      <td>NaN</td>\n",
       "      <td>59.000000</td>\n",
       "      <td>NaN</td>\n",
       "      <td>NaN</td>\n",
       "      <td>5.000000</td>\n",
       "      <td>5.000000</td>\n",
       "      <td>10.000000</td>\n",
       "      <td>5.000000</td>\n",
       "      <td>4.000000</td>\n",
       "      <td>NaN</td>\n",
       "      <td>NaN</td>\n",
       "      <td>NaN</td>\n",
       "      <td>NaN</td>\n",
       "      <td>12.000000</td>\n",
       "      <td>5.000000</td>\n",
       "      <td>NaN</td>\n",
       "      <td>1.000000</td>\n",
       "    </tr>\n",
       "  </tbody>\n",
       "</table>\n",
       "</div>"
      ],
      "text/plain": [
       "                   id Gender           Age    City Profession  \\\n",
       "count    27898.000000  27898  27898.000000   27898      27898   \n",
       "unique            NaN      2           NaN      52         14   \n",
       "top               NaN   Male           NaN  Kalyan    Student   \n",
       "freq              NaN  15546           NaN    1570      27867   \n",
       "mean     70442.953402    NaN     25.822174     NaN        NaN   \n",
       "std      40642.015063    NaN      4.905651     NaN        NaN   \n",
       "min          2.000000    NaN     18.000000     NaN        NaN   \n",
       "25%      35040.750000    NaN     21.000000     NaN        NaN   \n",
       "50%      70689.000000    NaN     25.000000     NaN        NaN   \n",
       "75%     105824.750000    NaN     30.000000     NaN        NaN   \n",
       "max     140699.000000    NaN     59.000000     NaN        NaN   \n",
       "\n",
       "        Academic Pressure  Work Pressure          CGPA  Study Satisfaction  \\\n",
       "count        27898.000000   27898.000000  27898.000000        27898.000000   \n",
       "unique                NaN            NaN           NaN                 NaN   \n",
       "top                   NaN            NaN           NaN                 NaN   \n",
       "freq                  NaN            NaN           NaN                 NaN   \n",
       "mean             3.141336       0.000430      7.656160            2.943974   \n",
       "std              1.381462       0.043994      1.470708            1.361122   \n",
       "min              0.000000       0.000000      0.000000            0.000000   \n",
       "25%              2.000000       0.000000      6.290000            2.000000   \n",
       "50%              3.000000       0.000000      7.770000            3.000000   \n",
       "75%              4.000000       0.000000      8.920000            4.000000   \n",
       "max              5.000000       5.000000     10.000000            5.000000   \n",
       "\n",
       "        Job Satisfaction     Sleep Duration Dietary Habits    Degree  \\\n",
       "count       27898.000000              27898          27898     27898   \n",
       "unique               NaN                  5              4        28   \n",
       "top                  NaN  Less than 5 hours      Unhealthy  Class 12   \n",
       "freq                 NaN               8309          10316      6080   \n",
       "mean            0.000681                NaN            NaN       NaN   \n",
       "std             0.044397                NaN            NaN       NaN   \n",
       "min             0.000000                NaN            NaN       NaN   \n",
       "25%             0.000000                NaN            NaN       NaN   \n",
       "50%             0.000000                NaN            NaN       NaN   \n",
       "75%             0.000000                NaN            NaN       NaN   \n",
       "max             4.000000                NaN            NaN       NaN   \n",
       "\n",
       "       Have you ever had suicidal thoughts ?  Work/Study Hours  \\\n",
       "count                                  27898      27898.000000   \n",
       "unique                                     2               NaN   \n",
       "top                                      Yes               NaN   \n",
       "freq                                   17656               NaN   \n",
       "mean                                     NaN          7.156570   \n",
       "std                                      NaN          3.707598   \n",
       "min                                      NaN          0.000000   \n",
       "25%                                      NaN          4.000000   \n",
       "50%                                      NaN          8.000000   \n",
       "75%                                      NaN         10.000000   \n",
       "max                                      NaN         12.000000   \n",
       "\n",
       "        Financial Stress Family History of Mental Illness    Depression  \n",
       "count       27898.000000                            27898  27898.000000  \n",
       "unique               NaN                                2           NaN  \n",
       "top                  NaN                               No           NaN  \n",
       "freq                 NaN                            14397           NaN  \n",
       "mean            3.139867                              NaN      0.585526  \n",
       "std             1.437347                              NaN      0.492640  \n",
       "min             1.000000                              NaN      0.000000  \n",
       "25%             2.000000                              NaN      0.000000  \n",
       "50%             3.000000                              NaN      1.000000  \n",
       "75%             4.000000                              NaN      1.000000  \n",
       "max             5.000000                              NaN      1.000000  "
      ]
     },
     "execution_count": 10,
     "metadata": {},
     "output_type": "execute_result"
    }
   ],
   "source": [
    "depression2.describe(include = \"all\")"
   ]
  },
  {
   "cell_type": "code",
   "execution_count": 11,
   "id": "101b36c6-3db1-4caa-acc4-1bf04e21fafc",
   "metadata": {},
   "outputs": [],
   "source": [
    "depression3 = pd.get_dummies(depression2, columns = [\"Gender\",\"Have you ever had suicidal thoughts ?\",\"Family History of Mental Illness\",\"Sleep Duration\"], drop_first = True)"
   ]
  },
  {
   "cell_type": "code",
   "execution_count": 12,
   "id": "6a9d4539-6340-4807-9b80-152cbccba341",
   "metadata": {},
   "outputs": [
    {
     "data": {
      "text/html": [
       "<div>\n",
       "<style scoped>\n",
       "    .dataframe tbody tr th:only-of-type {\n",
       "        vertical-align: middle;\n",
       "    }\n",
       "\n",
       "    .dataframe tbody tr th {\n",
       "        vertical-align: top;\n",
       "    }\n",
       "\n",
       "    .dataframe thead th {\n",
       "        text-align: right;\n",
       "    }\n",
       "</style>\n",
       "<table border=\"1\" class=\"dataframe\">\n",
       "  <thead>\n",
       "    <tr style=\"text-align: right;\">\n",
       "      <th></th>\n",
       "      <th>id</th>\n",
       "      <th>Age</th>\n",
       "      <th>City</th>\n",
       "      <th>Profession</th>\n",
       "      <th>Academic Pressure</th>\n",
       "      <th>Work Pressure</th>\n",
       "      <th>CGPA</th>\n",
       "      <th>Study Satisfaction</th>\n",
       "      <th>Job Satisfaction</th>\n",
       "      <th>Dietary Habits</th>\n",
       "      <th>...</th>\n",
       "      <th>Work/Study Hours</th>\n",
       "      <th>Financial Stress</th>\n",
       "      <th>Depression</th>\n",
       "      <th>Gender_Male</th>\n",
       "      <th>Have you ever had suicidal thoughts ?_Yes</th>\n",
       "      <th>Family History of Mental Illness_Yes</th>\n",
       "      <th>Sleep Duration_7-8 hours</th>\n",
       "      <th>Sleep Duration_Less than 5 hours</th>\n",
       "      <th>Sleep Duration_More than 8 hours</th>\n",
       "      <th>Sleep Duration_Others</th>\n",
       "    </tr>\n",
       "  </thead>\n",
       "  <tbody>\n",
       "    <tr>\n",
       "      <th>0</th>\n",
       "      <td>2</td>\n",
       "      <td>33.0</td>\n",
       "      <td>Visakhapatnam</td>\n",
       "      <td>Student</td>\n",
       "      <td>5.0</td>\n",
       "      <td>0.0</td>\n",
       "      <td>8.97</td>\n",
       "      <td>2.0</td>\n",
       "      <td>0.0</td>\n",
       "      <td>Healthy</td>\n",
       "      <td>...</td>\n",
       "      <td>3.0</td>\n",
       "      <td>1.0</td>\n",
       "      <td>1</td>\n",
       "      <td>True</td>\n",
       "      <td>True</td>\n",
       "      <td>False</td>\n",
       "      <td>False</td>\n",
       "      <td>False</td>\n",
       "      <td>False</td>\n",
       "      <td>False</td>\n",
       "    </tr>\n",
       "    <tr>\n",
       "      <th>1</th>\n",
       "      <td>8</td>\n",
       "      <td>24.0</td>\n",
       "      <td>Bangalore</td>\n",
       "      <td>Student</td>\n",
       "      <td>2.0</td>\n",
       "      <td>0.0</td>\n",
       "      <td>5.90</td>\n",
       "      <td>5.0</td>\n",
       "      <td>0.0</td>\n",
       "      <td>Moderate</td>\n",
       "      <td>...</td>\n",
       "      <td>3.0</td>\n",
       "      <td>2.0</td>\n",
       "      <td>0</td>\n",
       "      <td>False</td>\n",
       "      <td>False</td>\n",
       "      <td>True</td>\n",
       "      <td>False</td>\n",
       "      <td>False</td>\n",
       "      <td>False</td>\n",
       "      <td>False</td>\n",
       "    </tr>\n",
       "    <tr>\n",
       "      <th>2</th>\n",
       "      <td>26</td>\n",
       "      <td>31.0</td>\n",
       "      <td>Srinagar</td>\n",
       "      <td>Student</td>\n",
       "      <td>3.0</td>\n",
       "      <td>0.0</td>\n",
       "      <td>7.03</td>\n",
       "      <td>5.0</td>\n",
       "      <td>0.0</td>\n",
       "      <td>Healthy</td>\n",
       "      <td>...</td>\n",
       "      <td>9.0</td>\n",
       "      <td>1.0</td>\n",
       "      <td>0</td>\n",
       "      <td>True</td>\n",
       "      <td>False</td>\n",
       "      <td>True</td>\n",
       "      <td>False</td>\n",
       "      <td>True</td>\n",
       "      <td>False</td>\n",
       "      <td>False</td>\n",
       "    </tr>\n",
       "    <tr>\n",
       "      <th>3</th>\n",
       "      <td>30</td>\n",
       "      <td>28.0</td>\n",
       "      <td>Varanasi</td>\n",
       "      <td>Student</td>\n",
       "      <td>3.0</td>\n",
       "      <td>0.0</td>\n",
       "      <td>5.59</td>\n",
       "      <td>2.0</td>\n",
       "      <td>0.0</td>\n",
       "      <td>Moderate</td>\n",
       "      <td>...</td>\n",
       "      <td>4.0</td>\n",
       "      <td>5.0</td>\n",
       "      <td>1</td>\n",
       "      <td>False</td>\n",
       "      <td>True</td>\n",
       "      <td>True</td>\n",
       "      <td>True</td>\n",
       "      <td>False</td>\n",
       "      <td>False</td>\n",
       "      <td>False</td>\n",
       "    </tr>\n",
       "    <tr>\n",
       "      <th>4</th>\n",
       "      <td>32</td>\n",
       "      <td>25.0</td>\n",
       "      <td>Jaipur</td>\n",
       "      <td>Student</td>\n",
       "      <td>4.0</td>\n",
       "      <td>0.0</td>\n",
       "      <td>8.13</td>\n",
       "      <td>3.0</td>\n",
       "      <td>0.0</td>\n",
       "      <td>Moderate</td>\n",
       "      <td>...</td>\n",
       "      <td>1.0</td>\n",
       "      <td>1.0</td>\n",
       "      <td>0</td>\n",
       "      <td>False</td>\n",
       "      <td>True</td>\n",
       "      <td>False</td>\n",
       "      <td>False</td>\n",
       "      <td>False</td>\n",
       "      <td>False</td>\n",
       "      <td>False</td>\n",
       "    </tr>\n",
       "    <tr>\n",
       "      <th>5</th>\n",
       "      <td>33</td>\n",
       "      <td>29.0</td>\n",
       "      <td>Pune</td>\n",
       "      <td>Student</td>\n",
       "      <td>2.0</td>\n",
       "      <td>0.0</td>\n",
       "      <td>5.70</td>\n",
       "      <td>3.0</td>\n",
       "      <td>0.0</td>\n",
       "      <td>Healthy</td>\n",
       "      <td>...</td>\n",
       "      <td>4.0</td>\n",
       "      <td>1.0</td>\n",
       "      <td>0</td>\n",
       "      <td>True</td>\n",
       "      <td>False</td>\n",
       "      <td>False</td>\n",
       "      <td>False</td>\n",
       "      <td>True</td>\n",
       "      <td>False</td>\n",
       "      <td>False</td>\n",
       "    </tr>\n",
       "    <tr>\n",
       "      <th>6</th>\n",
       "      <td>52</td>\n",
       "      <td>30.0</td>\n",
       "      <td>Thane</td>\n",
       "      <td>Student</td>\n",
       "      <td>3.0</td>\n",
       "      <td>0.0</td>\n",
       "      <td>9.54</td>\n",
       "      <td>4.0</td>\n",
       "      <td>0.0</td>\n",
       "      <td>Healthy</td>\n",
       "      <td>...</td>\n",
       "      <td>1.0</td>\n",
       "      <td>2.0</td>\n",
       "      <td>0</td>\n",
       "      <td>True</td>\n",
       "      <td>False</td>\n",
       "      <td>False</td>\n",
       "      <td>True</td>\n",
       "      <td>False</td>\n",
       "      <td>False</td>\n",
       "      <td>False</td>\n",
       "    </tr>\n",
       "    <tr>\n",
       "      <th>7</th>\n",
       "      <td>56</td>\n",
       "      <td>30.0</td>\n",
       "      <td>Chennai</td>\n",
       "      <td>Student</td>\n",
       "      <td>2.0</td>\n",
       "      <td>0.0</td>\n",
       "      <td>8.04</td>\n",
       "      <td>4.0</td>\n",
       "      <td>0.0</td>\n",
       "      <td>Unhealthy</td>\n",
       "      <td>...</td>\n",
       "      <td>0.0</td>\n",
       "      <td>1.0</td>\n",
       "      <td>0</td>\n",
       "      <td>False</td>\n",
       "      <td>False</td>\n",
       "      <td>True</td>\n",
       "      <td>False</td>\n",
       "      <td>True</td>\n",
       "      <td>False</td>\n",
       "      <td>False</td>\n",
       "    </tr>\n",
       "    <tr>\n",
       "      <th>8</th>\n",
       "      <td>59</td>\n",
       "      <td>28.0</td>\n",
       "      <td>Nagpur</td>\n",
       "      <td>Student</td>\n",
       "      <td>3.0</td>\n",
       "      <td>0.0</td>\n",
       "      <td>9.79</td>\n",
       "      <td>1.0</td>\n",
       "      <td>0.0</td>\n",
       "      <td>Moderate</td>\n",
       "      <td>...</td>\n",
       "      <td>12.0</td>\n",
       "      <td>3.0</td>\n",
       "      <td>1</td>\n",
       "      <td>True</td>\n",
       "      <td>True</td>\n",
       "      <td>False</td>\n",
       "      <td>True</td>\n",
       "      <td>False</td>\n",
       "      <td>False</td>\n",
       "      <td>False</td>\n",
       "    </tr>\n",
       "    <tr>\n",
       "      <th>9</th>\n",
       "      <td>62</td>\n",
       "      <td>31.0</td>\n",
       "      <td>Nashik</td>\n",
       "      <td>Student</td>\n",
       "      <td>2.0</td>\n",
       "      <td>0.0</td>\n",
       "      <td>8.38</td>\n",
       "      <td>3.0</td>\n",
       "      <td>0.0</td>\n",
       "      <td>Moderate</td>\n",
       "      <td>...</td>\n",
       "      <td>2.0</td>\n",
       "      <td>5.0</td>\n",
       "      <td>1</td>\n",
       "      <td>True</td>\n",
       "      <td>True</td>\n",
       "      <td>False</td>\n",
       "      <td>False</td>\n",
       "      <td>True</td>\n",
       "      <td>False</td>\n",
       "      <td>False</td>\n",
       "    </tr>\n",
       "  </tbody>\n",
       "</table>\n",
       "<p>10 rows × 21 columns</p>\n",
       "</div>"
      ],
      "text/plain": [
       "   id   Age           City Profession  Academic Pressure  Work Pressure  CGPA  \\\n",
       "0   2  33.0  Visakhapatnam    Student                5.0            0.0  8.97   \n",
       "1   8  24.0      Bangalore    Student                2.0            0.0  5.90   \n",
       "2  26  31.0       Srinagar    Student                3.0            0.0  7.03   \n",
       "3  30  28.0       Varanasi    Student                3.0            0.0  5.59   \n",
       "4  32  25.0         Jaipur    Student                4.0            0.0  8.13   \n",
       "5  33  29.0           Pune    Student                2.0            0.0  5.70   \n",
       "6  52  30.0          Thane    Student                3.0            0.0  9.54   \n",
       "7  56  30.0        Chennai    Student                2.0            0.0  8.04   \n",
       "8  59  28.0         Nagpur    Student                3.0            0.0  9.79   \n",
       "9  62  31.0         Nashik    Student                2.0            0.0  8.38   \n",
       "\n",
       "   Study Satisfaction  Job Satisfaction Dietary Habits  ... Work/Study Hours  \\\n",
       "0                 2.0               0.0        Healthy  ...              3.0   \n",
       "1                 5.0               0.0       Moderate  ...              3.0   \n",
       "2                 5.0               0.0        Healthy  ...              9.0   \n",
       "3                 2.0               0.0       Moderate  ...              4.0   \n",
       "4                 3.0               0.0       Moderate  ...              1.0   \n",
       "5                 3.0               0.0        Healthy  ...              4.0   \n",
       "6                 4.0               0.0        Healthy  ...              1.0   \n",
       "7                 4.0               0.0      Unhealthy  ...              0.0   \n",
       "8                 1.0               0.0       Moderate  ...             12.0   \n",
       "9                 3.0               0.0       Moderate  ...              2.0   \n",
       "\n",
       "   Financial Stress  Depression  Gender_Male  \\\n",
       "0               1.0           1         True   \n",
       "1               2.0           0        False   \n",
       "2               1.0           0         True   \n",
       "3               5.0           1        False   \n",
       "4               1.0           0        False   \n",
       "5               1.0           0         True   \n",
       "6               2.0           0         True   \n",
       "7               1.0           0        False   \n",
       "8               3.0           1         True   \n",
       "9               5.0           1         True   \n",
       "\n",
       "   Have you ever had suicidal thoughts ?_Yes  \\\n",
       "0                                       True   \n",
       "1                                      False   \n",
       "2                                      False   \n",
       "3                                       True   \n",
       "4                                       True   \n",
       "5                                      False   \n",
       "6                                      False   \n",
       "7                                      False   \n",
       "8                                       True   \n",
       "9                                       True   \n",
       "\n",
       "   Family History of Mental Illness_Yes  Sleep Duration_7-8 hours  \\\n",
       "0                                 False                     False   \n",
       "1                                  True                     False   \n",
       "2                                  True                     False   \n",
       "3                                  True                      True   \n",
       "4                                 False                     False   \n",
       "5                                 False                     False   \n",
       "6                                 False                      True   \n",
       "7                                  True                     False   \n",
       "8                                 False                      True   \n",
       "9                                 False                     False   \n",
       "\n",
       "   Sleep Duration_Less than 5 hours  Sleep Duration_More than 8 hours  \\\n",
       "0                             False                             False   \n",
       "1                             False                             False   \n",
       "2                              True                             False   \n",
       "3                             False                             False   \n",
       "4                             False                             False   \n",
       "5                              True                             False   \n",
       "6                             False                             False   \n",
       "7                              True                             False   \n",
       "8                             False                             False   \n",
       "9                              True                             False   \n",
       "\n",
       "   Sleep Duration_Others  \n",
       "0                  False  \n",
       "1                  False  \n",
       "2                  False  \n",
       "3                  False  \n",
       "4                  False  \n",
       "5                  False  \n",
       "6                  False  \n",
       "7                  False  \n",
       "8                  False  \n",
       "9                  False  \n",
       "\n",
       "[10 rows x 21 columns]"
      ]
     },
     "execution_count": 12,
     "metadata": {},
     "output_type": "execute_result"
    }
   ],
   "source": [
    "depression3.head(10)"
   ]
  },
  {
   "cell_type": "code",
   "execution_count": 13,
   "id": "48ba3d3a-1fcb-464e-a09f-d42ff487ea5b",
   "metadata": {},
   "outputs": [
    {
     "data": {
      "text/plain": [
       "Index(['id', 'Age', 'City', 'Profession', 'Academic Pressure', 'Work Pressure',\n",
       "       'CGPA', 'Study Satisfaction', 'Job Satisfaction', 'Dietary Habits',\n",
       "       'Degree', 'Work/Study Hours', 'Financial Stress', 'Depression',\n",
       "       'Gender_Male', 'Have you ever had suicidal thoughts ?_Yes',\n",
       "       'Family History of Mental Illness_Yes', 'Sleep Duration_7-8 hours',\n",
       "       'Sleep Duration_Less than 5 hours', 'Sleep Duration_More than 8 hours',\n",
       "       'Sleep Duration_Others'],\n",
       "      dtype='object')"
      ]
     },
     "execution_count": 13,
     "metadata": {},
     "output_type": "execute_result"
    }
   ],
   "source": [
    "depression3.columns"
   ]
  },
  {
   "cell_type": "code",
   "execution_count": 14,
   "id": "c6ae169f-86a7-4b6a-9439-3c37d2bf6883",
   "metadata": {},
   "outputs": [
    {
     "name": "stdout",
     "output_type": "stream",
     "text": [
      "Optimization terminated successfully.\n",
      "         Current function value: 0.473531\n",
      "         Iterations 6\n"
     ]
    },
    {
     "data": {
      "text/html": [
       "<table class=\"simpletable\">\n",
       "<caption>Logit Regression Results</caption>\n",
       "<tr>\n",
       "  <th>Dep. Variable:</th>      <td>Depression</td>    <th>  No. Observations:  </th>  <td> 27898</td> \n",
       "</tr>\n",
       "<tr>\n",
       "  <th>Model:</th>                 <td>Logit</td>      <th>  Df Residuals:      </th>  <td> 27888</td> \n",
       "</tr>\n",
       "<tr>\n",
       "  <th>Method:</th>                 <td>MLE</td>       <th>  Df Model:          </th>  <td>     9</td> \n",
       "</tr>\n",
       "<tr>\n",
       "  <th>Date:</th>            <td>Wed, 30 Apr 2025</td> <th>  Pseudo R-squ.:     </th>  <td>0.3020</td> \n",
       "</tr>\n",
       "<tr>\n",
       "  <th>Time:</th>                <td>11:33:39</td>     <th>  Log-Likelihood:    </th> <td> -13211.</td>\n",
       "</tr>\n",
       "<tr>\n",
       "  <th>converged:</th>             <td>True</td>       <th>  LL-Null:           </th> <td> -18927.</td>\n",
       "</tr>\n",
       "<tr>\n",
       "  <th>Covariance Type:</th>     <td>nonrobust</td>    <th>  LLR p-value:       </th>  <td> 0.000</td> \n",
       "</tr>\n",
       "</table>\n",
       "<table class=\"simpletable\">\n",
       "<tr>\n",
       "                        <td></td>                           <th>coef</th>     <th>std err</th>      <th>z</th>      <th>P>|z|</th>  <th>[0.025</th>    <th>0.975]</th>  \n",
       "</tr>\n",
       "<tr>\n",
       "  <th>Intercept</th>                                     <td>   -4.5749</td> <td>    0.115</td> <td>  -39.824</td> <td> 0.000</td> <td>   -4.800</td> <td>   -4.350</td>\n",
       "</tr>\n",
       "<tr>\n",
       "  <th>Q(\"Sleep Duration_7-8 hours\")[T.True]</th>         <td>    0.1157</td> <td>    0.043</td> <td>    2.663</td> <td> 0.008</td> <td>    0.031</td> <td>    0.201</td>\n",
       "</tr>\n",
       "<tr>\n",
       "  <th>Q(\"Sleep Duration_Less than 5 hours\")[T.True]</th> <td>    0.3887</td> <td>    0.043</td> <td>    9.062</td> <td> 0.000</td> <td>    0.305</td> <td>    0.473</td>\n",
       "</tr>\n",
       "<tr>\n",
       "  <th>Q(\"Sleep Duration_More than 8 hours\")[T.True]</th> <td>   -0.2321</td> <td>    0.045</td> <td>   -5.111</td> <td> 0.000</td> <td>   -0.321</td> <td>   -0.143</td>\n",
       "</tr>\n",
       "<tr>\n",
       "  <th>Q(\"Sleep Duration_Others\")[T.True]</th>            <td>   -0.0856</td> <td>    0.553</td> <td>   -0.155</td> <td> 0.877</td> <td>   -1.169</td> <td>    0.997</td>\n",
       "</tr>\n",
       "<tr>\n",
       "  <th>Q(\"Work/Study Hours\")</th>                         <td>    0.1168</td> <td>    0.004</td> <td>   28.084</td> <td> 0.000</td> <td>    0.109</td> <td>    0.125</td>\n",
       "</tr>\n",
       "<tr>\n",
       "  <th>Q(\"Academic Pressure\")</th>                        <td>    0.8292</td> <td>    0.012</td> <td>   66.527</td> <td> 0.000</td> <td>    0.805</td> <td>    0.854</td>\n",
       "</tr>\n",
       "<tr>\n",
       "  <th>Q(\"Financial Stress\")</th>                         <td>    0.5782</td> <td>    0.011</td> <td>   51.537</td> <td> 0.000</td> <td>    0.556</td> <td>    0.600</td>\n",
       "</tr>\n",
       "<tr>\n",
       "  <th>Q(\"Study Satisfaction\")</th>                       <td>   -0.2200</td> <td>    0.011</td> <td>  -19.396</td> <td> 0.000</td> <td>   -0.242</td> <td>   -0.198</td>\n",
       "</tr>\n",
       "<tr>\n",
       "  <th>Q(\"CGPA\")</th>                                     <td>    0.0503</td> <td>    0.010</td> <td>    4.849</td> <td> 0.000</td> <td>    0.030</td> <td>    0.071</td>\n",
       "</tr>\n",
       "</table>"
      ],
      "text/latex": [
       "\\begin{center}\n",
       "\\begin{tabular}{lclc}\n",
       "\\toprule\n",
       "\\textbf{Dep. Variable:}                                 &    Depression    & \\textbf{  No. Observations:  } &    27898    \\\\\n",
       "\\textbf{Model:}                                         &      Logit       & \\textbf{  Df Residuals:      } &    27888    \\\\\n",
       "\\textbf{Method:}                                        &       MLE        & \\textbf{  Df Model:          } &        9    \\\\\n",
       "\\textbf{Date:}                                          & Wed, 30 Apr 2025 & \\textbf{  Pseudo R-squ.:     } &   0.3020    \\\\\n",
       "\\textbf{Time:}                                          &     11:33:39     & \\textbf{  Log-Likelihood:    } &   -13211.   \\\\\n",
       "\\textbf{converged:}                                     &       True       & \\textbf{  LL-Null:           } &   -18927.   \\\\\n",
       "\\textbf{Covariance Type:}                               &    nonrobust     & \\textbf{  LLR p-value:       } &    0.000    \\\\\n",
       "\\bottomrule\n",
       "\\end{tabular}\n",
       "\\begin{tabular}{lcccccc}\n",
       "                                                        & \\textbf{coef} & \\textbf{std err} & \\textbf{z} & \\textbf{P$> |$z$|$} & \\textbf{[0.025} & \\textbf{0.975]}  \\\\\n",
       "\\midrule\n",
       "\\textbf{Intercept}                                      &      -4.5749  &        0.115     &   -39.824  &         0.000        &       -4.800    &       -4.350     \\\\\n",
       "\\textbf{Q(\"Sleep Duration\\_7-8 hours\")[T.True]}         &       0.1157  &        0.043     &     2.663  &         0.008        &        0.031    &        0.201     \\\\\n",
       "\\textbf{Q(\"Sleep Duration\\_Less than 5 hours\")[T.True]} &       0.3887  &        0.043     &     9.062  &         0.000        &        0.305    &        0.473     \\\\\n",
       "\\textbf{Q(\"Sleep Duration\\_More than 8 hours\")[T.True]} &      -0.2321  &        0.045     &    -5.111  &         0.000        &       -0.321    &       -0.143     \\\\\n",
       "\\textbf{Q(\"Sleep Duration\\_Others\")[T.True]}            &      -0.0856  &        0.553     &    -0.155  &         0.877        &       -1.169    &        0.997     \\\\\n",
       "\\textbf{Q(\"Work/Study Hours\")}                          &       0.1168  &        0.004     &    28.084  &         0.000        &        0.109    &        0.125     \\\\\n",
       "\\textbf{Q(\"Academic Pressure\")}                         &       0.8292  &        0.012     &    66.527  &         0.000        &        0.805    &        0.854     \\\\\n",
       "\\textbf{Q(\"Financial Stress\")}                          &       0.5782  &        0.011     &    51.537  &         0.000        &        0.556    &        0.600     \\\\\n",
       "\\textbf{Q(\"Study Satisfaction\")}                        &      -0.2200  &        0.011     &   -19.396  &         0.000        &       -0.242    &       -0.198     \\\\\n",
       "\\textbf{Q(\"CGPA\")}                                      &       0.0503  &        0.010     &     4.849  &         0.000        &        0.030    &        0.071     \\\\\n",
       "\\bottomrule\n",
       "\\end{tabular}\n",
       "%\\caption{Logit Regression Results}\n",
       "\\end{center}"
      ],
      "text/plain": [
       "<class 'statsmodels.iolib.summary.Summary'>\n",
       "\"\"\"\n",
       "                           Logit Regression Results                           \n",
       "==============================================================================\n",
       "Dep. Variable:             Depression   No. Observations:                27898\n",
       "Model:                          Logit   Df Residuals:                    27888\n",
       "Method:                           MLE   Df Model:                            9\n",
       "Date:                Wed, 30 Apr 2025   Pseudo R-squ.:                  0.3020\n",
       "Time:                        11:33:39   Log-Likelihood:                -13211.\n",
       "converged:                       True   LL-Null:                       -18927.\n",
       "Covariance Type:            nonrobust   LLR p-value:                     0.000\n",
       "=================================================================================================================\n",
       "                                                    coef    std err          z      P>|z|      [0.025      0.975]\n",
       "-----------------------------------------------------------------------------------------------------------------\n",
       "Intercept                                        -4.5749      0.115    -39.824      0.000      -4.800      -4.350\n",
       "Q(\"Sleep Duration_7-8 hours\")[T.True]             0.1157      0.043      2.663      0.008       0.031       0.201\n",
       "Q(\"Sleep Duration_Less than 5 hours\")[T.True]     0.3887      0.043      9.062      0.000       0.305       0.473\n",
       "Q(\"Sleep Duration_More than 8 hours\")[T.True]    -0.2321      0.045     -5.111      0.000      -0.321      -0.143\n",
       "Q(\"Sleep Duration_Others\")[T.True]               -0.0856      0.553     -0.155      0.877      -1.169       0.997\n",
       "Q(\"Work/Study Hours\")                             0.1168      0.004     28.084      0.000       0.109       0.125\n",
       "Q(\"Academic Pressure\")                            0.8292      0.012     66.527      0.000       0.805       0.854\n",
       "Q(\"Financial Stress\")                             0.5782      0.011     51.537      0.000       0.556       0.600\n",
       "Q(\"Study Satisfaction\")                          -0.2200      0.011    -19.396      0.000      -0.242      -0.198\n",
       "Q(\"CGPA\")                                         0.0503      0.010      4.849      0.000       0.030       0.071\n",
       "=================================================================================================================\n",
       "\"\"\""
      ]
     },
     "execution_count": 14,
     "metadata": {},
     "output_type": "execute_result"
    }
   ],
   "source": [
    "logit_model = smf.logit('Depression ~ Q(\"Sleep Duration_7-8 hours\") + Q(\"Sleep Duration_Less than 5 hours\") + Q(\"Sleep Duration_More than 8 hours\") + Q(\"Sleep Duration_Others\") + Q(\"Work/Study Hours\") + Q(\"Academic Pressure\") + Q(\"Financial Stress\") + Q(\"Study Satisfaction\") + Q(\"CGPA\")', depression3).fit()\n",
    "logit_model.summary()"
   ]
  },
  {
   "cell_type": "code",
   "execution_count": 15,
   "id": "9bffccc6-19b3-48f7-b44d-f408784a9345",
   "metadata": {},
   "outputs": [
    {
     "data": {
      "text/plain": [
       "array([[ 8037.,  3526.],\n",
       "       [ 2676., 13659.]])"
      ]
     },
     "execution_count": 15,
     "metadata": {},
     "output_type": "execute_result"
    }
   ],
   "source": [
    "confusion_matrix1 = logit_model.pred_table()\n",
    "confusion_matrix1"
   ]
  },
  {
   "cell_type": "code",
   "execution_count": 16,
   "id": "4fff751c-6031-43e8-87d8-77a14df6d2d9",
   "metadata": {},
   "outputs": [
    {
     "data": {
      "text/plain": [
       "8037.0"
      ]
     },
     "execution_count": 16,
     "metadata": {},
     "output_type": "execute_result"
    }
   ],
   "source": [
    "confusion_matrix1[0][0]"
   ]
  },
  {
   "cell_type": "code",
   "execution_count": 17,
   "id": "8bbec5ea-4a31-4a64-a839-ca9e1ad45737",
   "metadata": {},
   "outputs": [
    {
     "data": {
      "text/plain": [
       "3526.0"
      ]
     },
     "execution_count": 17,
     "metadata": {},
     "output_type": "execute_result"
    }
   ],
   "source": [
    "confusion_matrix1[0][1]"
   ]
  },
  {
   "cell_type": "code",
   "execution_count": 18,
   "id": "8a33fd81-49a4-4503-8fce-64a0da229fce",
   "metadata": {},
   "outputs": [
    {
     "data": {
      "text/plain": [
       "2676.0"
      ]
     },
     "execution_count": 18,
     "metadata": {},
     "output_type": "execute_result"
    }
   ],
   "source": [
    "confusion_matrix1[1][0]"
   ]
  },
  {
   "cell_type": "code",
   "execution_count": 19,
   "id": "ed06612a-d5e7-454f-8d7f-afcc2c17c2a3",
   "metadata": {},
   "outputs": [
    {
     "data": {
      "text/plain": [
       "13659.0"
      ]
     },
     "execution_count": 19,
     "metadata": {},
     "output_type": "execute_result"
    }
   ],
   "source": [
    "confusion_matrix1[1][1]"
   ]
  },
  {
   "cell_type": "code",
   "execution_count": 20,
   "id": "f8fdc0d0-5cec-42ed-a39d-0ba9cdad5d66",
   "metadata": {},
   "outputs": [],
   "source": [
    "true_neg = confusion_matrix1[0][0]\n",
    "false_neg = confusion_matrix1[1][0]\n",
    "false_pos = confusion_matrix1[0][1]\n",
    "true_pos = confusion_matrix1[1][1]"
   ]
  },
  {
   "cell_type": "code",
   "execution_count": 21,
   "id": "3de915ac-fe92-4b87-9827-095ce29bbb28",
   "metadata": {},
   "outputs": [
    {
     "data": {
      "text/plain": [
       "0.8361799816345271"
      ]
     },
     "execution_count": 21,
     "metadata": {},
     "output_type": "execute_result"
    }
   ],
   "source": [
    "sensitivity = true_pos/(true_pos + false_neg)\n",
    "sensitivity"
   ]
  },
  {
   "cell_type": "code",
   "execution_count": 22,
   "id": "1b649464-857a-413a-be6a-57510b986699",
   "metadata": {},
   "outputs": [
    {
     "data": {
      "text/plain": [
       "0.6950618351638848"
      ]
     },
     "execution_count": 22,
     "metadata": {},
     "output_type": "execute_result"
    }
   ],
   "source": [
    "specificity = true_neg/(true_neg + false_pos)\n",
    "specificity"
   ]
  },
  {
   "cell_type": "code",
   "execution_count": 23,
   "id": "113bff33-9376-4ba1-9f28-21e7e4a16e28",
   "metadata": {},
   "outputs": [
    {
     "data": {
      "text/plain": [
       "0.7776901570005018"
      ]
     },
     "execution_count": 23,
     "metadata": {},
     "output_type": "execute_result"
    }
   ],
   "source": [
    "accuracy = (true_pos + true_neg)/len(depression3)\n",
    "accuracy"
   ]
  },
  {
   "cell_type": "code",
   "execution_count": 24,
   "id": "8f810788-5724-42ac-a252-8ce142a3becb",
   "metadata": {},
   "outputs": [
    {
     "data": {
      "text/plain": [
       "0.7948210648821646"
      ]
     },
     "execution_count": 24,
     "metadata": {},
     "output_type": "execute_result"
    }
   ],
   "source": [
    "precision = true_pos/(true_pos + false_pos)\n",
    "precision"
   ]
  },
  {
   "cell_type": "code",
   "execution_count": 25,
   "id": "70755a9f-a541-45ce-bef0-7cb16e8138eb",
   "metadata": {},
   "outputs": [
    {
     "name": "stdout",
     "output_type": "stream",
     "text": [
      "Optimization terminated successfully.\n",
      "         Current function value: 0.477445\n",
      "         Iterations 6\n"
     ]
    },
    {
     "data": {
      "text/html": [
       "<table class=\"simpletable\">\n",
       "<caption>Logit Regression Results</caption>\n",
       "<tr>\n",
       "  <th>Dep. Variable:</th>      <td>Depression</td>    <th>  No. Observations:  </th>  <td> 27898</td> \n",
       "</tr>\n",
       "<tr>\n",
       "  <th>Model:</th>                 <td>Logit</td>      <th>  Df Residuals:      </th>  <td> 27892</td> \n",
       "</tr>\n",
       "<tr>\n",
       "  <th>Method:</th>                 <td>MLE</td>       <th>  Df Model:          </th>  <td>     5</td> \n",
       "</tr>\n",
       "<tr>\n",
       "  <th>Date:</th>            <td>Wed, 30 Apr 2025</td> <th>  Pseudo R-squ.:     </th>  <td>0.2963</td> \n",
       "</tr>\n",
       "<tr>\n",
       "  <th>Time:</th>                <td>11:33:39</td>     <th>  Log-Likelihood:    </th> <td> -13320.</td>\n",
       "</tr>\n",
       "<tr>\n",
       "  <th>converged:</th>             <td>True</td>       <th>  LL-Null:           </th> <td> -18927.</td>\n",
       "</tr>\n",
       "<tr>\n",
       "  <th>Covariance Type:</th>     <td>nonrobust</td>    <th>  LLR p-value:       </th>  <td> 0.000</td> \n",
       "</tr>\n",
       "</table>\n",
       "<table class=\"simpletable\">\n",
       "<tr>\n",
       "             <td></td>                <th>coef</th>     <th>std err</th>      <th>z</th>      <th>P>|z|</th>  <th>[0.025</th>    <th>0.975]</th>  \n",
       "</tr>\n",
       "<tr>\n",
       "  <th>Intercept</th>               <td>   -4.4786</td> <td>    0.110</td> <td>  -40.623</td> <td> 0.000</td> <td>   -4.695</td> <td>   -4.263</td>\n",
       "</tr>\n",
       "<tr>\n",
       "  <th>Q(\"Work/Study Hours\")</th>   <td>    0.1171</td> <td>    0.004</td> <td>   28.311</td> <td> 0.000</td> <td>    0.109</td> <td>    0.125</td>\n",
       "</tr>\n",
       "<tr>\n",
       "  <th>Q(\"Academic Pressure\")</th>  <td>    0.8288</td> <td>    0.012</td> <td>   66.832</td> <td> 0.000</td> <td>    0.804</td> <td>    0.853</td>\n",
       "</tr>\n",
       "<tr>\n",
       "  <th>Q(\"Financial Stress\")</th>   <td>    0.5733</td> <td>    0.011</td> <td>   51.425</td> <td> 0.000</td> <td>    0.551</td> <td>    0.595</td>\n",
       "</tr>\n",
       "<tr>\n",
       "  <th>Q(\"Study Satisfaction\")</th> <td>   -0.2201</td> <td>    0.011</td> <td>  -19.504</td> <td> 0.000</td> <td>   -0.242</td> <td>   -0.198</td>\n",
       "</tr>\n",
       "<tr>\n",
       "  <th>Q(\"CGPA\")</th>               <td>    0.0516</td> <td>    0.010</td> <td>    4.995</td> <td> 0.000</td> <td>    0.031</td> <td>    0.072</td>\n",
       "</tr>\n",
       "</table>"
      ],
      "text/latex": [
       "\\begin{center}\n",
       "\\begin{tabular}{lclc}\n",
       "\\toprule\n",
       "\\textbf{Dep. Variable:}          &    Depression    & \\textbf{  No. Observations:  } &    27898    \\\\\n",
       "\\textbf{Model:}                  &      Logit       & \\textbf{  Df Residuals:      } &    27892    \\\\\n",
       "\\textbf{Method:}                 &       MLE        & \\textbf{  Df Model:          } &        5    \\\\\n",
       "\\textbf{Date:}                   & Wed, 30 Apr 2025 & \\textbf{  Pseudo R-squ.:     } &   0.2963    \\\\\n",
       "\\textbf{Time:}                   &     11:33:39     & \\textbf{  Log-Likelihood:    } &   -13320.   \\\\\n",
       "\\textbf{converged:}              &       True       & \\textbf{  LL-Null:           } &   -18927.   \\\\\n",
       "\\textbf{Covariance Type:}        &    nonrobust     & \\textbf{  LLR p-value:       } &    0.000    \\\\\n",
       "\\bottomrule\n",
       "\\end{tabular}\n",
       "\\begin{tabular}{lcccccc}\n",
       "                                 & \\textbf{coef} & \\textbf{std err} & \\textbf{z} & \\textbf{P$> |$z$|$} & \\textbf{[0.025} & \\textbf{0.975]}  \\\\\n",
       "\\midrule\n",
       "\\textbf{Intercept}               &      -4.4786  &        0.110     &   -40.623  &         0.000        &       -4.695    &       -4.263     \\\\\n",
       "\\textbf{Q(\"Work/Study Hours\")}   &       0.1171  &        0.004     &    28.311  &         0.000        &        0.109    &        0.125     \\\\\n",
       "\\textbf{Q(\"Academic Pressure\")}  &       0.8288  &        0.012     &    66.832  &         0.000        &        0.804    &        0.853     \\\\\n",
       "\\textbf{Q(\"Financial Stress\")}   &       0.5733  &        0.011     &    51.425  &         0.000        &        0.551    &        0.595     \\\\\n",
       "\\textbf{Q(\"Study Satisfaction\")} &      -0.2201  &        0.011     &   -19.504  &         0.000        &       -0.242    &       -0.198     \\\\\n",
       "\\textbf{Q(\"CGPA\")}               &       0.0516  &        0.010     &     4.995  &         0.000        &        0.031    &        0.072     \\\\\n",
       "\\bottomrule\n",
       "\\end{tabular}\n",
       "%\\caption{Logit Regression Results}\n",
       "\\end{center}"
      ],
      "text/plain": [
       "<class 'statsmodels.iolib.summary.Summary'>\n",
       "\"\"\"\n",
       "                           Logit Regression Results                           \n",
       "==============================================================================\n",
       "Dep. Variable:             Depression   No. Observations:                27898\n",
       "Model:                          Logit   Df Residuals:                    27892\n",
       "Method:                           MLE   Df Model:                            5\n",
       "Date:                Wed, 30 Apr 2025   Pseudo R-squ.:                  0.2963\n",
       "Time:                        11:33:39   Log-Likelihood:                -13320.\n",
       "converged:                       True   LL-Null:                       -18927.\n",
       "Covariance Type:            nonrobust   LLR p-value:                     0.000\n",
       "===========================================================================================\n",
       "                              coef    std err          z      P>|z|      [0.025      0.975]\n",
       "-------------------------------------------------------------------------------------------\n",
       "Intercept                  -4.4786      0.110    -40.623      0.000      -4.695      -4.263\n",
       "Q(\"Work/Study Hours\")       0.1171      0.004     28.311      0.000       0.109       0.125\n",
       "Q(\"Academic Pressure\")      0.8288      0.012     66.832      0.000       0.804       0.853\n",
       "Q(\"Financial Stress\")       0.5733      0.011     51.425      0.000       0.551       0.595\n",
       "Q(\"Study Satisfaction\")    -0.2201      0.011    -19.504      0.000      -0.242      -0.198\n",
       "Q(\"CGPA\")                   0.0516      0.010      4.995      0.000       0.031       0.072\n",
       "===========================================================================================\n",
       "\"\"\""
      ]
     },
     "execution_count": 25,
     "metadata": {},
     "output_type": "execute_result"
    }
   ],
   "source": [
    "logit_model2 = smf.logit('Depression ~ Q(\"Work/Study Hours\") + Q(\"Academic Pressure\") + Q(\"Financial Stress\") + Q(\"Study Satisfaction\") + Q(\"CGPA\")', depression3).fit()\n",
    "logit_model2.summary()"
   ]
  },
  {
   "cell_type": "code",
   "execution_count": 26,
   "id": "c5fcf23b-217b-4801-a48f-7f3e33d1ca31",
   "metadata": {},
   "outputs": [
    {
     "data": {
      "text/plain": [
       "array([[ 8019.,  3544.],\n",
       "       [ 2646., 13689.]])"
      ]
     },
     "execution_count": 26,
     "metadata": {},
     "output_type": "execute_result"
    }
   ],
   "source": [
    "confusion_matrix2 = logit_model2.pred_table()\n",
    "confusion_matrix2"
   ]
  },
  {
   "cell_type": "code",
   "execution_count": 27,
   "id": "612f083b-13b6-4158-b044-6478406c674a",
   "metadata": {},
   "outputs": [
    {
     "data": {
      "text/plain": [
       "8019.0"
      ]
     },
     "execution_count": 27,
     "metadata": {},
     "output_type": "execute_result"
    }
   ],
   "source": [
    "confusion_matrix2[0][0]"
   ]
  },
  {
   "cell_type": "code",
   "execution_count": 28,
   "id": "20503e58-0b82-4bcc-aeeb-27cfb9efbfcc",
   "metadata": {},
   "outputs": [
    {
     "data": {
      "text/plain": [
       "3544.0"
      ]
     },
     "execution_count": 28,
     "metadata": {},
     "output_type": "execute_result"
    }
   ],
   "source": [
    "confusion_matrix2[0][1]"
   ]
  },
  {
   "cell_type": "code",
   "execution_count": 29,
   "id": "e16a5d0b-8a22-4795-a92a-f399fa3a972b",
   "metadata": {},
   "outputs": [
    {
     "data": {
      "text/plain": [
       "2646.0"
      ]
     },
     "execution_count": 29,
     "metadata": {},
     "output_type": "execute_result"
    }
   ],
   "source": [
    "confusion_matrix2[1][0]"
   ]
  },
  {
   "cell_type": "code",
   "execution_count": 32,
   "id": "3defc25c-bd37-4234-b960-14469ee601ca",
   "metadata": {},
   "outputs": [
    {
     "data": {
      "text/plain": [
       "13689.0"
      ]
     },
     "execution_count": 32,
     "metadata": {},
     "output_type": "execute_result"
    }
   ],
   "source": [
    "confusion_matrix2[1][1]"
   ]
  },
  {
   "cell_type": "code",
   "execution_count": 36,
   "id": "aafeb5fd-e5ec-4639-adb3-b015ec509a97",
   "metadata": {},
   "outputs": [],
   "source": [
    "true_neg2 = confusion_matrix2[0][0]\n",
    "false_neg2 = confusion_matrix2[1][0]\n",
    "false_pos2 = confusion_matrix2[0][1]\n",
    "true_pos2 = confusion_matrix2[1][1]"
   ]
  },
  {
   "cell_type": "code",
   "execution_count": 41,
   "id": "60b9d69b-f52d-4c8f-8fa1-df48809efd9d",
   "metadata": {},
   "outputs": [
    {
     "data": {
      "text/plain": [
       "0.8380165289256198"
      ]
     },
     "execution_count": 41,
     "metadata": {},
     "output_type": "execute_result"
    }
   ],
   "source": [
    "sensitivity2 = true_pos2/(true_pos2 + false_neg2)\n",
    "sensitivity2"
   ]
  },
  {
   "cell_type": "code",
   "execution_count": 46,
   "id": "3447828a-0c47-4488-b839-6cc984c44515",
   "metadata": {},
   "outputs": [
    {
     "data": {
      "text/plain": [
       "0.6935051457234281"
      ]
     },
     "execution_count": 46,
     "metadata": {},
     "output_type": "execute_result"
    }
   ],
   "source": [
    "specificity2 = true_neg2/(true_neg2 + false_pos2)\n",
    "specificity2"
   ]
  },
  {
   "cell_type": "code",
   "execution_count": 47,
   "id": "8a87a896-82ae-45fe-a04f-a0a64c84fcf0",
   "metadata": {},
   "outputs": [
    {
     "data": {
      "text/plain": [
       "0.7781202953616747"
      ]
     },
     "execution_count": 47,
     "metadata": {},
     "output_type": "execute_result"
    }
   ],
   "source": [
    "accuracy2 = (true_pos2 + true_neg2)/len(depression3)\n",
    "accuracy2"
   ]
  },
  {
   "cell_type": "code",
   "execution_count": 51,
   "id": "e5cc1bb4-24a2-45f7-9b4d-5d6950758de9",
   "metadata": {},
   "outputs": [
    {
     "data": {
      "text/plain": [
       "0.7943480531538327"
      ]
     },
     "execution_count": 51,
     "metadata": {},
     "output_type": "execute_result"
    }
   ],
   "source": [
    "precision2 = true_pos2/(true_pos2 + false_pos2)\n",
    "precision2"
   ]
  },
  {
   "cell_type": "code",
   "execution_count": 58,
   "id": "da8457cc-9a90-425c-b369-c0b17a44f423",
   "metadata": {},
   "outputs": [
    {
     "name": "stdout",
     "output_type": "stream",
     "text": [
      "Optimization terminated successfully.\n",
      "         Current function value: 0.477401\n",
      "         Iterations 6\n"
     ]
    },
    {
     "data": {
      "text/html": [
       "<table class=\"simpletable\">\n",
       "<caption>Logit Regression Results</caption>\n",
       "<tr>\n",
       "  <th>Dep. Variable:</th>      <td>Depression</td>    <th>  No. Observations:  </th>  <td> 27898</td> \n",
       "</tr>\n",
       "<tr>\n",
       "  <th>Model:</th>                 <td>Logit</td>      <th>  Df Residuals:      </th>  <td> 27891</td> \n",
       "</tr>\n",
       "<tr>\n",
       "  <th>Method:</th>                 <td>MLE</td>       <th>  Df Model:          </th>  <td>     6</td> \n",
       "</tr>\n",
       "<tr>\n",
       "  <th>Date:</th>            <td>Wed, 30 Apr 2025</td> <th>  Pseudo R-squ.:     </th>  <td>0.2963</td> \n",
       "</tr>\n",
       "<tr>\n",
       "  <th>Time:</th>                <td>11:33:40</td>     <th>  Log-Likelihood:    </th> <td> -13319.</td>\n",
       "</tr>\n",
       "<tr>\n",
       "  <th>converged:</th>             <td>True</td>       <th>  LL-Null:           </th> <td> -18927.</td>\n",
       "</tr>\n",
       "<tr>\n",
       "  <th>Covariance Type:</th>     <td>nonrobust</td>    <th>  LLR p-value:       </th>  <td> 0.000</td> \n",
       "</tr>\n",
       "</table>\n",
       "<table class=\"simpletable\">\n",
       "<tr>\n",
       "              <td></td>                <th>coef</th>     <th>std err</th>      <th>z</th>      <th>P>|z|</th>  <th>[0.025</th>    <th>0.975]</th>  \n",
       "</tr>\n",
       "<tr>\n",
       "  <th>Intercept</th>                <td>   -4.5030</td> <td>    0.111</td> <td>  -40.424</td> <td> 0.000</td> <td>   -4.721</td> <td>   -4.285</td>\n",
       "</tr>\n",
       "<tr>\n",
       "  <th>Q(\"Gender_Male\")[T.True]</th> <td>    0.0477</td> <td>    0.031</td> <td>    1.563</td> <td> 0.118</td> <td>   -0.012</td> <td>    0.108</td>\n",
       "</tr>\n",
       "<tr>\n",
       "  <th>Q(\"Work/Study Hours\")</th>    <td>    0.1170</td> <td>    0.004</td> <td>   28.280</td> <td> 0.000</td> <td>    0.109</td> <td>    0.125</td>\n",
       "</tr>\n",
       "<tr>\n",
       "  <th>Q(\"Academic Pressure\")</th>   <td>    0.8293</td> <td>    0.012</td> <td>   66.836</td> <td> 0.000</td> <td>    0.805</td> <td>    0.854</td>\n",
       "</tr>\n",
       "<tr>\n",
       "  <th>Q(\"Financial Stress\")</th>    <td>    0.5734</td> <td>    0.011</td> <td>   51.432</td> <td> 0.000</td> <td>    0.552</td> <td>    0.595</td>\n",
       "</tr>\n",
       "<tr>\n",
       "  <th>Q(\"Study Satisfaction\")</th>  <td>   -0.2198</td> <td>    0.011</td> <td>  -19.475</td> <td> 0.000</td> <td>   -0.242</td> <td>   -0.198</td>\n",
       "</tr>\n",
       "<tr>\n",
       "  <th>Q(\"CGPA\")</th>                <td>    0.0510</td> <td>    0.010</td> <td>    4.938</td> <td> 0.000</td> <td>    0.031</td> <td>    0.071</td>\n",
       "</tr>\n",
       "</table>"
      ],
      "text/latex": [
       "\\begin{center}\n",
       "\\begin{tabular}{lclc}\n",
       "\\toprule\n",
       "\\textbf{Dep. Variable:}            &    Depression    & \\textbf{  No. Observations:  } &    27898    \\\\\n",
       "\\textbf{Model:}                    &      Logit       & \\textbf{  Df Residuals:      } &    27891    \\\\\n",
       "\\textbf{Method:}                   &       MLE        & \\textbf{  Df Model:          } &        6    \\\\\n",
       "\\textbf{Date:}                     & Wed, 30 Apr 2025 & \\textbf{  Pseudo R-squ.:     } &   0.2963    \\\\\n",
       "\\textbf{Time:}                     &     11:33:40     & \\textbf{  Log-Likelihood:    } &   -13319.   \\\\\n",
       "\\textbf{converged:}                &       True       & \\textbf{  LL-Null:           } &   -18927.   \\\\\n",
       "\\textbf{Covariance Type:}          &    nonrobust     & \\textbf{  LLR p-value:       } &    0.000    \\\\\n",
       "\\bottomrule\n",
       "\\end{tabular}\n",
       "\\begin{tabular}{lcccccc}\n",
       "                                   & \\textbf{coef} & \\textbf{std err} & \\textbf{z} & \\textbf{P$> |$z$|$} & \\textbf{[0.025} & \\textbf{0.975]}  \\\\\n",
       "\\midrule\n",
       "\\textbf{Intercept}                 &      -4.5030  &        0.111     &   -40.424  &         0.000        &       -4.721    &       -4.285     \\\\\n",
       "\\textbf{Q(\"Gender\\_Male\")[T.True]} &       0.0477  &        0.031     &     1.563  &         0.118        &       -0.012    &        0.108     \\\\\n",
       "\\textbf{Q(\"Work/Study Hours\")}     &       0.1170  &        0.004     &    28.280  &         0.000        &        0.109    &        0.125     \\\\\n",
       "\\textbf{Q(\"Academic Pressure\")}    &       0.8293  &        0.012     &    66.836  &         0.000        &        0.805    &        0.854     \\\\\n",
       "\\textbf{Q(\"Financial Stress\")}     &       0.5734  &        0.011     &    51.432  &         0.000        &        0.552    &        0.595     \\\\\n",
       "\\textbf{Q(\"Study Satisfaction\")}   &      -0.2198  &        0.011     &   -19.475  &         0.000        &       -0.242    &       -0.198     \\\\\n",
       "\\textbf{Q(\"CGPA\")}                 &       0.0510  &        0.010     &     4.938  &         0.000        &        0.031    &        0.071     \\\\\n",
       "\\bottomrule\n",
       "\\end{tabular}\n",
       "%\\caption{Logit Regression Results}\n",
       "\\end{center}"
      ],
      "text/plain": [
       "<class 'statsmodels.iolib.summary.Summary'>\n",
       "\"\"\"\n",
       "                           Logit Regression Results                           \n",
       "==============================================================================\n",
       "Dep. Variable:             Depression   No. Observations:                27898\n",
       "Model:                          Logit   Df Residuals:                    27891\n",
       "Method:                           MLE   Df Model:                            6\n",
       "Date:                Wed, 30 Apr 2025   Pseudo R-squ.:                  0.2963\n",
       "Time:                        11:33:40   Log-Likelihood:                -13319.\n",
       "converged:                       True   LL-Null:                       -18927.\n",
       "Covariance Type:            nonrobust   LLR p-value:                     0.000\n",
       "============================================================================================\n",
       "                               coef    std err          z      P>|z|      [0.025      0.975]\n",
       "--------------------------------------------------------------------------------------------\n",
       "Intercept                   -4.5030      0.111    -40.424      0.000      -4.721      -4.285\n",
       "Q(\"Gender_Male\")[T.True]     0.0477      0.031      1.563      0.118      -0.012       0.108\n",
       "Q(\"Work/Study Hours\")        0.1170      0.004     28.280      0.000       0.109       0.125\n",
       "Q(\"Academic Pressure\")       0.8293      0.012     66.836      0.000       0.805       0.854\n",
       "Q(\"Financial Stress\")        0.5734      0.011     51.432      0.000       0.552       0.595\n",
       "Q(\"Study Satisfaction\")     -0.2198      0.011    -19.475      0.000      -0.242      -0.198\n",
       "Q(\"CGPA\")                    0.0510      0.010      4.938      0.000       0.031       0.071\n",
       "============================================================================================\n",
       "\"\"\""
      ]
     },
     "execution_count": 58,
     "metadata": {},
     "output_type": "execute_result"
    }
   ],
   "source": [
    "logit_model3 = smf.logit('Depression ~ Q(\"Work/Study Hours\") + Q(\"Academic Pressure\") + Q(\"Financial Stress\") + Q(\"Study Satisfaction\") + Q(\"CGPA\") + Q(\"Gender_Male\")', depression3).fit()\n",
    "logit_model3.summary()"
   ]
  },
  {
   "cell_type": "code",
   "execution_count": 63,
   "id": "bf0710d5-76a4-4784-b343-aac44add9292",
   "metadata": {},
   "outputs": [
    {
     "data": {
      "text/plain": [
       "array([[ 8023.,  3540.],\n",
       "       [ 2649., 13686.]])"
      ]
     },
     "execution_count": 63,
     "metadata": {},
     "output_type": "execute_result"
    }
   ],
   "source": [
    "confusion_matrix3 = logit_model3.pred_table()\n",
    "confusion_matrix3"
   ]
  },
  {
   "cell_type": "code",
   "execution_count": 66,
   "id": "cb1226ef-c0e6-40de-a0d7-26d7e4ce73c7",
   "metadata": {},
   "outputs": [
    {
     "data": {
      "text/plain": [
       "8023.0"
      ]
     },
     "execution_count": 66,
     "metadata": {},
     "output_type": "execute_result"
    }
   ],
   "source": [
    "confusion_matrix3[0][0]"
   ]
  },
  {
   "cell_type": "code",
   "execution_count": 69,
   "id": "88d82e6e-7e39-463e-98f4-cb7e6bff6459",
   "metadata": {},
   "outputs": [
    {
     "data": {
      "text/plain": [
       "3540.0"
      ]
     },
     "execution_count": 69,
     "metadata": {},
     "output_type": "execute_result"
    }
   ],
   "source": [
    "confusion_matrix3[0][1]"
   ]
  },
  {
   "cell_type": "code",
   "execution_count": 71,
   "id": "de495ba0-6031-49c1-b2b1-2cdcf2ca06ec",
   "metadata": {},
   "outputs": [
    {
     "data": {
      "text/plain": [
       "2649.0"
      ]
     },
     "execution_count": 71,
     "metadata": {},
     "output_type": "execute_result"
    }
   ],
   "source": [
    "confusion_matrix3[1][0]"
   ]
  },
  {
   "cell_type": "code",
   "execution_count": 73,
   "id": "5ce1c9c9-c977-432f-b919-15645ad25ad4",
   "metadata": {},
   "outputs": [
    {
     "data": {
      "text/plain": [
       "13686.0"
      ]
     },
     "execution_count": 73,
     "metadata": {},
     "output_type": "execute_result"
    }
   ],
   "source": [
    "confusion_matrix3[1][1]"
   ]
  },
  {
   "cell_type": "code",
   "execution_count": 76,
   "id": "763c769f-3c51-4f55-b282-d42b9309ac6c",
   "metadata": {},
   "outputs": [],
   "source": [
    "true_neg3 = confusion_matrix3[0][0]\n",
    "false_neg3 = confusion_matrix3[1][0]\n",
    "false_pos3 = confusion_matrix3[0][1]\n",
    "true_pos3 = confusion_matrix3[1][1]"
   ]
  },
  {
   "cell_type": "code",
   "execution_count": 78,
   "id": "f52a0518-f70f-4b43-81b2-a730c5d2ab38",
   "metadata": {},
   "outputs": [
    {
     "data": {
      "text/plain": [
       "0.8378328741965105"
      ]
     },
     "execution_count": 78,
     "metadata": {},
     "output_type": "execute_result"
    }
   ],
   "source": [
    "sensitivity3 = true_pos3/(true_pos3 + false_neg3)\n",
    "sensitivity3"
   ]
  },
  {
   "cell_type": "code",
   "execution_count": 79,
   "id": "73095792-8c8c-4486-8e42-f201b8b7f400",
   "metadata": {},
   "outputs": [
    {
     "data": {
      "text/plain": [
       "0.6938510767101963"
      ]
     },
     "execution_count": 79,
     "metadata": {},
     "output_type": "execute_result"
    }
   ],
   "source": [
    "specificity3 = true_neg3/(true_neg3 + false_pos3)\n",
    "specificity3"
   ]
  },
  {
   "cell_type": "code",
   "execution_count": 81,
   "id": "06ca44c1-9c98-401c-9496-9c852d2b790f",
   "metadata": {},
   "outputs": [
    {
     "data": {
      "text/plain": [
       "0.7781561402251057"
      ]
     },
     "execution_count": 81,
     "metadata": {},
     "output_type": "execute_result"
    }
   ],
   "source": [
    "accuracy3 = (true_pos3 + true_neg3)/len(depression3)\n",
    "accuracy3"
   ]
  },
  {
   "cell_type": "code",
   "execution_count": 84,
   "id": "33ef0e57-08fa-47c2-b160-5c22bf730152",
   "metadata": {},
   "outputs": [
    {
     "data": {
      "text/plain": [
       "0.7944966910484151"
      ]
     },
     "execution_count": 84,
     "metadata": {},
     "output_type": "execute_result"
    }
   ],
   "source": [
    "precision3 = true_pos3/(true_pos3 + false_pos3)\n",
    "precision3"
   ]
  },
  {
   "cell_type": "code",
   "execution_count": 85,
   "id": "aa834ee6-f612-42e5-823d-128e3142854d",
   "metadata": {},
   "outputs": [
    {
     "name": "stdout",
     "output_type": "stream",
     "text": [
      "Optimization terminated successfully.\n",
      "         Current function value: 0.473485\n",
      "         Iterations 6\n"
     ]
    },
    {
     "data": {
      "text/html": [
       "<table class=\"simpletable\">\n",
       "<caption>Logit Regression Results</caption>\n",
       "<tr>\n",
       "  <th>Dep. Variable:</th>      <td>Depression</td>    <th>  No. Observations:  </th>  <td> 27898</td> \n",
       "</tr>\n",
       "<tr>\n",
       "  <th>Model:</th>                 <td>Logit</td>      <th>  Df Residuals:      </th>  <td> 27887</td> \n",
       "</tr>\n",
       "<tr>\n",
       "  <th>Method:</th>                 <td>MLE</td>       <th>  Df Model:          </th>  <td>    10</td> \n",
       "</tr>\n",
       "<tr>\n",
       "  <th>Date:</th>            <td>Wed, 30 Apr 2025</td> <th>  Pseudo R-squ.:     </th>  <td>0.3021</td> \n",
       "</tr>\n",
       "<tr>\n",
       "  <th>Time:</th>                <td>11:33:42</td>     <th>  Log-Likelihood:    </th> <td> -13209.</td>\n",
       "</tr>\n",
       "<tr>\n",
       "  <th>converged:</th>             <td>True</td>       <th>  LL-Null:           </th> <td> -18927.</td>\n",
       "</tr>\n",
       "<tr>\n",
       "  <th>Covariance Type:</th>     <td>nonrobust</td>    <th>  LLR p-value:       </th>  <td> 0.000</td> \n",
       "</tr>\n",
       "</table>\n",
       "<table class=\"simpletable\">\n",
       "<tr>\n",
       "                        <td></td>                           <th>coef</th>     <th>std err</th>      <th>z</th>      <th>P>|z|</th>  <th>[0.025</th>    <th>0.975]</th>  \n",
       "</tr>\n",
       "<tr>\n",
       "  <th>Intercept</th>                                     <td>   -4.5992</td> <td>    0.116</td> <td>  -39.670</td> <td> 0.000</td> <td>   -4.826</td> <td>   -4.372</td>\n",
       "</tr>\n",
       "<tr>\n",
       "  <th>Q(\"Sleep Duration_7-8 hours\")[T.True]</th>         <td>    0.1154</td> <td>    0.043</td> <td>    2.655</td> <td> 0.008</td> <td>    0.030</td> <td>    0.201</td>\n",
       "</tr>\n",
       "<tr>\n",
       "  <th>Q(\"Sleep Duration_Less than 5 hours\")[T.True]</th> <td>    0.3881</td> <td>    0.043</td> <td>    9.048</td> <td> 0.000</td> <td>    0.304</td> <td>    0.472</td>\n",
       "</tr>\n",
       "<tr>\n",
       "  <th>Q(\"Sleep Duration_More than 8 hours\")[T.True]</th> <td>   -0.2331</td> <td>    0.045</td> <td>   -5.130</td> <td> 0.000</td> <td>   -0.322</td> <td>   -0.144</td>\n",
       "</tr>\n",
       "<tr>\n",
       "  <th>Q(\"Sleep Duration_Others\")[T.True]</th>            <td>   -0.0836</td> <td>    0.551</td> <td>   -0.152</td> <td> 0.879</td> <td>   -1.164</td> <td>    0.997</td>\n",
       "</tr>\n",
       "<tr>\n",
       "  <th>Q(\"Gender_Male\")[T.True]</th>                      <td>    0.0488</td> <td>    0.031</td> <td>    1.590</td> <td> 0.112</td> <td>   -0.011</td> <td>    0.109</td>\n",
       "</tr>\n",
       "<tr>\n",
       "  <th>Q(\"Work/Study Hours\")</th>                         <td>    0.1167</td> <td>    0.004</td> <td>   28.052</td> <td> 0.000</td> <td>    0.109</td> <td>    0.125</td>\n",
       "</tr>\n",
       "<tr>\n",
       "  <th>Q(\"Academic Pressure\")</th>                        <td>    0.8297</td> <td>    0.012</td> <td>   66.532</td> <td> 0.000</td> <td>    0.805</td> <td>    0.854</td>\n",
       "</tr>\n",
       "<tr>\n",
       "  <th>Q(\"Financial Stress\")</th>                         <td>    0.5783</td> <td>    0.011</td> <td>   51.543</td> <td> 0.000</td> <td>    0.556</td> <td>    0.600</td>\n",
       "</tr>\n",
       "<tr>\n",
       "  <th>Q(\"Study Satisfaction\")</th>                       <td>   -0.2197</td> <td>    0.011</td> <td>  -19.368</td> <td> 0.000</td> <td>   -0.242</td> <td>   -0.197</td>\n",
       "</tr>\n",
       "<tr>\n",
       "  <th>Q(\"CGPA\")</th>                                     <td>    0.0497</td> <td>    0.010</td> <td>    4.790</td> <td> 0.000</td> <td>    0.029</td> <td>    0.070</td>\n",
       "</tr>\n",
       "</table>"
      ],
      "text/latex": [
       "\\begin{center}\n",
       "\\begin{tabular}{lclc}\n",
       "\\toprule\n",
       "\\textbf{Dep. Variable:}                                 &    Depression    & \\textbf{  No. Observations:  } &    27898    \\\\\n",
       "\\textbf{Model:}                                         &      Logit       & \\textbf{  Df Residuals:      } &    27887    \\\\\n",
       "\\textbf{Method:}                                        &       MLE        & \\textbf{  Df Model:          } &       10    \\\\\n",
       "\\textbf{Date:}                                          & Wed, 30 Apr 2025 & \\textbf{  Pseudo R-squ.:     } &   0.3021    \\\\\n",
       "\\textbf{Time:}                                          &     11:33:42     & \\textbf{  Log-Likelihood:    } &   -13209.   \\\\\n",
       "\\textbf{converged:}                                     &       True       & \\textbf{  LL-Null:           } &   -18927.   \\\\\n",
       "\\textbf{Covariance Type:}                               &    nonrobust     & \\textbf{  LLR p-value:       } &    0.000    \\\\\n",
       "\\bottomrule\n",
       "\\end{tabular}\n",
       "\\begin{tabular}{lcccccc}\n",
       "                                                        & \\textbf{coef} & \\textbf{std err} & \\textbf{z} & \\textbf{P$> |$z$|$} & \\textbf{[0.025} & \\textbf{0.975]}  \\\\\n",
       "\\midrule\n",
       "\\textbf{Intercept}                                      &      -4.5992  &        0.116     &   -39.670  &         0.000        &       -4.826    &       -4.372     \\\\\n",
       "\\textbf{Q(\"Sleep Duration\\_7-8 hours\")[T.True]}         &       0.1154  &        0.043     &     2.655  &         0.008        &        0.030    &        0.201     \\\\\n",
       "\\textbf{Q(\"Sleep Duration\\_Less than 5 hours\")[T.True]} &       0.3881  &        0.043     &     9.048  &         0.000        &        0.304    &        0.472     \\\\\n",
       "\\textbf{Q(\"Sleep Duration\\_More than 8 hours\")[T.True]} &      -0.2331  &        0.045     &    -5.130  &         0.000        &       -0.322    &       -0.144     \\\\\n",
       "\\textbf{Q(\"Sleep Duration\\_Others\")[T.True]}            &      -0.0836  &        0.551     &    -0.152  &         0.879        &       -1.164    &        0.997     \\\\\n",
       "\\textbf{Q(\"Gender\\_Male\")[T.True]}                      &       0.0488  &        0.031     &     1.590  &         0.112        &       -0.011    &        0.109     \\\\\n",
       "\\textbf{Q(\"Work/Study Hours\")}                          &       0.1167  &        0.004     &    28.052  &         0.000        &        0.109    &        0.125     \\\\\n",
       "\\textbf{Q(\"Academic Pressure\")}                         &       0.8297  &        0.012     &    66.532  &         0.000        &        0.805    &        0.854     \\\\\n",
       "\\textbf{Q(\"Financial Stress\")}                          &       0.5783  &        0.011     &    51.543  &         0.000        &        0.556    &        0.600     \\\\\n",
       "\\textbf{Q(\"Study Satisfaction\")}                        &      -0.2197  &        0.011     &   -19.368  &         0.000        &       -0.242    &       -0.197     \\\\\n",
       "\\textbf{Q(\"CGPA\")}                                      &       0.0497  &        0.010     &     4.790  &         0.000        &        0.029    &        0.070     \\\\\n",
       "\\bottomrule\n",
       "\\end{tabular}\n",
       "%\\caption{Logit Regression Results}\n",
       "\\end{center}"
      ],
      "text/plain": [
       "<class 'statsmodels.iolib.summary.Summary'>\n",
       "\"\"\"\n",
       "                           Logit Regression Results                           \n",
       "==============================================================================\n",
       "Dep. Variable:             Depression   No. Observations:                27898\n",
       "Model:                          Logit   Df Residuals:                    27887\n",
       "Method:                           MLE   Df Model:                           10\n",
       "Date:                Wed, 30 Apr 2025   Pseudo R-squ.:                  0.3021\n",
       "Time:                        11:33:42   Log-Likelihood:                -13209.\n",
       "converged:                       True   LL-Null:                       -18927.\n",
       "Covariance Type:            nonrobust   LLR p-value:                     0.000\n",
       "=================================================================================================================\n",
       "                                                    coef    std err          z      P>|z|      [0.025      0.975]\n",
       "-----------------------------------------------------------------------------------------------------------------\n",
       "Intercept                                        -4.5992      0.116    -39.670      0.000      -4.826      -4.372\n",
       "Q(\"Sleep Duration_7-8 hours\")[T.True]             0.1154      0.043      2.655      0.008       0.030       0.201\n",
       "Q(\"Sleep Duration_Less than 5 hours\")[T.True]     0.3881      0.043      9.048      0.000       0.304       0.472\n",
       "Q(\"Sleep Duration_More than 8 hours\")[T.True]    -0.2331      0.045     -5.130      0.000      -0.322      -0.144\n",
       "Q(\"Sleep Duration_Others\")[T.True]               -0.0836      0.551     -0.152      0.879      -1.164       0.997\n",
       "Q(\"Gender_Male\")[T.True]                          0.0488      0.031      1.590      0.112      -0.011       0.109\n",
       "Q(\"Work/Study Hours\")                             0.1167      0.004     28.052      0.000       0.109       0.125\n",
       "Q(\"Academic Pressure\")                            0.8297      0.012     66.532      0.000       0.805       0.854\n",
       "Q(\"Financial Stress\")                             0.5783      0.011     51.543      0.000       0.556       0.600\n",
       "Q(\"Study Satisfaction\")                          -0.2197      0.011    -19.368      0.000      -0.242      -0.197\n",
       "Q(\"CGPA\")                                         0.0497      0.010      4.790      0.000       0.029       0.070\n",
       "=================================================================================================================\n",
       "\"\"\""
      ]
     },
     "execution_count": 85,
     "metadata": {},
     "output_type": "execute_result"
    }
   ],
   "source": [
    "logit_model4 = smf.logit('Depression ~ Q(\"Sleep Duration_7-8 hours\") + Q(\"Sleep Duration_Less than 5 hours\") + Q(\"Sleep Duration_More than 8 hours\") + Q(\"Sleep Duration_Others\") + Q(\"Work/Study Hours\") + Q(\"Academic Pressure\") + Q(\"Financial Stress\") + Q(\"Study Satisfaction\") + Q(\"CGPA\") + Q(\"Gender_Male\")', depression3).fit()\n",
    "logit_model4.summary()"
   ]
  },
  {
   "cell_type": "code",
   "execution_count": 86,
   "id": "795e6d64-dcd2-4faa-b88b-8b3211fa1ad2",
   "metadata": {},
   "outputs": [
    {
     "data": {
      "text/plain": [
       "array([[ 8035.,  3528.],\n",
       "       [ 2651., 13684.]])"
      ]
     },
     "execution_count": 86,
     "metadata": {},
     "output_type": "execute_result"
    }
   ],
   "source": [
    "confusion_matrix4 = logit_model4.pred_table()\n",
    "confusion_matrix4"
   ]
  },
  {
   "cell_type": "code",
   "execution_count": 89,
   "id": "f1f335f2-2c17-47bf-96e9-fe77be5d6e21",
   "metadata": {},
   "outputs": [
    {
     "data": {
      "text/plain": [
       "8035.0"
      ]
     },
     "execution_count": 89,
     "metadata": {},
     "output_type": "execute_result"
    }
   ],
   "source": [
    "confusion_matrix4[0][0]"
   ]
  },
  {
   "cell_type": "code",
   "execution_count": 93,
   "id": "20710710-a739-46f3-926c-139142f760f0",
   "metadata": {},
   "outputs": [
    {
     "data": {
      "text/plain": [
       "3528.0"
      ]
     },
     "execution_count": 93,
     "metadata": {},
     "output_type": "execute_result"
    }
   ],
   "source": [
    "confusion_matrix4[0][1]"
   ]
  },
  {
   "cell_type": "code",
   "execution_count": 95,
   "id": "f711b349-1d35-4d4b-b1a0-eeed6e2eaee5",
   "metadata": {},
   "outputs": [
    {
     "data": {
      "text/plain": [
       "2651.0"
      ]
     },
     "execution_count": 95,
     "metadata": {},
     "output_type": "execute_result"
    }
   ],
   "source": [
    "confusion_matrix4[1][0]"
   ]
  },
  {
   "cell_type": "code",
   "execution_count": 98,
   "id": "e06f12f1-1cde-4f65-902f-5faca5cf6ff4",
   "metadata": {},
   "outputs": [
    {
     "data": {
      "text/plain": [
       "13684.0"
      ]
     },
     "execution_count": 98,
     "metadata": {},
     "output_type": "execute_result"
    }
   ],
   "source": [
    "confusion_matrix4[1][1]"
   ]
  },
  {
   "cell_type": "code",
   "execution_count": 101,
   "id": "4661fdec-8339-4900-a410-4109859fd78a",
   "metadata": {},
   "outputs": [],
   "source": [
    "true_neg4 = confusion_matrix4[0][0]\n",
    "false_neg4 = confusion_matrix4[1][0]\n",
    "false_pos4 = confusion_matrix4[0][1]\n",
    "true_pos4 = confusion_matrix4[1][1]"
   ]
  },
  {
   "cell_type": "code",
   "execution_count": 104,
   "id": "b86d3605-0371-44dd-a0bf-b743fff411d9",
   "metadata": {},
   "outputs": [
    {
     "data": {
      "text/plain": [
       "0.8377104377104377"
      ]
     },
     "execution_count": 104,
     "metadata": {},
     "output_type": "execute_result"
    }
   ],
   "source": [
    "sensitivity4 = true_pos4/(true_pos4 + false_neg4)\n",
    "sensitivity4"
   ]
  },
  {
   "cell_type": "code",
   "execution_count": 109,
   "id": "e5043361-1a98-4000-b94a-475b09e91cae",
   "metadata": {},
   "outputs": [
    {
     "data": {
      "text/plain": [
       "0.6948888696705008"
      ]
     },
     "execution_count": 109,
     "metadata": {},
     "output_type": "execute_result"
    }
   ],
   "source": [
    "specificity4 = true_neg4/(true_neg4 + false_pos4)\n",
    "specificity4"
   ]
  },
  {
   "cell_type": "code",
   "execution_count": 110,
   "id": "87aca3e0-a898-4139-a8d8-5b88a62925b8",
   "metadata": {},
   "outputs": [
    {
     "data": {
      "text/plain": [
       "0.7785145888594165"
      ]
     },
     "execution_count": 110,
     "metadata": {},
     "output_type": "execute_result"
    }
   ],
   "source": [
    "accuracy4 = (true_pos4 + true_neg4)/len(depression3)\n",
    "accuracy4"
   ]
  },
  {
   "cell_type": "code",
   "execution_count": 113,
   "id": "812b91d0-040c-41d2-87dd-1173c52c24bf",
   "metadata": {},
   "outputs": [
    {
     "data": {
      "text/plain": [
       "0.7950267255403207"
      ]
     },
     "execution_count": 113,
     "metadata": {},
     "output_type": "execute_result"
    }
   ],
   "source": [
    "precision4 = true_pos4/(true_pos4 + false_pos4)\n",
    "precision4"
   ]
  },
  {
   "cell_type": "code",
   "execution_count": 115,
   "id": "49c48c72-aa8d-4003-8853-99f961422870",
   "metadata": {},
   "outputs": [
    {
     "data": {
      "text/html": [
       "<div>\n",
       "<style scoped>\n",
       "    .dataframe tbody tr th:only-of-type {\n",
       "        vertical-align: middle;\n",
       "    }\n",
       "\n",
       "    .dataframe tbody tr th {\n",
       "        vertical-align: top;\n",
       "    }\n",
       "\n",
       "    .dataframe thead th {\n",
       "        text-align: right;\n",
       "    }\n",
       "</style>\n",
       "<table border=\"1\" class=\"dataframe\">\n",
       "  <thead>\n",
       "    <tr style=\"text-align: right;\">\n",
       "      <th></th>\n",
       "      <th>Age</th>\n",
       "      <th>Academic Pressure</th>\n",
       "      <th>Work Pressure</th>\n",
       "      <th>CGPA</th>\n",
       "      <th>Study Satisfaction</th>\n",
       "      <th>Job Satisfaction</th>\n",
       "      <th>Work/Study Hours</th>\n",
       "      <th>Financial Stress</th>\n",
       "      <th>Gender_Male</th>\n",
       "      <th>Have you ever had suicidal thoughts ?_Yes</th>\n",
       "      <th>Family History of Mental Illness_Yes</th>\n",
       "      <th>Sleep Duration_7-8 hours</th>\n",
       "      <th>Sleep Duration_Less than 5 hours</th>\n",
       "      <th>Sleep Duration_More than 8 hours</th>\n",
       "      <th>Sleep Duration_Others</th>\n",
       "    </tr>\n",
       "  </thead>\n",
       "  <tbody>\n",
       "    <tr>\n",
       "      <th>0</th>\n",
       "      <td>33.0</td>\n",
       "      <td>5.0</td>\n",
       "      <td>0.0</td>\n",
       "      <td>8.97</td>\n",
       "      <td>2.0</td>\n",
       "      <td>0.0</td>\n",
       "      <td>3.0</td>\n",
       "      <td>1.0</td>\n",
       "      <td>True</td>\n",
       "      <td>True</td>\n",
       "      <td>False</td>\n",
       "      <td>False</td>\n",
       "      <td>False</td>\n",
       "      <td>False</td>\n",
       "      <td>False</td>\n",
       "    </tr>\n",
       "    <tr>\n",
       "      <th>1</th>\n",
       "      <td>24.0</td>\n",
       "      <td>2.0</td>\n",
       "      <td>0.0</td>\n",
       "      <td>5.90</td>\n",
       "      <td>5.0</td>\n",
       "      <td>0.0</td>\n",
       "      <td>3.0</td>\n",
       "      <td>2.0</td>\n",
       "      <td>False</td>\n",
       "      <td>False</td>\n",
       "      <td>True</td>\n",
       "      <td>False</td>\n",
       "      <td>False</td>\n",
       "      <td>False</td>\n",
       "      <td>False</td>\n",
       "    </tr>\n",
       "    <tr>\n",
       "      <th>2</th>\n",
       "      <td>31.0</td>\n",
       "      <td>3.0</td>\n",
       "      <td>0.0</td>\n",
       "      <td>7.03</td>\n",
       "      <td>5.0</td>\n",
       "      <td>0.0</td>\n",
       "      <td>9.0</td>\n",
       "      <td>1.0</td>\n",
       "      <td>True</td>\n",
       "      <td>False</td>\n",
       "      <td>True</td>\n",
       "      <td>False</td>\n",
       "      <td>True</td>\n",
       "      <td>False</td>\n",
       "      <td>False</td>\n",
       "    </tr>\n",
       "    <tr>\n",
       "      <th>3</th>\n",
       "      <td>28.0</td>\n",
       "      <td>3.0</td>\n",
       "      <td>0.0</td>\n",
       "      <td>5.59</td>\n",
       "      <td>2.0</td>\n",
       "      <td>0.0</td>\n",
       "      <td>4.0</td>\n",
       "      <td>5.0</td>\n",
       "      <td>False</td>\n",
       "      <td>True</td>\n",
       "      <td>True</td>\n",
       "      <td>True</td>\n",
       "      <td>False</td>\n",
       "      <td>False</td>\n",
       "      <td>False</td>\n",
       "    </tr>\n",
       "    <tr>\n",
       "      <th>4</th>\n",
       "      <td>25.0</td>\n",
       "      <td>4.0</td>\n",
       "      <td>0.0</td>\n",
       "      <td>8.13</td>\n",
       "      <td>3.0</td>\n",
       "      <td>0.0</td>\n",
       "      <td>1.0</td>\n",
       "      <td>1.0</td>\n",
       "      <td>False</td>\n",
       "      <td>True</td>\n",
       "      <td>False</td>\n",
       "      <td>False</td>\n",
       "      <td>False</td>\n",
       "      <td>False</td>\n",
       "      <td>False</td>\n",
       "    </tr>\n",
       "    <tr>\n",
       "      <th>...</th>\n",
       "      <td>...</td>\n",
       "      <td>...</td>\n",
       "      <td>...</td>\n",
       "      <td>...</td>\n",
       "      <td>...</td>\n",
       "      <td>...</td>\n",
       "      <td>...</td>\n",
       "      <td>...</td>\n",
       "      <td>...</td>\n",
       "      <td>...</td>\n",
       "      <td>...</td>\n",
       "      <td>...</td>\n",
       "      <td>...</td>\n",
       "      <td>...</td>\n",
       "      <td>...</td>\n",
       "    </tr>\n",
       "    <tr>\n",
       "      <th>27896</th>\n",
       "      <td>27.0</td>\n",
       "      <td>5.0</td>\n",
       "      <td>0.0</td>\n",
       "      <td>5.75</td>\n",
       "      <td>5.0</td>\n",
       "      <td>0.0</td>\n",
       "      <td>7.0</td>\n",
       "      <td>1.0</td>\n",
       "      <td>False</td>\n",
       "      <td>True</td>\n",
       "      <td>True</td>\n",
       "      <td>False</td>\n",
       "      <td>False</td>\n",
       "      <td>False</td>\n",
       "      <td>False</td>\n",
       "    </tr>\n",
       "    <tr>\n",
       "      <th>27897</th>\n",
       "      <td>27.0</td>\n",
       "      <td>2.0</td>\n",
       "      <td>0.0</td>\n",
       "      <td>9.40</td>\n",
       "      <td>3.0</td>\n",
       "      <td>0.0</td>\n",
       "      <td>0.0</td>\n",
       "      <td>3.0</td>\n",
       "      <td>True</td>\n",
       "      <td>False</td>\n",
       "      <td>True</td>\n",
       "      <td>False</td>\n",
       "      <td>True</td>\n",
       "      <td>False</td>\n",
       "      <td>False</td>\n",
       "    </tr>\n",
       "    <tr>\n",
       "      <th>27898</th>\n",
       "      <td>31.0</td>\n",
       "      <td>3.0</td>\n",
       "      <td>0.0</td>\n",
       "      <td>6.61</td>\n",
       "      <td>4.0</td>\n",
       "      <td>0.0</td>\n",
       "      <td>12.0</td>\n",
       "      <td>2.0</td>\n",
       "      <td>True</td>\n",
       "      <td>False</td>\n",
       "      <td>False</td>\n",
       "      <td>False</td>\n",
       "      <td>False</td>\n",
       "      <td>False</td>\n",
       "      <td>False</td>\n",
       "    </tr>\n",
       "    <tr>\n",
       "      <th>27899</th>\n",
       "      <td>18.0</td>\n",
       "      <td>5.0</td>\n",
       "      <td>0.0</td>\n",
       "      <td>6.88</td>\n",
       "      <td>2.0</td>\n",
       "      <td>0.0</td>\n",
       "      <td>10.0</td>\n",
       "      <td>5.0</td>\n",
       "      <td>False</td>\n",
       "      <td>True</td>\n",
       "      <td>False</td>\n",
       "      <td>False</td>\n",
       "      <td>True</td>\n",
       "      <td>False</td>\n",
       "      <td>False</td>\n",
       "    </tr>\n",
       "    <tr>\n",
       "      <th>27900</th>\n",
       "      <td>27.0</td>\n",
       "      <td>4.0</td>\n",
       "      <td>0.0</td>\n",
       "      <td>9.24</td>\n",
       "      <td>1.0</td>\n",
       "      <td>0.0</td>\n",
       "      <td>2.0</td>\n",
       "      <td>3.0</td>\n",
       "      <td>True</td>\n",
       "      <td>True</td>\n",
       "      <td>True</td>\n",
       "      <td>False</td>\n",
       "      <td>True</td>\n",
       "      <td>False</td>\n",
       "      <td>False</td>\n",
       "    </tr>\n",
       "  </tbody>\n",
       "</table>\n",
       "<p>27898 rows × 15 columns</p>\n",
       "</div>"
      ],
      "text/plain": [
       "        Age  Academic Pressure  Work Pressure  CGPA  Study Satisfaction  \\\n",
       "0      33.0                5.0            0.0  8.97                 2.0   \n",
       "1      24.0                2.0            0.0  5.90                 5.0   \n",
       "2      31.0                3.0            0.0  7.03                 5.0   \n",
       "3      28.0                3.0            0.0  5.59                 2.0   \n",
       "4      25.0                4.0            0.0  8.13                 3.0   \n",
       "...     ...                ...            ...   ...                 ...   \n",
       "27896  27.0                5.0            0.0  5.75                 5.0   \n",
       "27897  27.0                2.0            0.0  9.40                 3.0   \n",
       "27898  31.0                3.0            0.0  6.61                 4.0   \n",
       "27899  18.0                5.0            0.0  6.88                 2.0   \n",
       "27900  27.0                4.0            0.0  9.24                 1.0   \n",
       "\n",
       "       Job Satisfaction  Work/Study Hours  Financial Stress  Gender_Male  \\\n",
       "0                   0.0               3.0               1.0         True   \n",
       "1                   0.0               3.0               2.0        False   \n",
       "2                   0.0               9.0               1.0         True   \n",
       "3                   0.0               4.0               5.0        False   \n",
       "4                   0.0               1.0               1.0        False   \n",
       "...                 ...               ...               ...          ...   \n",
       "27896               0.0               7.0               1.0        False   \n",
       "27897               0.0               0.0               3.0         True   \n",
       "27898               0.0              12.0               2.0         True   \n",
       "27899               0.0              10.0               5.0        False   \n",
       "27900               0.0               2.0               3.0         True   \n",
       "\n",
       "       Have you ever had suicidal thoughts ?_Yes  \\\n",
       "0                                           True   \n",
       "1                                          False   \n",
       "2                                          False   \n",
       "3                                           True   \n",
       "4                                           True   \n",
       "...                                          ...   \n",
       "27896                                       True   \n",
       "27897                                      False   \n",
       "27898                                      False   \n",
       "27899                                       True   \n",
       "27900                                       True   \n",
       "\n",
       "       Family History of Mental Illness_Yes  Sleep Duration_7-8 hours  \\\n",
       "0                                     False                     False   \n",
       "1                                      True                     False   \n",
       "2                                      True                     False   \n",
       "3                                      True                      True   \n",
       "4                                     False                     False   \n",
       "...                                     ...                       ...   \n",
       "27896                                  True                     False   \n",
       "27897                                  True                     False   \n",
       "27898                                 False                     False   \n",
       "27899                                 False                     False   \n",
       "27900                                  True                     False   \n",
       "\n",
       "       Sleep Duration_Less than 5 hours  Sleep Duration_More than 8 hours  \\\n",
       "0                                 False                             False   \n",
       "1                                 False                             False   \n",
       "2                                  True                             False   \n",
       "3                                 False                             False   \n",
       "4                                 False                             False   \n",
       "...                                 ...                               ...   \n",
       "27896                             False                             False   \n",
       "27897                              True                             False   \n",
       "27898                             False                             False   \n",
       "27899                              True                             False   \n",
       "27900                              True                             False   \n",
       "\n",
       "       Sleep Duration_Others  \n",
       "0                      False  \n",
       "1                      False  \n",
       "2                      False  \n",
       "3                      False  \n",
       "4                      False  \n",
       "...                      ...  \n",
       "27896                  False  \n",
       "27897                  False  \n",
       "27898                  False  \n",
       "27899                  False  \n",
       "27900                  False  \n",
       "\n",
       "[27898 rows x 15 columns]"
      ]
     },
     "execution_count": 115,
     "metadata": {},
     "output_type": "execute_result"
    }
   ],
   "source": [
    "x = depression3.drop(columns = [\"id\",\"Degree\",\"City\",\"Dietary Habits\",\"Depression\",\"Dietary Habits\",\"Profession\"])\n",
    "x"
   ]
  },
  {
   "cell_type": "code",
   "execution_count": 117,
   "id": "8d93c2d6-6971-4a0f-af47-ef314ef0b42e",
   "metadata": {},
   "outputs": [
    {
     "data": {
      "text/plain": [
       "0        1\n",
       "1        0\n",
       "2        0\n",
       "3        1\n",
       "4        0\n",
       "        ..\n",
       "27896    0\n",
       "27897    0\n",
       "27898    0\n",
       "27899    1\n",
       "27900    1\n",
       "Name: Depression, Length: 27898, dtype: int64"
      ]
     },
     "execution_count": 117,
     "metadata": {},
     "output_type": "execute_result"
    }
   ],
   "source": [
    "y = depression2[\"Depression\"]\n",
    "y"
   ]
  },
  {
   "cell_type": "code",
   "execution_count": 119,
   "id": "16e50685-d7b3-4e76-a99a-8c563812a894",
   "metadata": {},
   "outputs": [],
   "source": [
    "x_train, x_test, y_train, y_test = train_test_split(x, y, test_size=0.2)"
   ]
  },
  {
   "cell_type": "code",
   "execution_count": 120,
   "id": "33fcd165-f347-4bf3-8a45-80cb6b1e349a",
   "metadata": {},
   "outputs": [
    {
     "data": {
      "text/html": [
       "<style>#sk-container-id-1 {color: black;}#sk-container-id-1 pre{padding: 0;}#sk-container-id-1 div.sk-toggleable {background-color: white;}#sk-container-id-1 label.sk-toggleable__label {cursor: pointer;display: block;width: 100%;margin-bottom: 0;padding: 0.3em;box-sizing: border-box;text-align: center;}#sk-container-id-1 label.sk-toggleable__label-arrow:before {content: \"▸\";float: left;margin-right: 0.25em;color: #696969;}#sk-container-id-1 label.sk-toggleable__label-arrow:hover:before {color: black;}#sk-container-id-1 div.sk-estimator:hover label.sk-toggleable__label-arrow:before {color: black;}#sk-container-id-1 div.sk-toggleable__content {max-height: 0;max-width: 0;overflow: hidden;text-align: left;background-color: #f0f8ff;}#sk-container-id-1 div.sk-toggleable__content pre {margin: 0.2em;color: black;border-radius: 0.25em;background-color: #f0f8ff;}#sk-container-id-1 input.sk-toggleable__control:checked~div.sk-toggleable__content {max-height: 200px;max-width: 100%;overflow: auto;}#sk-container-id-1 input.sk-toggleable__control:checked~label.sk-toggleable__label-arrow:before {content: \"▾\";}#sk-container-id-1 div.sk-estimator input.sk-toggleable__control:checked~label.sk-toggleable__label {background-color: #d4ebff;}#sk-container-id-1 div.sk-label input.sk-toggleable__control:checked~label.sk-toggleable__label {background-color: #d4ebff;}#sk-container-id-1 input.sk-hidden--visually {border: 0;clip: rect(1px 1px 1px 1px);clip: rect(1px, 1px, 1px, 1px);height: 1px;margin: -1px;overflow: hidden;padding: 0;position: absolute;width: 1px;}#sk-container-id-1 div.sk-estimator {font-family: monospace;background-color: #f0f8ff;border: 1px dotted black;border-radius: 0.25em;box-sizing: border-box;margin-bottom: 0.5em;}#sk-container-id-1 div.sk-estimator:hover {background-color: #d4ebff;}#sk-container-id-1 div.sk-parallel-item::after {content: \"\";width: 100%;border-bottom: 1px solid gray;flex-grow: 1;}#sk-container-id-1 div.sk-label:hover label.sk-toggleable__label {background-color: #d4ebff;}#sk-container-id-1 div.sk-serial::before {content: \"\";position: absolute;border-left: 1px solid gray;box-sizing: border-box;top: 0;bottom: 0;left: 50%;z-index: 0;}#sk-container-id-1 div.sk-serial {display: flex;flex-direction: column;align-items: center;background-color: white;padding-right: 0.2em;padding-left: 0.2em;position: relative;}#sk-container-id-1 div.sk-item {position: relative;z-index: 1;}#sk-container-id-1 div.sk-parallel {display: flex;align-items: stretch;justify-content: center;background-color: white;position: relative;}#sk-container-id-1 div.sk-item::before, #sk-container-id-1 div.sk-parallel-item::before {content: \"\";position: absolute;border-left: 1px solid gray;box-sizing: border-box;top: 0;bottom: 0;left: 50%;z-index: -1;}#sk-container-id-1 div.sk-parallel-item {display: flex;flex-direction: column;z-index: 1;position: relative;background-color: white;}#sk-container-id-1 div.sk-parallel-item:first-child::after {align-self: flex-end;width: 50%;}#sk-container-id-1 div.sk-parallel-item:last-child::after {align-self: flex-start;width: 50%;}#sk-container-id-1 div.sk-parallel-item:only-child::after {width: 0;}#sk-container-id-1 div.sk-dashed-wrapped {border: 1px dashed gray;margin: 0 0.4em 0.5em 0.4em;box-sizing: border-box;padding-bottom: 0.4em;background-color: white;}#sk-container-id-1 div.sk-label label {font-family: monospace;font-weight: bold;display: inline-block;line-height: 1.2em;}#sk-container-id-1 div.sk-label-container {text-align: center;}#sk-container-id-1 div.sk-container {/* jupyter's `normalize.less` sets `[hidden] { display: none; }` but bootstrap.min.css set `[hidden] { display: none !important; }` so we also need the `!important` here to be able to override the default hidden behavior on the sphinx rendered scikit-learn.org. See: https://github.com/scikit-learn/scikit-learn/issues/21755 */display: inline-block !important;position: relative;}#sk-container-id-1 div.sk-text-repr-fallback {display: none;}</style><div id=\"sk-container-id-1\" class=\"sk-top-container\"><div class=\"sk-text-repr-fallback\"><pre>KNeighborsClassifier(n_neighbors=50)</pre><b>In a Jupyter environment, please rerun this cell to show the HTML representation or trust the notebook. <br />On GitHub, the HTML representation is unable to render, please try loading this page with nbviewer.org.</b></div><div class=\"sk-container\" hidden><div class=\"sk-item\"><div class=\"sk-estimator sk-toggleable\"><input class=\"sk-toggleable__control sk-hidden--visually\" id=\"sk-estimator-id-1\" type=\"checkbox\" checked><label for=\"sk-estimator-id-1\" class=\"sk-toggleable__label sk-toggleable__label-arrow\">KNeighborsClassifier</label><div class=\"sk-toggleable__content\"><pre>KNeighborsClassifier(n_neighbors=50)</pre></div></div></div></div></div>"
      ],
      "text/plain": [
       "KNeighborsClassifier(n_neighbors=50)"
      ]
     },
     "execution_count": 120,
     "metadata": {},
     "output_type": "execute_result"
    }
   ],
   "source": [
    "knn = KNeighborsClassifier(n_neighbors = 50)\n",
    "knn.fit(x_train, y_train)"
   ]
  },
  {
   "cell_type": "code",
   "execution_count": 121,
   "id": "89480cc5-9cf0-4463-8790-83b57fd56c2c",
   "metadata": {},
   "outputs": [],
   "source": [
    "y_test_pred = knn.predict(x_test)"
   ]
  },
  {
   "cell_type": "code",
   "execution_count": 122,
   "id": "e520a36c-8bf0-49d3-8369-c88b7586d372",
   "metadata": {},
   "outputs": [],
   "source": [
    "cm = confusion_matrix(y_test,y_test_pred)"
   ]
  },
  {
   "cell_type": "code",
   "execution_count": 125,
   "id": "1c44f74f-e637-47b8-b0c8-894134cad6d8",
   "metadata": {},
   "outputs": [],
   "source": [
    "true_neg = cm[0][0]\n",
    "false_neg = cm[1][0]\n",
    "false_pos = cm[0][1]\n",
    "true_pos = cm[1][1]"
   ]
  },
  {
   "cell_type": "code",
   "execution_count": 126,
   "id": "014f629d-4709-4648-a91a-61565bb48bd7",
   "metadata": {},
   "outputs": [
    {
     "data": {
      "text/plain": [
       "0.8730208009934803"
      ]
     },
     "execution_count": 126,
     "metadata": {},
     "output_type": "execute_result"
    }
   ],
   "source": [
    "sensitivity = true_pos/(true_pos + false_neg)\n",
    "sensitivity"
   ]
  },
  {
   "cell_type": "code",
   "execution_count": 127,
   "id": "a6e32edb-705b-4cde-8e81-f9ee0d6b6a13",
   "metadata": {},
   "outputs": [
    {
     "data": {
      "text/plain": [
       "0.7108944467994913"
      ]
     },
     "execution_count": 127,
     "metadata": {},
     "output_type": "execute_result"
    }
   ],
   "source": [
    "specificity = true_neg/(true_neg + false_pos)\n",
    "specificity"
   ]
  },
  {
   "cell_type": "code",
   "execution_count": 128,
   "id": "e56951bb-d2ba-44cf-8bda-b37ba423585c",
   "metadata": {},
   "outputs": [
    {
     "data": {
      "text/plain": [
       "0.1609075919420747"
      ]
     },
     "execution_count": 128,
     "metadata": {},
     "output_type": "execute_result"
    }
   ],
   "source": [
    "accuracy = (true_pos + true_neg)/len(depression3)\n",
    "accuracy"
   ]
  },
  {
   "cell_type": "code",
   "execution_count": 129,
   "id": "8daef27e-c253-48c0-9517-0443294f194e",
   "metadata": {},
   "outputs": [
    {
     "data": {
      "text/plain": [
       "0.8048082427017744"
      ]
     },
     "execution_count": 129,
     "metadata": {},
     "output_type": "execute_result"
    }
   ],
   "source": [
    "precision = true_pos/(true_pos + false_pos)\n",
    "precision"
   ]
  },
  {
   "cell_type": "code",
   "execution_count": 130,
   "id": "4fdef4f9-dd8f-4196-be48-771092bb92ab",
   "metadata": {},
   "outputs": [
    {
     "data": {
      "text/html": [
       "<style>#sk-container-id-2 {color: black;}#sk-container-id-2 pre{padding: 0;}#sk-container-id-2 div.sk-toggleable {background-color: white;}#sk-container-id-2 label.sk-toggleable__label {cursor: pointer;display: block;width: 100%;margin-bottom: 0;padding: 0.3em;box-sizing: border-box;text-align: center;}#sk-container-id-2 label.sk-toggleable__label-arrow:before {content: \"▸\";float: left;margin-right: 0.25em;color: #696969;}#sk-container-id-2 label.sk-toggleable__label-arrow:hover:before {color: black;}#sk-container-id-2 div.sk-estimator:hover label.sk-toggleable__label-arrow:before {color: black;}#sk-container-id-2 div.sk-toggleable__content {max-height: 0;max-width: 0;overflow: hidden;text-align: left;background-color: #f0f8ff;}#sk-container-id-2 div.sk-toggleable__content pre {margin: 0.2em;color: black;border-radius: 0.25em;background-color: #f0f8ff;}#sk-container-id-2 input.sk-toggleable__control:checked~div.sk-toggleable__content {max-height: 200px;max-width: 100%;overflow: auto;}#sk-container-id-2 input.sk-toggleable__control:checked~label.sk-toggleable__label-arrow:before {content: \"▾\";}#sk-container-id-2 div.sk-estimator input.sk-toggleable__control:checked~label.sk-toggleable__label {background-color: #d4ebff;}#sk-container-id-2 div.sk-label input.sk-toggleable__control:checked~label.sk-toggleable__label {background-color: #d4ebff;}#sk-container-id-2 input.sk-hidden--visually {border: 0;clip: rect(1px 1px 1px 1px);clip: rect(1px, 1px, 1px, 1px);height: 1px;margin: -1px;overflow: hidden;padding: 0;position: absolute;width: 1px;}#sk-container-id-2 div.sk-estimator {font-family: monospace;background-color: #f0f8ff;border: 1px dotted black;border-radius: 0.25em;box-sizing: border-box;margin-bottom: 0.5em;}#sk-container-id-2 div.sk-estimator:hover {background-color: #d4ebff;}#sk-container-id-2 div.sk-parallel-item::after {content: \"\";width: 100%;border-bottom: 1px solid gray;flex-grow: 1;}#sk-container-id-2 div.sk-label:hover label.sk-toggleable__label {background-color: #d4ebff;}#sk-container-id-2 div.sk-serial::before {content: \"\";position: absolute;border-left: 1px solid gray;box-sizing: border-box;top: 0;bottom: 0;left: 50%;z-index: 0;}#sk-container-id-2 div.sk-serial {display: flex;flex-direction: column;align-items: center;background-color: white;padding-right: 0.2em;padding-left: 0.2em;position: relative;}#sk-container-id-2 div.sk-item {position: relative;z-index: 1;}#sk-container-id-2 div.sk-parallel {display: flex;align-items: stretch;justify-content: center;background-color: white;position: relative;}#sk-container-id-2 div.sk-item::before, #sk-container-id-2 div.sk-parallel-item::before {content: \"\";position: absolute;border-left: 1px solid gray;box-sizing: border-box;top: 0;bottom: 0;left: 50%;z-index: -1;}#sk-container-id-2 div.sk-parallel-item {display: flex;flex-direction: column;z-index: 1;position: relative;background-color: white;}#sk-container-id-2 div.sk-parallel-item:first-child::after {align-self: flex-end;width: 50%;}#sk-container-id-2 div.sk-parallel-item:last-child::after {align-self: flex-start;width: 50%;}#sk-container-id-2 div.sk-parallel-item:only-child::after {width: 0;}#sk-container-id-2 div.sk-dashed-wrapped {border: 1px dashed gray;margin: 0 0.4em 0.5em 0.4em;box-sizing: border-box;padding-bottom: 0.4em;background-color: white;}#sk-container-id-2 div.sk-label label {font-family: monospace;font-weight: bold;display: inline-block;line-height: 1.2em;}#sk-container-id-2 div.sk-label-container {text-align: center;}#sk-container-id-2 div.sk-container {/* jupyter's `normalize.less` sets `[hidden] { display: none; }` but bootstrap.min.css set `[hidden] { display: none !important; }` so we also need the `!important` here to be able to override the default hidden behavior on the sphinx rendered scikit-learn.org. See: https://github.com/scikit-learn/scikit-learn/issues/21755 */display: inline-block !important;position: relative;}#sk-container-id-2 div.sk-text-repr-fallback {display: none;}</style><div id=\"sk-container-id-2\" class=\"sk-top-container\"><div class=\"sk-text-repr-fallback\"><pre>KNeighborsClassifier(n_neighbors=100)</pre><b>In a Jupyter environment, please rerun this cell to show the HTML representation or trust the notebook. <br />On GitHub, the HTML representation is unable to render, please try loading this page with nbviewer.org.</b></div><div class=\"sk-container\" hidden><div class=\"sk-item\"><div class=\"sk-estimator sk-toggleable\"><input class=\"sk-toggleable__control sk-hidden--visually\" id=\"sk-estimator-id-2\" type=\"checkbox\" checked><label for=\"sk-estimator-id-2\" class=\"sk-toggleable__label sk-toggleable__label-arrow\">KNeighborsClassifier</label><div class=\"sk-toggleable__content\"><pre>KNeighborsClassifier(n_neighbors=100)</pre></div></div></div></div></div>"
      ],
      "text/plain": [
       "KNeighborsClassifier(n_neighbors=100)"
      ]
     },
     "execution_count": 130,
     "metadata": {},
     "output_type": "execute_result"
    }
   ],
   "source": [
    "knn = KNeighborsClassifier(n_neighbors = 100)\n",
    "knn.fit(x_train, y_train)"
   ]
  },
  {
   "cell_type": "code",
   "execution_count": 131,
   "id": "df9e5f82-e8f1-4c54-a110-76f0fbf59070",
   "metadata": {},
   "outputs": [],
   "source": [
    "y_test_pred = knn.predict(x_test)"
   ]
  },
  {
   "cell_type": "code",
   "execution_count": 132,
   "id": "9d788aa6-bcb8-4448-bf55-95abd6244d6f",
   "metadata": {},
   "outputs": [],
   "source": [
    "cm2 = confusion_matrix(y_test,y_test_pred)"
   ]
  },
  {
   "cell_type": "code",
   "execution_count": 136,
   "id": "b8badf95-5dbb-416d-bb04-2962c81e7d3a",
   "metadata": {},
   "outputs": [],
   "source": [
    "true_neg2 = cm2[0][0]\n",
    "false_neg2 = cm2[1][0]\n",
    "false_pos2 = cm2[0][1]\n",
    "true_pos2 = cm2[1][1]"
   ]
  },
  {
   "cell_type": "code",
   "execution_count": 142,
   "id": "6f41f9ab-6630-444f-9f3f-67cd9be3298a",
   "metadata": {},
   "outputs": [
    {
     "data": {
      "text/plain": [
       "0.8782986650108662"
      ]
     },
     "execution_count": 142,
     "metadata": {},
     "output_type": "execute_result"
    }
   ],
   "source": [
    "sen = true_pos2/(true_pos2 + false_neg2)\n",
    "sen"
   ]
  },
  {
   "cell_type": "code",
   "execution_count": 143,
   "id": "42a1e886-ce2a-42bf-9e22-f3a873515253",
   "metadata": {},
   "outputs": [
    {
     "data": {
      "text/plain": [
       "0.6926663840610429"
      ]
     },
     "execution_count": 143,
     "metadata": {},
     "output_type": "execute_result"
    }
   ],
   "source": [
    "spec = true_neg2/(true_neg2 + false_pos2)\n",
    "spec"
   ]
  },
  {
   "cell_type": "code",
   "execution_count": 144,
   "id": "ede9e92f-5181-42a3-9fba-7ab605d487f0",
   "metadata": {},
   "outputs": [
    {
     "data": {
      "text/plain": [
       "0.15997562549286687"
      ]
     },
     "execution_count": 144,
     "metadata": {},
     "output_type": "execute_result"
    }
   ],
   "source": [
    "acc = (true_pos2 + true_neg2)/len(depression3)\n",
    "acc"
   ]
  },
  {
   "cell_type": "code",
   "execution_count": 145,
   "id": "b4ce93a1-e11a-4999-89ac-3cfb9e935f91",
   "metadata": {},
   "outputs": [
    {
     "data": {
      "text/plain": [
       "0.7960045019696117"
      ]
     },
     "execution_count": 145,
     "metadata": {},
     "output_type": "execute_result"
    }
   ],
   "source": [
    "prec = true_pos2/(true_pos2 + false_pos2)\n",
    "prec"
   ]
  },
  {
   "cell_type": "code",
   "execution_count": 146,
   "id": "dd4bdf45-2be3-4ed9-a37a-c9b5bc07cb74",
   "metadata": {},
   "outputs": [
    {
     "data": {
      "text/html": [
       "<style>#sk-container-id-3 {color: black;}#sk-container-id-3 pre{padding: 0;}#sk-container-id-3 div.sk-toggleable {background-color: white;}#sk-container-id-3 label.sk-toggleable__label {cursor: pointer;display: block;width: 100%;margin-bottom: 0;padding: 0.3em;box-sizing: border-box;text-align: center;}#sk-container-id-3 label.sk-toggleable__label-arrow:before {content: \"▸\";float: left;margin-right: 0.25em;color: #696969;}#sk-container-id-3 label.sk-toggleable__label-arrow:hover:before {color: black;}#sk-container-id-3 div.sk-estimator:hover label.sk-toggleable__label-arrow:before {color: black;}#sk-container-id-3 div.sk-toggleable__content {max-height: 0;max-width: 0;overflow: hidden;text-align: left;background-color: #f0f8ff;}#sk-container-id-3 div.sk-toggleable__content pre {margin: 0.2em;color: black;border-radius: 0.25em;background-color: #f0f8ff;}#sk-container-id-3 input.sk-toggleable__control:checked~div.sk-toggleable__content {max-height: 200px;max-width: 100%;overflow: auto;}#sk-container-id-3 input.sk-toggleable__control:checked~label.sk-toggleable__label-arrow:before {content: \"▾\";}#sk-container-id-3 div.sk-estimator input.sk-toggleable__control:checked~label.sk-toggleable__label {background-color: #d4ebff;}#sk-container-id-3 div.sk-label input.sk-toggleable__control:checked~label.sk-toggleable__label {background-color: #d4ebff;}#sk-container-id-3 input.sk-hidden--visually {border: 0;clip: rect(1px 1px 1px 1px);clip: rect(1px, 1px, 1px, 1px);height: 1px;margin: -1px;overflow: hidden;padding: 0;position: absolute;width: 1px;}#sk-container-id-3 div.sk-estimator {font-family: monospace;background-color: #f0f8ff;border: 1px dotted black;border-radius: 0.25em;box-sizing: border-box;margin-bottom: 0.5em;}#sk-container-id-3 div.sk-estimator:hover {background-color: #d4ebff;}#sk-container-id-3 div.sk-parallel-item::after {content: \"\";width: 100%;border-bottom: 1px solid gray;flex-grow: 1;}#sk-container-id-3 div.sk-label:hover label.sk-toggleable__label {background-color: #d4ebff;}#sk-container-id-3 div.sk-serial::before {content: \"\";position: absolute;border-left: 1px solid gray;box-sizing: border-box;top: 0;bottom: 0;left: 50%;z-index: 0;}#sk-container-id-3 div.sk-serial {display: flex;flex-direction: column;align-items: center;background-color: white;padding-right: 0.2em;padding-left: 0.2em;position: relative;}#sk-container-id-3 div.sk-item {position: relative;z-index: 1;}#sk-container-id-3 div.sk-parallel {display: flex;align-items: stretch;justify-content: center;background-color: white;position: relative;}#sk-container-id-3 div.sk-item::before, #sk-container-id-3 div.sk-parallel-item::before {content: \"\";position: absolute;border-left: 1px solid gray;box-sizing: border-box;top: 0;bottom: 0;left: 50%;z-index: -1;}#sk-container-id-3 div.sk-parallel-item {display: flex;flex-direction: column;z-index: 1;position: relative;background-color: white;}#sk-container-id-3 div.sk-parallel-item:first-child::after {align-self: flex-end;width: 50%;}#sk-container-id-3 div.sk-parallel-item:last-child::after {align-self: flex-start;width: 50%;}#sk-container-id-3 div.sk-parallel-item:only-child::after {width: 0;}#sk-container-id-3 div.sk-dashed-wrapped {border: 1px dashed gray;margin: 0 0.4em 0.5em 0.4em;box-sizing: border-box;padding-bottom: 0.4em;background-color: white;}#sk-container-id-3 div.sk-label label {font-family: monospace;font-weight: bold;display: inline-block;line-height: 1.2em;}#sk-container-id-3 div.sk-label-container {text-align: center;}#sk-container-id-3 div.sk-container {/* jupyter's `normalize.less` sets `[hidden] { display: none; }` but bootstrap.min.css set `[hidden] { display: none !important; }` so we also need the `!important` here to be able to override the default hidden behavior on the sphinx rendered scikit-learn.org. See: https://github.com/scikit-learn/scikit-learn/issues/21755 */display: inline-block !important;position: relative;}#sk-container-id-3 div.sk-text-repr-fallback {display: none;}</style><div id=\"sk-container-id-3\" class=\"sk-top-container\"><div class=\"sk-text-repr-fallback\"><pre>KNeighborsClassifier(n_neighbors=1000)</pre><b>In a Jupyter environment, please rerun this cell to show the HTML representation or trust the notebook. <br />On GitHub, the HTML representation is unable to render, please try loading this page with nbviewer.org.</b></div><div class=\"sk-container\" hidden><div class=\"sk-item\"><div class=\"sk-estimator sk-toggleable\"><input class=\"sk-toggleable__control sk-hidden--visually\" id=\"sk-estimator-id-3\" type=\"checkbox\" checked><label for=\"sk-estimator-id-3\" class=\"sk-toggleable__label sk-toggleable__label-arrow\">KNeighborsClassifier</label><div class=\"sk-toggleable__content\"><pre>KNeighborsClassifier(n_neighbors=1000)</pre></div></div></div></div></div>"
      ],
      "text/plain": [
       "KNeighborsClassifier(n_neighbors=1000)"
      ]
     },
     "execution_count": 146,
     "metadata": {},
     "output_type": "execute_result"
    }
   ],
   "source": [
    "knn = KNeighborsClassifier(n_neighbors = 1000)\n",
    "knn.fit(x_train, y_train)"
   ]
  },
  {
   "cell_type": "code",
   "execution_count": 147,
   "id": "7953c208-254c-4911-b317-d48b04230490",
   "metadata": {},
   "outputs": [],
   "source": [
    "y_test_pred = knn.predict(x_test)"
   ]
  },
  {
   "cell_type": "code",
   "execution_count": 148,
   "id": "1dacf981-83d2-4d6c-809c-19f0bfd9fa03",
   "metadata": {},
   "outputs": [],
   "source": [
    "cm3 = confusion_matrix(y_test,y_test_pred)"
   ]
  },
  {
   "cell_type": "code",
   "execution_count": 149,
   "id": "5388343b-0757-451f-b395-a74493f50f00",
   "metadata": {},
   "outputs": [],
   "source": [
    "true_neg3 = cm3[0][0]\n",
    "false_neg3 = cm3[1][0]\n",
    "false_pos3 = cm3[0][1]\n",
    "true_pos3 = cm3[1][1]"
   ]
  },
  {
   "cell_type": "code",
   "execution_count": 150,
   "id": "1e328275-4cb6-4c41-a44c-6e7ac55e65f1",
   "metadata": {},
   "outputs": [
    {
     "data": {
      "text/plain": [
       "0.8851288419745421"
      ]
     },
     "execution_count": 150,
     "metadata": {},
     "output_type": "execute_result"
    }
   ],
   "source": [
    "sen = true_pos3/(true_pos3 + false_neg3)\n",
    "sen"
   ]
  },
  {
   "cell_type": "code",
   "execution_count": 151,
   "id": "1b8cc168-905c-4786-898a-074995a79088",
   "metadata": {},
   "outputs": [
    {
     "data": {
      "text/plain": [
       "0.6231454005934718"
      ]
     },
     "execution_count": 151,
     "metadata": {},
     "output_type": "execute_result"
    }
   ],
   "source": [
    "spec = true_neg3/(true_neg3 + false_pos3)\n",
    "spec"
   ]
  },
  {
   "cell_type": "code",
   "execution_count": 154,
   "id": "7d73ce03-45d1-4f65-87bd-340bc09fccc8",
   "metadata": {},
   "outputs": [
    {
     "data": {
      "text/plain": [
       "0.1548856548856549"
      ]
     },
     "execution_count": 154,
     "metadata": {},
     "output_type": "execute_result"
    }
   ],
   "source": [
    "acc = (true_pos3 + true_neg3)/len(depression3)\n",
    "acc"
   ]
  },
  {
   "cell_type": "code",
   "execution_count": 158,
   "id": "c84749fe-d41e-4ef4-9b52-a75b83f4926e",
   "metadata": {},
   "outputs": [
    {
     "data": {
      "text/plain": [
       "0.7622994652406417"
      ]
     },
     "execution_count": 158,
     "metadata": {},
     "output_type": "execute_result"
    }
   ],
   "source": [
    "prec = true_pos3/(true_pos3 + false_pos3)\n",
    "prec"
   ]
  },
  {
   "cell_type": "code",
   "execution_count": 188,
   "id": "3a743e65-7e76-44fa-a941-152a8b9d2d3e",
   "metadata": {},
   "outputs": [
    {
     "data": {
      "text/html": [
       "<style>#sk-container-id-7 {color: black;}#sk-container-id-7 pre{padding: 0;}#sk-container-id-7 div.sk-toggleable {background-color: white;}#sk-container-id-7 label.sk-toggleable__label {cursor: pointer;display: block;width: 100%;margin-bottom: 0;padding: 0.3em;box-sizing: border-box;text-align: center;}#sk-container-id-7 label.sk-toggleable__label-arrow:before {content: \"▸\";float: left;margin-right: 0.25em;color: #696969;}#sk-container-id-7 label.sk-toggleable__label-arrow:hover:before {color: black;}#sk-container-id-7 div.sk-estimator:hover label.sk-toggleable__label-arrow:before {color: black;}#sk-container-id-7 div.sk-toggleable__content {max-height: 0;max-width: 0;overflow: hidden;text-align: left;background-color: #f0f8ff;}#sk-container-id-7 div.sk-toggleable__content pre {margin: 0.2em;color: black;border-radius: 0.25em;background-color: #f0f8ff;}#sk-container-id-7 input.sk-toggleable__control:checked~div.sk-toggleable__content {max-height: 200px;max-width: 100%;overflow: auto;}#sk-container-id-7 input.sk-toggleable__control:checked~label.sk-toggleable__label-arrow:before {content: \"▾\";}#sk-container-id-7 div.sk-estimator input.sk-toggleable__control:checked~label.sk-toggleable__label {background-color: #d4ebff;}#sk-container-id-7 div.sk-label input.sk-toggleable__control:checked~label.sk-toggleable__label {background-color: #d4ebff;}#sk-container-id-7 input.sk-hidden--visually {border: 0;clip: rect(1px 1px 1px 1px);clip: rect(1px, 1px, 1px, 1px);height: 1px;margin: -1px;overflow: hidden;padding: 0;position: absolute;width: 1px;}#sk-container-id-7 div.sk-estimator {font-family: monospace;background-color: #f0f8ff;border: 1px dotted black;border-radius: 0.25em;box-sizing: border-box;margin-bottom: 0.5em;}#sk-container-id-7 div.sk-estimator:hover {background-color: #d4ebff;}#sk-container-id-7 div.sk-parallel-item::after {content: \"\";width: 100%;border-bottom: 1px solid gray;flex-grow: 1;}#sk-container-id-7 div.sk-label:hover label.sk-toggleable__label {background-color: #d4ebff;}#sk-container-id-7 div.sk-serial::before {content: \"\";position: absolute;border-left: 1px solid gray;box-sizing: border-box;top: 0;bottom: 0;left: 50%;z-index: 0;}#sk-container-id-7 div.sk-serial {display: flex;flex-direction: column;align-items: center;background-color: white;padding-right: 0.2em;padding-left: 0.2em;position: relative;}#sk-container-id-7 div.sk-item {position: relative;z-index: 1;}#sk-container-id-7 div.sk-parallel {display: flex;align-items: stretch;justify-content: center;background-color: white;position: relative;}#sk-container-id-7 div.sk-item::before, #sk-container-id-7 div.sk-parallel-item::before {content: \"\";position: absolute;border-left: 1px solid gray;box-sizing: border-box;top: 0;bottom: 0;left: 50%;z-index: -1;}#sk-container-id-7 div.sk-parallel-item {display: flex;flex-direction: column;z-index: 1;position: relative;background-color: white;}#sk-container-id-7 div.sk-parallel-item:first-child::after {align-self: flex-end;width: 50%;}#sk-container-id-7 div.sk-parallel-item:last-child::after {align-self: flex-start;width: 50%;}#sk-container-id-7 div.sk-parallel-item:only-child::after {width: 0;}#sk-container-id-7 div.sk-dashed-wrapped {border: 1px dashed gray;margin: 0 0.4em 0.5em 0.4em;box-sizing: border-box;padding-bottom: 0.4em;background-color: white;}#sk-container-id-7 div.sk-label label {font-family: monospace;font-weight: bold;display: inline-block;line-height: 1.2em;}#sk-container-id-7 div.sk-label-container {text-align: center;}#sk-container-id-7 div.sk-container {/* jupyter's `normalize.less` sets `[hidden] { display: none; }` but bootstrap.min.css set `[hidden] { display: none !important; }` so we also need the `!important` here to be able to override the default hidden behavior on the sphinx rendered scikit-learn.org. See: https://github.com/scikit-learn/scikit-learn/issues/21755 */display: inline-block !important;position: relative;}#sk-container-id-7 div.sk-text-repr-fallback {display: none;}</style><div id=\"sk-container-id-7\" class=\"sk-top-container\"><div class=\"sk-text-repr-fallback\"><pre>KNeighborsClassifier(n_neighbors=10000)</pre><b>In a Jupyter environment, please rerun this cell to show the HTML representation or trust the notebook. <br />On GitHub, the HTML representation is unable to render, please try loading this page with nbviewer.org.</b></div><div class=\"sk-container\" hidden><div class=\"sk-item\"><div class=\"sk-estimator sk-toggleable\"><input class=\"sk-toggleable__control sk-hidden--visually\" id=\"sk-estimator-id-7\" type=\"checkbox\" checked><label for=\"sk-estimator-id-7\" class=\"sk-toggleable__label sk-toggleable__label-arrow\">KNeighborsClassifier</label><div class=\"sk-toggleable__content\"><pre>KNeighborsClassifier(n_neighbors=10000)</pre></div></div></div></div></div>"
      ],
      "text/plain": [
       "KNeighborsClassifier(n_neighbors=10000)"
      ]
     },
     "execution_count": 188,
     "metadata": {},
     "output_type": "execute_result"
    }
   ],
   "source": [
    "knn = KNeighborsClassifier(n_neighbors = 10000)\n",
    "knn.fit(x_train, y_train)"
   ]
  },
  {
   "cell_type": "code",
   "execution_count": 190,
   "id": "82fb0eae-cbf1-4204-ada0-180421747b09",
   "metadata": {},
   "outputs": [],
   "source": [
    "y_test_pred = knn.predict(x_test)"
   ]
  },
  {
   "cell_type": "code",
   "execution_count": 191,
   "id": "d7cdd0d8-6deb-4d6e-a901-e50afc66d852",
   "metadata": {},
   "outputs": [],
   "source": [
    "cm4 = confusion_matrix(y_test,y_test_pred)"
   ]
  },
  {
   "cell_type": "code",
   "execution_count": 192,
   "id": "382f18b7-939b-4bbd-961a-04b919966566",
   "metadata": {},
   "outputs": [],
   "source": [
    "true_neg4 = cm4[0][0]\n",
    "false_neg4 = cm4[1][0]\n",
    "false_pos4 = cm4[0][1]\n",
    "true_pos4 = cm4[1][1]"
   ]
  },
  {
   "cell_type": "code",
   "execution_count": 193,
   "id": "83facff2-4b60-4172-a6b5-01edd3a94a8f",
   "metadata": {},
   "outputs": [
    {
     "data": {
      "text/plain": [
       "0.9484632101831729"
      ]
     },
     "execution_count": 193,
     "metadata": {},
     "output_type": "execute_result"
    }
   ],
   "source": [
    "sen = true_pos4/(true_pos4 + false_neg4)\n",
    "sen"
   ]
  },
  {
   "cell_type": "code",
   "execution_count": 194,
   "id": "d28f5ef4-e5c4-403c-bd06-05edd7204426",
   "metadata": {},
   "outputs": [
    {
     "data": {
      "text/plain": [
       "0.2772361169987283"
      ]
     },
     "execution_count": 194,
     "metadata": {},
     "output_type": "execute_result"
    }
   ],
   "source": [
    "spec = true_neg4/(true_neg4 + false_pos4)\n",
    "spec"
   ]
  },
  {
   "cell_type": "code",
   "execution_count": 195,
   "id": "6ff85724-c26f-4bfe-b92d-b51b1d121b99",
   "metadata": {},
   "outputs": [
    {
     "data": {
      "text/plain": [
       "0.13294859846583984"
      ]
     },
     "execution_count": 195,
     "metadata": {},
     "output_type": "execute_result"
    }
   ],
   "source": [
    "acc = (true_pos4 + true_neg4)/len(depression3)\n",
    "acc"
   ]
  },
  {
   "cell_type": "code",
   "execution_count": 196,
   "id": "fdd1aa45-956f-43ff-8b3e-d8d1555a2630",
   "metadata": {},
   "outputs": [
    {
     "data": {
      "text/plain": [
       "0.6418067226890757"
      ]
     },
     "execution_count": 196,
     "metadata": {},
     "output_type": "execute_result"
    }
   ],
   "source": [
    "prec = true_pos4/(true_pos4 + false_pos4)\n",
    "prec"
   ]
  },
  {
   "cell_type": "markdown",
   "id": "43302309-43da-4baa-baa1-68bf134d5f35",
   "metadata": {},
   "source": [
    "Looks like the k classifer has a limit (k = 10000) and the sen to prec dramatically changes too."
   ]
  }
 ],
 "metadata": {
  "kernelspec": {
   "display_name": "Python [conda env:base] *",
   "language": "python",
   "name": "conda-base-py"
  },
  "language_info": {
   "codemirror_mode": {
    "name": "ipython",
    "version": 3
   },
   "file_extension": ".py",
   "mimetype": "text/x-python",
   "name": "python",
   "nbconvert_exporter": "python",
   "pygments_lexer": "ipython3",
   "version": "3.12.7"
  }
 },
 "nbformat": 4,
 "nbformat_minor": 5
}
